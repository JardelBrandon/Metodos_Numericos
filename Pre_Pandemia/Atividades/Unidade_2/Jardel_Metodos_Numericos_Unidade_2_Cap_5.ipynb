{
 "cells": [
  {
   "cell_type": "markdown",
   "metadata": {},
   "source": [
    "**<p>Disciplina:** Métodos Numéricos</p>\n",
    "**<p>Semestre:** 2020.1</p>\n",
    "**<p>Aluno:** Jardel Brandon de Araujo Regis</p>\n",
    "**<p>Mátricula:** 201621250014</p>\n",
    "**<p>2ª Unidade:** RAÍZES E OTIMIZAÇÃO</p>\n",
    "\n",
    "---\n",
    "# <center>Roteiro de atividades do Capítulo 5 (CHAPRA, 2013)</center>\n",
    "## <center>Solução de Equações Lineares Usando Python</center>\n",
    "---"
   ]
  },
  {
   "cell_type": "code",
   "execution_count": null,
   "metadata": {},
   "outputs": [],
   "source": [
    "import scipy\n",
    "import numpy as np\n",
    "import scipy.optimize as opt\n",
    "import pandas as pd\n",
    "from itertools import *\n",
    "from sympy import *"
   ]
  },
  {
   "cell_type": "code",
   "execution_count": null,
   "metadata": {},
   "outputs": [],
   "source": [
    "#funções auxiliares \n",
    "\n",
    "erro_total = lambda valor_verdadeiro, aproximacao: valor_verdadeiro - aproximacao\n",
    "\n",
    "erro_relativo_fracionario = lambda valor_verdadeiro, aproximacao: (valor_verdadeiro - aproximacao) / valor_verdadeiro\n",
    "\n",
    "erro_relativo_percentual = lambda valor_verdadeiro, aproximacao: (valor_verdadeiro - aproximacao) / valor_verdadeiro * 100\n",
    "\n",
    "def imprimir_tabela(dados, index = None):\n",
    "    pd.set_option(\"display.precision\", 20)\n",
    "    df = pd.DataFrame(dados, index)\n",
    "    print(df)\n",
    "\n",
    "def imprimir_grafico(dados):\n",
    "    plt.xlabel('Intervalo')\n",
    "    plt.ylabel('Valor resultante')\n",
    "    plt.grid(True)\n",
    "    plt.style.use('fivethirtyeight')\n",
    "    plt.plot(np.arange(len(dados)), dados)\n",
    "    plt.show"
   ]
  },
  {
   "cell_type": "markdown",
   "metadata": {},
   "source": [
    "### **Problema 5.1**"
   ]
  },
  {
   "cell_type": "code",
   "execution_count": null,
   "metadata": {},
   "outputs": [],
   "source": [
    "g = 9.81\n",
    "m = 80\n",
    "v = 36\n",
    "t = 4\n",
    "\n",
    "f = lambda cd: np.sqrt(g * m / cd) * np.tanh(np.sqrt(g * cd / m) * t) - v\n",
    "\n",
    "np.sign(f(0.1) * f(0.2))\n",
    "\n",
    "raizes = [opt.root_scalar(f,method='bisect', bracket=[0.1,0.2], rtol=2e-2, maxiter=i).root for i in count()]\n",
    "\n",
    "print(raizes)\n",
    "VALOR_VERDADEIRO = root(f)\n",
    "\n",
    "erros_relativos_percentuais = [erro_relativo_percentual(raiz_quadrada, aproximacao) for aproximacao in divisoes_e_medias]\n",
    "\n",
    "tabela = {'Valor':                     valor,\n",
    "          'Raiz quadrada':             raiz_quadrada,\n",
    "          'Divisao e media (x_i+1)':   divisoes_e_medias,\n",
    "          'Erro total':                erros_totais,\n",
    "          'Erro relativo fracionario': erros_relativos,\n",
    "          'Erro relativo percentual':  erros_relativos_percentuais}\n",
    "\n",
    "imprimir_tabela(tabela)"
   ]
  },
  {
   "cell_type": "markdown",
   "metadata": {},
   "source": [
    "### **Problema 5.5**\n",
    "#### **a)**"
   ]
  },
  {
   "cell_type": "code",
   "execution_count": null,
   "metadata": {},
   "outputs": [],
   "source": [
    "import matplotlib.pyplot as plt\n",
    "%matplotlib inline"
   ]
  },
  {
   "cell_type": "code",
   "execution_count": null,
   "metadata": {},
   "outputs": [],
   "source": [
    "f = lambda x: - 12 - 21 * x + 18 * x ** 2 - 2.75 * x ** 3"
   ]
  },
  {
   "cell_type": "code",
   "execution_count": null,
   "metadata": {},
   "outputs": [],
   "source": [
    "x = np.linspace(-3, 7,10000)\n",
    "plt.plot(x,f(x))\n",
    "plt.grid(True)"
   ]
  },
  {
   "cell_type": "markdown",
   "metadata": {},
   "source": [
    "#### **b)**"
   ]
  },
  {
   "cell_type": "code",
   "execution_count": null,
   "metadata": {},
   "outputs": [],
   "source": [
    "raiz = opt.root_scalar(f,method='bisect', bracket=[-1,0], rtol=1e-2).root \n",
    "raiz"
   ]
  },
  {
   "cell_type": "markdown",
   "metadata": {},
   "source": [
    "#### **c)**"
   ]
  },
  {
   "cell_type": "code",
   "execution_count": null,
   "metadata": {},
   "outputs": [],
   "source": [
    "def falsa_posicao(f, a, b, TOL=1e-10, MAX_ITER=200):\n",
    "    FA = f(a)\n",
    "      \n",
    "    for i in range(1, MAX_ITER):\n",
    "        p = (a*f(b)-b*f(a))/(f(b) - f(a))\n",
    "        FP = f(p)\n",
    "          \n",
    "        if(FP == 0 or np.abs(f(p)) < TOL):\n",
    "            return p\n",
    "        \n",
    "        if(FA*FP > 0):\n",
    "            a = p\n",
    "        else:\n",
    "            b = p\n",
    "    return p"
   ]
  },
  {
   "cell_type": "code",
   "execution_count": null,
   "metadata": {},
   "outputs": [],
   "source": [
    "raiz = falsa_posicao(f, -1, 0, 1e-2, 10000)\n",
    "raiz"
   ]
  },
  {
   "cell_type": "markdown",
   "metadata": {},
   "source": [
    "### Problema 5.8\n",
    "#### **a)**"
   ]
  },
  {
   "cell_type": "code",
   "execution_count": null,
   "metadata": {},
   "outputs": [],
   "source": [
    "f = lambda cd: np.sqrt(g * m / cd) * np.tanh(np.sqrt(g * cd / m) * t) - v\n",
    "vp = opt.root_scalar(f, method='bisect', bracket=[0.1,0.2], xtol=2e-2).root\n",
    "r = []\n",
    "e = []\n",
    "for i in range(1,7):\n",
    "    x = opt.root_scalar(f,method='bisect',bracket=[0.1,0.2], maxiter=i).root\n",
    "    r.append(x)\n",
    "    e.append(np.around(np.absolute(x - vp) * 100/2, decimals=2))\n",
    "\n",
    "pd.DataFrame({'Iterações': range(0,6), 'Raiz': r, 'Erro':e}).set_index('Iterações')"
   ]
  },
  {
   "cell_type": "markdown",
   "metadata": {},
   "source": [
    "#### **b**"
   ]
  },
  {
   "cell_type": "code",
   "execution_count": null,
   "metadata": {},
   "outputs": [],
   "source": []
  },
  {
   "cell_type": "markdown",
   "metadata": {},
   "source": [
    "### Problema 5.10\n",
    "#### **a)**"
   ]
  },
  {
   "cell_type": "code",
   "execution_count": null,
   "metadata": {},
   "outputs": [],
   "source": [
    "f = lambda y: 1 - Q ** 2 / (g * 3 * y + y ** 2 / 2) ** 3 * (3 + y)"
   ]
  },
  {
   "cell_type": "code",
   "execution_count": null,
   "metadata": {},
   "outputs": [],
   "source": [
    "Q = 20\n",
    "g = 9.81"
   ]
  },
  {
   "cell_type": "code",
   "execution_count": null,
   "metadata": {},
   "outputs": [],
   "source": [
    "x = np.linspace(0.25, 3,10000)\n",
    "plt.plot(x,f(x))\n",
    "plt.grid(True)"
   ]
  },
  {
   "cell_type": "markdown",
   "metadata": {},
   "source": [
    "#### **b)**"
   ]
  },
  {
   "cell_type": "code",
   "execution_count": null,
   "metadata": {},
   "outputs": [],
   "source": [
    "raiz = opt.root_scalar(f,method='bisect', bracket=[0.5,2.5], rtol=1e-2, maxiter=10).root\n",
    "raiz"
   ]
  },
  {
   "cell_type": "code",
   "execution_count": null,
   "metadata": {},
   "outputs": [],
   "source": [
    "print(f(0.5))\n",
    "print(f(2.5))\n",
    "np.sign(f(0.5) * f(2.5))"
   ]
  },
  {
   "cell_type": "markdown",
   "metadata": {},
   "source": [
    "#### **c)**"
   ]
  },
  {
   "cell_type": "code",
   "execution_count": null,
   "metadata": {},
   "outputs": [],
   "source": [
    "raiz = falsa_posicao(f, 0.5, 2.5, 1e-2, 10)\n",
    "raiz"
   ]
  },
  {
   "cell_type": "markdown",
   "metadata": {},
   "source": [
    "#### **Discussão dos resultados**\n",
    "\n",
    "O erro acontece pois na verificação dos intervalos a função contínua não mudou de sinal, subtendedo-se que não há raizes reais no intervalo proposto"
   ]
  },
  {
   "cell_type": "markdown",
   "metadata": {},
   "source": [
    "### Problema 5.11"
   ]
  },
  {
   "cell_type": "code",
   "execution_count": null,
   "metadata": {},
   "outputs": [],
   "source": [
    "f = lambda S: S0 - Vm * t + Ks * np.log(S0 / S) - S"
   ]
  },
  {
   "cell_type": "code",
   "execution_count": null,
   "metadata": {},
   "outputs": [],
   "source": [
    "S0 = 8\n",
    "Vm = 0.7\n",
    "Ks = 2.5"
   ]
  },
  {
   "cell_type": "code",
   "execution_count": null,
   "metadata": {},
   "outputs": [],
   "source": [
    "t = np.linspace(0, 10,10000)\n",
    "plt.plot(t,f(x))\n",
    "plt.grid(True)"
   ]
  },
  {
   "cell_type": "markdown",
   "metadata": {},
   "source": [
    "### Problema 5.14"
   ]
  },
  {
   "cell_type": "code",
   "execution_count": null,
   "metadata": {},
   "outputs": [],
   "source": []
  },
  {
   "cell_type": "markdown",
   "metadata": {},
   "source": [
    "### Problema 5.15\n",
    "#### **a)**"
   ]
  },
  {
   "cell_type": "code",
   "execution_count": null,
   "metadata": {},
   "outputs": [],
   "source": []
  },
  {
   "cell_type": "markdown",
   "metadata": {},
   "source": [
    "#### b)"
   ]
  },
  {
   "cell_type": "code",
   "execution_count": null,
   "metadata": {},
   "outputs": [],
   "source": []
  },
  {
   "cell_type": "markdown",
   "metadata": {},
   "source": [
    "### Problema 5.16\n",
    "#### a)"
   ]
  },
  {
   "cell_type": "code",
   "execution_count": null,
   "metadata": {},
   "outputs": [],
   "source": []
  },
  {
   "cell_type": "markdown",
   "metadata": {},
   "source": [
    "#### **b)**"
   ]
  },
  {
   "cell_type": "code",
   "execution_count": null,
   "metadata": {},
   "outputs": [],
   "source": []
  },
  {
   "cell_type": "markdown",
   "metadata": {},
   "source": [
    "### Problema 5.18"
   ]
  },
  {
   "cell_type": "code",
   "execution_count": null,
   "metadata": {},
   "outputs": [],
   "source": []
  },
  {
   "cell_type": "markdown",
   "metadata": {},
   "source": [
    "### Problema 5.20"
   ]
  },
  {
   "cell_type": "code",
   "execution_count": null,
   "metadata": {},
   "outputs": [],
   "source": []
  }
 ],
 "metadata": {
  "kernelspec": {
   "display_name": "Python 3",
   "language": "python",
   "name": "python3"
  },
  "language_info": {
   "codemirror_mode": {
    "name": "ipython",
    "version": 3
   },
   "file_extension": ".py",
   "mimetype": "text/x-python",
   "name": "python",
   "nbconvert_exporter": "python",
   "pygments_lexer": "ipython3",
   "version": "3.7.6"
  }
 },
 "nbformat": 4,
 "nbformat_minor": 2
}
