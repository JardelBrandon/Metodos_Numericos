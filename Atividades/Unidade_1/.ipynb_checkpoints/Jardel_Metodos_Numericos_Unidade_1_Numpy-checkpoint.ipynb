{
 "cells": [
  {
   "cell_type": "markdown",
   "metadata": {},
   "source": [
    "**<p>Disciplina:** Métodos Numéricos</p>\n",
    "**<p>Semestre:** 2020.1</p>\n",
    "**<p>Aluno:** Jardel Brandon de Araujo Regis</p>\n",
    "**<p>Mátricula:** 201621250014</p>\n",
    "**<p>1ª Unidade:** REPRESENTAÇÃO NUMÉRICA E TIPOS DE ERROS</p>\n",
    "\n",
    "---\n",
    "# <center>Introdução ao Jupyter Notebook</center>\n",
    "## <center>Numpy</center>\n",
    "---"
   ]
  },
  {
   "cell_type": "code",
   "execution_count": 1,
   "metadata": {},
   "outputs": [],
   "source": [
    "import numpy as np"
   ]
  },
  {
   "cell_type": "markdown",
   "metadata": {},
   "source": [
    "#### Exercise 1 \n",
    "Existem outras formas de fazer essa importação? Liste-as e discuta suas vantagens e desvantagens."
   ]
  },
  {
   "cell_type": "markdown",
   "metadata": {},
   "source": [
    "#### Answer 1\n",
    "Sim, podemos realizar essa importação das seguintes maneiras:\n",
    "* import numpy\n",
    "  * **Vantagens** - Importa todo o módulo numpy, assim como o método utilizado acima\n",
    "  * **Desvantagens** - Todas as vezes que se desejar utilizar o módulo deve-se chamá-lo pelo nome inteiro, ao contrário do método utilizado acima que \"apelida\" o módulo para chamá-lo de outra maneira, nesse caso o módulo foi atribuido como np.\n",
    "* from numpy import *\n",
    "  * **Vantagens** - Realiza a importação do módulo inteiro da mesma maneira das importações anteriores, com exceções das variáveis seguidas com o sufixo _ (underline), pois são interpretadas como privadas segundo os  conceitos da Programação Orientada a Objetos (POO)\n",
    "  * **Desvantagens** - Não atribui nenhum nome ao módulo importado, de tal maneira que pode haver ambiguidades \n",
    "* from numpy import (nome da funcionalidade)\n",
    "  * **Vantagens** - Realiza somente a funcionalidade ou as funcionadlidades desejadas separadas por , (vírgula) como por exemplo: *from numpy import arange, zeros* dessa maneira serão somente importadas as funções arange e zeros do módulo numpy, dessa maneira pode-se fazer uma importação mais otimizada, importando-se somente o que irá se utilizar economizando assim memória\n",
    "  * **Desvantagens** Ao adicionar várias funcionalidades de um módulo pode-se perder algum tempo digitando todas elas e a semântica ficar um pouco confusa, de tal forma que se for utilizar grande parte das funcionalidades do módulo ou o módulo a ser importado for consumir poucos recursos da máquina deve-se preferir os métodos de importações citados anteriormente"
   ]
  },
  {
   "cell_type": "markdown",
   "metadata": {},
   "source": [
    "#### Exercise 2\n",
    "Explique os resultados das execuções de todas as células do tutorial, com suas palavras, logo após cada resultado."
   ]
  },
  {
   "cell_type": "markdown",
   "metadata": {},
   "source": [
    "#### Answer 2\n",
    "\n",
    "O módulo numpy é importado como np"
   ]
  },
  {
   "cell_type": "code",
   "execution_count": 2,
   "metadata": {},
   "outputs": [
    {
     "name": "stdout",
     "output_type": "stream",
     "text": [
      "arr =  [-2.   4.3  7.   9. ]\n",
      "arr2 =  [ 8.  -5.   0.   3.2]\n"
     ]
    }
   ],
   "source": [
    "arr = np.array([-2, 4.3, 7, 9])\n",
    "\n",
    "my_tuple = (8, -5, 0, 3.2)\n",
    "arr2 = np.array(my_tuple)\n",
    "\n",
    "print('arr = ', arr)\n",
    "print('arr2 = ', arr2)"
   ]
  },
  {
   "cell_type": "markdown",
   "metadata": {},
   "source": [
    "#### Answer 2\n",
    "\n",
    "Nesta célula são criados dois arrays utilizando o módulo numpy, um foi criado a partir de uma lista e o outro foi criado a partir de uma tupla"
   ]
  },
  {
   "cell_type": "markdown",
   "metadata": {},
   "source": [
    "#### Exercise 3\n",
    "É curioso notar que todos os elementos de arr se tornaram float após a criação do array, mesmo que nem todos os elementos da lista fossem desse tipo. Por que isso ocorreu? E se um desses elementos fosse um string, qual seria a saída?"
   ]
  },
  {
   "cell_type": "markdown",
   "metadata": {},
   "source": [
    "#### Answer 3\n",
    "\n",
    "Esse efeito acontece, pois, para realização de trabalhos matemáticos com diferentes tipos de dados é ineficaz ou impraticável, de tal forma que o numpy realiza a conversão para o maior tipo de dado, seguindo a tabela de conversão praticada na linguagem C."
   ]
  },
  {
   "cell_type": "code",
   "execution_count": 3,
   "metadata": {
    "run_control": {
     "marked": true
    }
   },
   "outputs": [
    {
     "data": {
      "text/plain": [
       "array(['1', '2.3', 's', 'Jardel', '(1+2j)'], dtype='<U32')"
      ]
     },
     "execution_count": 3,
     "metadata": {},
     "output_type": "execute_result"
    }
   ],
   "source": [
    "np.array([1, 2.3, 's', \"Jardel\", 1+2.j])"
   ]
  },
  {
   "cell_type": "markdown",
   "metadata": {},
   "source": [
    "#### Answer 3\n",
    "\n",
    "Caso um dos elementos da lista seja do tipo de dado string, a saída seria toda lista convertida para o formato de string, pois é considerado o maior tipo como exemplificado no array acima"
   ]
  },
  {
   "cell_type": "code",
   "execution_count": 4,
   "metadata": {},
   "outputs": [
    {
     "name": "stdout",
     "output_type": "stream",
     "text": [
      "[0 1 2 3 4 5 6 7 8 9] \n",
      "\n",
      "[[ 1  3  5  7]\n",
      " [ 9 11 13 15]\n",
      " [17 19 21 23]\n",
      " [25 27 29 31]]\n"
     ]
    }
   ],
   "source": [
    "# Método arange()\n",
    "\n",
    "arr = np.arange(10)\n",
    "print(arr, '\\n')\n",
    "\n",
    "arr2 = np.arange(1, 32, 2).reshape(4, 4) # reshape muda o formato da array - nesse caso de (16) para (4x4)\n",
    "print(arr2)"
   ]
  },
  {
   "cell_type": "markdown",
   "metadata": {},
   "source": [
    "#### Answer 2\n",
    "\n",
    "Nesta célula são criados dois arrays também, utilizando duas funcionalidades do módulo numpy, primeiramente utilizando a função arange que aceita como parâmetros: ( [ start , ] stop , [ step , ] dtype = None ). E retorna valores espaçados uniformemente dentro de um determinado intervalo.\n",
    "Os valores são gerados dentro do intervalo semiaberto (em outras palavras, o intervalo incluindo início, mas excluindo a parada ). Como somente foi passado um argumento: ( 10 ), que no caso é o parâmetro de stop, sendo que start por padrão é: 0 e o step é: 1\n",
    "\n",
    "E o segundo array também é criado com a função arange com os argumentos ( 1, 32, 2 ), ou seja início: 1, parada: 32, passo: 2. E após a criação desse array, é utilizada a função reshape que dá uma nova forma a uma matriz sem alterar seus dados com os argumentos: ( 4, 4 ). Ou seja 4 linhas e 4 colunas "
   ]
  },
  {
   "cell_type": "code",
   "execution_count": 5,
   "metadata": {},
   "outputs": [
    {
     "name": "stdout",
     "output_type": "stream",
     "text": [
      "[  1.  12.  23.  34.  45.  56.  67.  78.  89. 100.] \n",
      "\n"
     ]
    }
   ],
   "source": [
    "# Método linspace()\n",
    "\n",
    "arr = np.linspace(1, 100, 10) # de 1 a 100, contendo 10 valores\n",
    "print(arr, '\\n')"
   ]
  },
  {
   "cell_type": "markdown",
   "metadata": {},
   "source": [
    "#### Answer 2\n",
    "\n",
    "Nesta célula é criado um array utilizando a função linspace do módulo numpy, que aceita como parâmetros: ( start, stop, num=50, endpoint=True, retstep=False, dtype=None, axis=0 ). E Retorna números espaçados uniformemente em um intervalo especificado.\n",
    "Retorna um número de amostras espaçadas uniformemente, calculadas sobre o intervalo [ iniciar , parar ].\n",
    "O ponto final do intervalo pode opcionalmente ser excluído.\n",
    "Como foram passados como argumentos ( 1, 100, 10 ). ou seja início: 1, parada 100, Número de amostras geradas: 10"
   ]
  },
  {
   "cell_type": "markdown",
   "metadata": {},
   "source": [
    "#### Exercise 4\n",
    "Quais as diferenças entre os métodos arange e linspace para criar arrays?"
   ]
  },
  {
   "cell_type": "markdown",
   "metadata": {},
   "source": [
    "#### Answer 4\n",
    "\n",
    "* arange(): Retorna valores espaçados uniformemente dentro de um determinado intervalo\n",
    "\n",
    "* linspace(): Retornar números espaçados uniformemente em um intervalo especificado"
   ]
  },
  {
   "cell_type": "code",
   "execution_count": 6,
   "metadata": {},
   "outputs": [
    {
     "name": "stdout",
     "output_type": "stream",
     "text": [
      "[[4.67296746e-307 1.69121096e-306 1.60218491e-306 1.89146896e-307]\n",
      " [1.37961302e-306 1.05699242e-307 8.01097889e-307 1.78020169e-306]\n",
      " [7.56601165e-307 1.02359984e-306 1.33510679e-306 2.22522597e-306]\n",
      " [1.33511018e-306 6.23057689e-307 1.33511290e-306 1.78019082e-306]\n",
      " [8.45559303e-307 8.06612616e-308 6.89810244e-307 1.22387550e-307]\n",
      " [2.22522596e-306 8.34423917e-308 9.79107193e-307 3.33509775e-317]] \n",
      "\n",
      "[[1. 0. 0. 0.]\n",
      " [0. 1. 0. 0.]\n",
      " [0. 0. 1. 0.]\n",
      " [0. 0. 0. 1.]]\n"
     ]
    }
   ],
   "source": [
    "# Array vazia com o método empty()\n",
    "\n",
    "arr2 = np.empty((6,4)) # normalmente a saída é lixo de memória ou zeros\n",
    "print(arr2, '\\n')\n",
    "\n",
    "\n",
    "# Np.Eye\n",
    "\n",
    "arr3 = np.eye(4) # eye cria uma array de duas dimensões com 1 na da diagnoal e 0 nos outros elementos\n",
    "print(arr3)"
   ]
  },
  {
   "cell_type": "markdown",
   "metadata": {},
   "source": [
    "#### Answer 2\n",
    "\n",
    "Nesta célula são criados dois arrays utilizando o módulo numpy, um foi criado a partir da funcionalidade empty que cria uma matriz cujo conteúdo inicial é aleatório e depende do estado da memória, como foram passados como argumento: ( 6, 4 ) a matriz retornada possuí 6 linhas e 4 colunas. E o outro array foi criado a partir da funcionalidade eye que retorna uma matriz 2-D com uns na diagonal, como foi passado como argumento: ( 4 ) a matriz retornada possuí 4 linhas e 4 colunas"
   ]
  },
  {
   "cell_type": "code",
   "execution_count": 7,
   "metadata": {},
   "outputs": [
    {
     "name": "stdout",
     "output_type": "stream",
     "text": [
      "[0. 0. 0. 0. 0. 0. 0. 0.]\n",
      "[[1. 1. 1.]\n",
      " [1. 1. 1.]\n",
      " [1. 1. 1.]\n",
      " [1. 1. 1.]]\n"
     ]
    }
   ],
   "source": [
    "arr = np.zeros(8) # array contendo 8 'zeros'\n",
    "print (arr)\n",
    "\n",
    "arr2 = np.ones((4,3)) # array contendo 12 'uns', no formato 4 x 3\n",
    "print(arr2)"
   ]
  },
  {
   "cell_type": "markdown",
   "metadata": {},
   "source": [
    "#### Answer 2\n",
    "\n",
    "Nesta célula são criados dois arrays utilizando o módulo numpy, um foi criado a partir da funcionalidade zeros que retorna uma nova matriz de determinada forma e tipo, preenchida com zeros, como foi passado como argumento: ( 8 ) a matriz retornada possuí 1 linha e 8 colunas. E o outro array foi criado a partir da funcionalidade ones que retorna uma nova matriz de determinada forma e tipo, preenchida com uns, como foi passado como argumento: ( 4, 3 ) a matriz retornada possuí 4 linhas e 3 colunas"
   ]
  },
  {
   "cell_type": "code",
   "execution_count": 8,
   "metadata": {},
   "outputs": [
    {
     "name": "stdout",
     "output_type": "stream",
     "text": [
      ".shape:  (10,)\n",
      ".size:  10\n",
      ".dtype:  float64\n"
     ]
    }
   ],
   "source": [
    "arr = np.linspace(.5, 50, 10)\n",
    "\n",
    "print('.shape: ', arr.shape)    # imprime o formato da array\n",
    "print('.size: ', arr.size)      # imprime o tamanho da array\n",
    "print('.dtype: ', arr.dtype)    # imprime o tipo de dado dos elementos'"
   ]
  },
  {
   "cell_type": "markdown",
   "metadata": {},
   "source": [
    "#### Answer 2\n",
    "\n",
    "Nesta célula é criado um array utilizando o módulo numpy e sua funcionalidade linspace que já foi explicada anteriormente, como foram passados como argumentos: ( .5, 50, 10 ) o array retornado possuí uma linha e 10 colunas iniciando com o valor 0.5 e finalizando com o valor 50 separados por intervalos iguais com passos de 5.5 entre cada valor.\n",
    "\n",
    "Após isso foram impressos alguns atributos do array criado:\n",
    "* **Shape**: Retorna as dimensões da matriz. Esta é uma tupla de números inteiros, indicando o tamanho da matriz em cada dimensão. Para uma matriz com n linhas e m colunas, o shape será (n, m)\n",
    "* **Size**: Retorna o número total de elementos da matriz. Isso é igual ao produto dos elementos de shape\n",
    "* **dtype**: Retorna um objeto que descreve o tipo dos elementos na matriz. Pode-se criar ou especificar dtype's usando tipos padrão de Python. Além disso, o NumPy fornece tipos próprios. numpy.int32, numpy.int16 e numpy.float64 são alguns exemplos"
   ]
  },
  {
   "cell_type": "code",
   "execution_count": 9,
   "metadata": {},
   "outputs": [
    {
     "name": "stdout",
     "output_type": "stream",
     "text": [
      ".ndim:  1\n",
      ".itemsize:  10\n"
     ]
    }
   ],
   "source": [
    "print('.ndim: ', arr.ndim)          # número de dimensões\n",
    "print('.itemsize: ', arr.size)      # tamanho de cada elemento em bytes"
   ]
  },
  {
   "cell_type": "markdown",
   "metadata": {},
   "source": [
    "#### Answer 2\n",
    "\n",
    "Nesta célula é utilizado o mesmo array do exemplo anterior, porém foram impressos alguns outros atributos do array criado:\n",
    "* **Ndim**: Retorna o número de eixos (dimensões) da matriz\n",
    "* **Itemsize**: Retorna o tamanho em bytes de cada elemento da matriz. Por exemplo, uma matriz de elementos do tipo float64possui itemsize8 (= 64/8), enquanto uma do tipo complex32possui itemsize4 (= 32/8). É equivalente a ndarray.dtype.itemsize."
   ]
  },
  {
   "cell_type": "markdown",
   "metadata": {},
   "source": [
    "#### Exercise 5\n",
    "O método len() é usado para mostrar o tamanho de uma lista. Esse método também funciona para arrays? Explique."
   ]
  },
  {
   "cell_type": "code",
   "execution_count": 10,
   "metadata": {
    "run_control": {
     "marked": true
    }
   },
   "outputs": [
    {
     "name": "stdout",
     "output_type": "stream",
     "text": [
      "---------------------------------- 1d ----------------------------------\n",
      "Lista: [1, 2, 3, 4, 5] \tTipo: <class 'list'> \tTamanho: 5\n",
      "Array: [1 2 3 4 5] \tTipo: <class 'numpy.ndarray'> \tTamanho: 5\n",
      "---------------------------------- 1d ----------------------------------\n",
      "\n",
      "---------------------------------- 2d ----------------------------------\n",
      "Lista: [[1, 2], [3, 4]] \tTipo: <class 'list'> \tTamanho: 2\n",
      "Array: [[1 2]\n",
      " [3 4]] \tTipo: <class 'numpy.ndarray'> \tTamanho: 2\n",
      "---------------------------------- 2d ----------------------------------\n",
      "\n",
      "----------------------------------- 3d ----------------------------------\n",
      "\n",
      "Lista: [[[1, 2], [3, 4], [5, 6]]] \tTipo: <class 'list'> \tTamanho: 1\n",
      "Array: [[[1 2]\n",
      "  [3 4]\n",
      "  [5 6]]] \tTipo: <class 'numpy.ndarray'> \tTamanho: 1\n",
      "----------------------------------- 3d ----------------------------------\n"
     ]
    }
   ],
   "source": [
    "lista = [1, 2, 3, 4, 5]\n",
    "array = np.array([1, 2, 3, 4, 5])\n",
    "print(\"---------------------------------- 1d ----------------------------------\")\n",
    "print(\"Lista:\", lista, \"\\tTipo:\", type(lista), \"\\tTamanho:\", len(lista))\n",
    "print(\"Array:\", array, \"\\tTipo:\", type(array), \"\\tTamanho:\", len(array))\n",
    "print(\"---------------------------------- 1d ----------------------------------\\n\")\n",
    "\n",
    "lista = [[1, 2], [3, 4]]\n",
    "array = np.array([[1, 2], [3, 4]])\n",
    "print(\"---------------------------------- 2d ----------------------------------\")\n",
    "print(\"Lista:\", lista, \"\\tTipo:\", type(lista), \"\\tTamanho:\", len(lista))\n",
    "print(\"Array:\", array, \"\\tTipo:\", type(array), \"\\tTamanho:\", len(array))\n",
    "print(\"---------------------------------- 2d ----------------------------------\\n\")\n",
    "\n",
    "lista = [[[1, 2], [3, 4], [5, 6]]]\n",
    "array = np.array([[[1, 2], [3, 4], [5, 6]]])\n",
    "print(\"----------------------------------- 3d ----------------------------------\\n\")\n",
    "print(\"Lista:\", lista, \"\\tTipo:\", type(lista), \"\\tTamanho:\", len(lista))\n",
    "print(\"Array:\", array, \"\\tTipo:\", type(array), \"\\tTamanho:\", len(array))\n",
    "print(\"----------------------------------- 3d ----------------------------------\")"
   ]
  },
  {
   "cell_type": "markdown",
   "metadata": {},
   "source": [
    "#### Answer 5\n",
    "\n",
    "Como pode ser observada na célula acima, o método também funciona para objetos do tipo array, tendo em vista que os resultados apresentados para lista e array foram os mesmos.\n",
    "Que podemos ver de acordo com a documentação oficial que o método: Retorna o comprimento (o número de itens) de um objeto. O argumento pode ser uma sequência (como uma sequência de caracteres, bytes, tupla, lista ou intervalo) ou uma coleção (como um dicionário, conjunto ou conjunto congelado)."
   ]
  },
  {
   "cell_type": "code",
   "execution_count": 11,
   "metadata": {},
   "outputs": [
    {
     "name": "stdout",
     "output_type": "stream",
     "text": [
      "array original:  [1 2 3 4 5 6 7 8 9] \n",
      "\n",
      "formato 3x3: \n",
      " [[1 2 3]\n",
      " [4 5 6]\n",
      " [7 8 9]] \n",
      "\n"
     ]
    }
   ],
   "source": [
    "arr = np.arange(1,10)\n",
    "print('array original: ', arr, '\\n')\n",
    "\n",
    "# Como já vimos 'reshape()' muda o formato da array, MAS o número de elementos dos dois formatos tem que coincidir, exemplo:\n",
    "arr2 = arr.reshape((3,3))\n",
    "print ('formato 3x3: \\n' , arr2, '\\n')"
   ]
  },
  {
   "cell_type": "markdown",
   "metadata": {},
   "source": [
    "#### Answer 2\n",
    "\n",
    "Nesta célula é criado um array pelo método arange(), que já foi estudado anteriormente e após isso este array criado tem seu formato alterado pelo metódo reshape() de um array 1 linha com 9 colunas para um array com 3 linhas e 3 colunas"
   ]
  },
  {
   "cell_type": "code",
   "execution_count": 12,
   "metadata": {},
   "outputs": [
    {
     "data": {
      "text/plain": [
       "9"
      ]
     },
     "execution_count": 12,
     "metadata": {},
     "output_type": "execute_result"
    }
   ],
   "source": [
    "arr.max() # retorna o valor máximo"
   ]
  },
  {
   "cell_type": "markdown",
   "metadata": {},
   "source": [
    "#### Answer 2\n",
    "\n",
    "Nesta célula pode-se observar o uso de mais um método do objeto array, o método max(), que retorna o valor máximo do array que no caso é o número 9 "
   ]
  },
  {
   "cell_type": "code",
   "execution_count": 13,
   "metadata": {},
   "outputs": [
    {
     "name": "stdout",
     "output_type": "stream",
     "text": [
      "8\n"
     ]
    },
    {
     "data": {
      "text/plain": [
       "True"
      ]
     },
     "execution_count": 13,
     "metadata": {},
     "output_type": "execute_result"
    }
   ],
   "source": [
    "print(arr.argmax()) # retorna o índice que contém o valor máximo\n",
    "arr[8] == arr[arr.argmax()]"
   ]
  },
  {
   "cell_type": "markdown",
   "metadata": {},
   "source": [
    "#### Answer 2\n",
    "\n",
    "Nesta célula pode-se observar o uso de mais um método do objeto array, o método argmax(), que retorna o índice que contém o valor máximo do array que no caso é o índice 8.\n",
    "Depois é possível observar por meio de uma comparação simples que o valor retornado é verdadeiro."
   ]
  },
  {
   "cell_type": "code",
   "execution_count": 14,
   "metadata": {},
   "outputs": [
    {
     "data": {
      "text/plain": [
       "1"
      ]
     },
     "execution_count": 14,
     "metadata": {},
     "output_type": "execute_result"
    }
   ],
   "source": [
    "arr.min() # retorna o mínimo"
   ]
  },
  {
   "cell_type": "markdown",
   "metadata": {},
   "source": [
    "#### Answer 2\n",
    "\n",
    "Nesta célula pode-se observar o uso de mais um método do objeto array, o método min(), que retorna o valor mínimo do array que no caso é o número 1"
   ]
  },
  {
   "cell_type": "code",
   "execution_count": 15,
   "metadata": {},
   "outputs": [
    {
     "name": "stdout",
     "output_type": "stream",
     "text": [
      "0\n"
     ]
    },
    {
     "data": {
      "text/plain": [
       "True"
      ]
     },
     "execution_count": 15,
     "metadata": {},
     "output_type": "execute_result"
    }
   ],
   "source": [
    "print(arr.argmin()) # retorna o índice que contém o valor máximo\n",
    "arr[0] == arr[arr.argmin()]"
   ]
  },
  {
   "cell_type": "markdown",
   "metadata": {},
   "source": [
    "#### Answer 2\n",
    "\n",
    "Nesta célula pode-se observar o uso de mais um método do objeto array, o método argmax(), que retorna o índice que contém o valor máximo do array que no caso é o índice 0.\n",
    "Depois é possível observar por meio de uma comparação simples que o valor retornado é verdadeiro."
   ]
  },
  {
   "cell_type": "code",
   "execution_count": 16,
   "metadata": {},
   "outputs": [
    {
     "data": {
      "text/plain": [
       "5.0"
      ]
     },
     "execution_count": 16,
     "metadata": {},
     "output_type": "execute_result"
    }
   ],
   "source": [
    "arr.mean() # retorna a média"
   ]
  },
  {
   "cell_type": "markdown",
   "metadata": {},
   "source": [
    "#### Answer 2\n",
    "\n",
    "Nesta célula pode-se observar o uso de mais um método do objeto array, o método mean(), que retorna a média dos elementos da matriz. A média é assumida sobre a matriz nivelada por padrão, caso contrário, sobre o eixo especificado.\n",
    "\n",
    "A média aritmética é a soma dos elementos ao longo do eixo dividido pelo número de elementos."
   ]
  },
  {
   "cell_type": "code",
   "execution_count": 17,
   "metadata": {},
   "outputs": [
    {
     "data": {
      "text/plain": [
       "2.581988897471611"
      ]
     },
     "execution_count": 17,
     "metadata": {},
     "output_type": "execute_result"
    }
   ],
   "source": [
    "arr.std() # retorna o desvio padrão"
   ]
  },
  {
   "cell_type": "markdown",
   "metadata": {},
   "source": [
    "#### Answer 2\n",
    "\n",
    "Nesta célula pode-se observar o uso de mais um método do objeto array, o método std(), que retorna o desvio padrão, uma medida da dispersão de uma distribuição, dos elementos da matriz. O desvio padrão é calculado para a matriz nivelada por padrão, caso contrário, sobre o eixo especificado.\n",
    "\n",
    "O desvio padrão é a raiz quadrada da média dos desvios quadrados da média, ou seja, std = $sqrt(mean(abs(x - x.mean())**2))$."
   ]
  },
  {
   "cell_type": "code",
   "execution_count": 18,
   "metadata": {},
   "outputs": [
    {
     "data": {
      "text/plain": [
       "45"
      ]
     },
     "execution_count": 18,
     "metadata": {},
     "output_type": "execute_result"
    }
   ],
   "source": [
    "arr.sum() #retorna a soma de todos os elementos da array"
   ]
  },
  {
   "cell_type": "markdown",
   "metadata": {},
   "source": [
    "#### Answer 2\n",
    "\n",
    "Nesta célula pode-se observar o uso de mais um método do objeto array, o método sum(), que retorna a soma dos elementos da matriz em um determinado eixo."
   ]
  },
  {
   "cell_type": "code",
   "execution_count": 19,
   "metadata": {},
   "outputs": [
    {
     "data": {
      "text/plain": [
       "array([1.        , 1.41421356, 1.73205081, 2.        , 2.23606798,\n",
       "       2.44948974, 2.64575131, 2.82842712, 3.        ])"
      ]
     },
     "execution_count": 19,
     "metadata": {},
     "output_type": "execute_result"
    }
   ],
   "source": [
    "### FUNÇÕES UNIVERSAIS ###\n",
    "\n",
    "np.sqrt(arr) # retorna um array com a raiz quadrada de cada elemento"
   ]
  },
  {
   "cell_type": "markdown",
   "metadata": {},
   "source": [
    "#### Answer 2\n",
    "\n",
    "Nesta célula pode-se observar o uso de um dos métodos universais, o método sqrt(), que retorna a raiz quadradada dos elementos da matriz."
   ]
  },
  {
   "cell_type": "code",
   "execution_count": 20,
   "metadata": {},
   "outputs": [
    {
     "data": {
      "text/plain": [
       "array([ 0.84147098,  0.90929743,  0.14112001, -0.7568025 , -0.95892427,\n",
       "       -0.2794155 ,  0.6569866 ,  0.98935825,  0.41211849])"
      ]
     },
     "execution_count": 20,
     "metadata": {},
     "output_type": "execute_result"
    }
   ],
   "source": [
    "np.sin(arr) # retorna um array com o seno de cada elemento"
   ]
  },
  {
   "cell_type": "markdown",
   "metadata": {},
   "source": [
    "#### Answer 2\n",
    "\n",
    "Nesta célula pode-se observar o uso de mais um dos métodos universais, o método sin(), que retorna o cálculo do seno dos elementos da matriz."
   ]
  },
  {
   "cell_type": "code",
   "execution_count": 21,
   "metadata": {},
   "outputs": [
    {
     "data": {
      "text/plain": [
       "array([ 0.54030231, -0.41614684, -0.9899925 , -0.65364362,  0.28366219,\n",
       "        0.96017029,  0.75390225, -0.14550003, -0.91113026])"
      ]
     },
     "execution_count": 21,
     "metadata": {},
     "output_type": "execute_result"
    }
   ],
   "source": [
    "np.cos(arr) # retorna um array com o cosseno de cada elemento"
   ]
  },
  {
   "cell_type": "markdown",
   "metadata": {},
   "source": [
    "#### Answer 2\n",
    "\n",
    "Nesta célula pode-se observar o uso de mais um dos métodos universais, o método cos(), que retorna o cálculo do cosseno dos elementos da matriz."
   ]
  },
  {
   "cell_type": "code",
   "execution_count": 22,
   "metadata": {},
   "outputs": [
    {
     "data": {
      "text/plain": [
       "array([2.71828183e+00, 7.38905610e+00, 2.00855369e+01, 5.45981500e+01,\n",
       "       1.48413159e+02, 4.03428793e+02, 1.09663316e+03, 2.98095799e+03,\n",
       "       8.10308393e+03])"
      ]
     },
     "execution_count": 22,
     "metadata": {},
     "output_type": "execute_result"
    }
   ],
   "source": [
    "np.exp(arr) # retorna um array com o exponencial cada elemento (e^x)"
   ]
  },
  {
   "cell_type": "markdown",
   "metadata": {},
   "source": [
    "#### Answer 2\n",
    "\n",
    "Nesta célula pode-se observar o uso de mais um dos métodos universais, o método exp(), que retorna o cálculo do expoente dos elementos da matriz. $$ e^{x} $$"
   ]
  },
  {
   "cell_type": "code",
   "execution_count": 23,
   "metadata": {},
   "outputs": [
    {
     "name": "stdout",
     "output_type": "stream",
     "text": [
      " A:  [0 1 2 3 4 5 6 7 8 9] \n",
      " B:  [10 13 16 19 22 25 28 31 34 37]\n"
     ]
    }
   ],
   "source": [
    "# vamos criar as arrays A e B para fazer operações com elas\n",
    "\n",
    "A = np.arange(10)\n",
    "B = np.arange(10,38,3)\n",
    "\n",
    "print (' A: ', A, '\\n', 'B: ', B)"
   ]
  },
  {
   "cell_type": "markdown",
   "metadata": {},
   "source": [
    "#### Answer 2\n",
    "\n",
    "Nesta célula são criados dois arrays com o método arange() que já foi explicado anteriormente, para que após sejam realizadas operações com eles.  "
   ]
  },
  {
   "cell_type": "code",
   "execution_count": 24,
   "metadata": {},
   "outputs": [
    {
     "name": "stdout",
     "output_type": "stream",
     "text": [
      "somar:  [10 14 18 22 26 30 34 38 42 46]\n",
      "subtrair:  [-10 -12 -14 -16 -18 -20 -22 -24 -26 -28]\n",
      "dividir:  [0.         0.07692308 0.125      0.15789474 0.18181818 0.2\n",
      " 0.21428571 0.22580645 0.23529412 0.24324324]\n",
      "multiplicar:  [  0  13  32  57  88 125 168 217 272 333]\n"
     ]
    }
   ],
   "source": [
    "somar = A + B\n",
    "subtrair = A - B\n",
    "dividir = A / B\n",
    "multiplicar = A * B\n",
    "\n",
    "print('somar: ', somar )\n",
    "print('subtrair: ', subtrair )\n",
    "print('dividir: ', dividir )\n",
    "print('multiplicar: ', multiplicar)"
   ]
  },
  {
   "cell_type": "markdown",
   "metadata": {},
   "source": [
    "#### Answer 2\n",
    "\n",
    "Nesta célula pode-se observar quatro operações realizadas em cima dos elementos dos dois arrays criados anteriormente, sendo elas: soma, subtração, divisão e multiplicação. Respectivamente"
   ]
  },
  {
   "cell_type": "code",
   "execution_count": 25,
   "metadata": {},
   "outputs": [
    {
     "name": "stderr",
     "output_type": "stream",
     "text": [
      "C:\\Users\\jarde\\Anaconda3\\lib\\site-packages\\ipykernel_launcher.py:1: RuntimeWarning: divide by zero encountered in true_divide\n",
      "  \"\"\"Entry point for launching an IPython kernel.\n"
     ]
    },
    {
     "data": {
      "text/plain": [
       "array([        inf, 13.        ,  8.        ,  6.33333333,  5.5       ,\n",
       "        5.        ,  4.66666667,  4.42857143,  4.25      ,  4.11111111])"
      ]
     },
     "execution_count": 25,
     "metadata": {},
     "output_type": "execute_result"
    }
   ],
   "source": [
    "B/A     # a array A contém um zero como primeiro elemento"
   ]
  },
  {
   "cell_type": "markdown",
   "metadata": {},
   "source": [
    "#### Answer 2\n",
    "\n",
    "Nesta célula é possível ver de acordo com a operação de divisão porém com a ordem dos arrays trocados, que a divisão de um array que contenha o elemento 0 como divisor, terá o resultado \"infinito\" retornado, de acordo com o conteúdo visto nas matérias de cálculo 1 que demonstram a obtenção deste valor com mais detalhes.  "
   ]
  },
  {
   "cell_type": "code",
   "execution_count": 26,
   "metadata": {},
   "outputs": [
    {
     "data": {
      "text/plain": [
       "array([  0, 100, 200, 300, 400, 500, 600, 700, 800, 900])"
      ]
     },
     "execution_count": 26,
     "metadata": {},
     "output_type": "execute_result"
    }
   ],
   "source": [
    "''' Você pode fazer operações envolvendo arrays e um único elemento, dessa forma numpy itera a operação \n",
    "do elemento único com todos os componentes da array, exemplo: ''' \n",
    "\n",
    "A * 100    # retorna um array com a multiplicação de todos elementos da array por 100"
   ]
  },
  {
   "cell_type": "markdown",
   "metadata": {},
   "source": [
    "#### Answer 2\n",
    "\n",
    "Nesta célula é possível ver um exemplo de operação de um vetor por um produto escalar, e pode-se concluir pelo resultado que é realizada a iteração de cada elemento do array multiplicado pela grandeza escalar"
   ]
  },
  {
   "cell_type": "markdown",
   "metadata": {},
   "source": [
    "#### Exercise 6\n",
    "Explique, com suas palavras, o conceito de vetorização do numpy.\n",
    "\n",
    "Como pôde ser visto de acordo com as questões apresentadas até aqui, que os objetos array do módulo numpy são tem características semelhantes ao dos vetores vistos nas disciplinas de física, por isso podemos entender que há um conceito de vetorização do numpy."
   ]
  },
  {
   "cell_type": "code",
   "execution_count": 27,
   "metadata": {},
   "outputs": [
    {
     "data": {
      "text/plain": [
       "array([ 1,  4,  9, 16, 25, 36, 49, 64, 81], dtype=int32)"
      ]
     },
     "execution_count": 27,
     "metadata": {},
     "output_type": "execute_result"
    }
   ],
   "source": [
    "# criar uma array com o quadrado dos números de 1 a 10\n",
    "arr = np.arange(1, 10) **2\n",
    "arr"
   ]
  },
  {
   "cell_type": "markdown",
   "metadata": {},
   "source": [
    "#### Answer 2\n",
    "\n",
    "Nesta célula pode-se ver um dos conceitos da vetorização na prática, sendo que primeiro é criado um array pelo método arange já estudado, e após cada elemento desse array é elevado ao quadrado"
   ]
  },
  {
   "cell_type": "code",
   "execution_count": 28,
   "metadata": {},
   "outputs": [
    {
     "name": "stdout",
     "output_type": "stream",
     "text": [
      "1º elemento:  1\n",
      "5º elemento:  25\n"
     ]
    }
   ],
   "source": [
    "# acessando o primeiro elemento\n",
    "print('1º elemento: ', arr[0])    # lembrar que índice começa do 0\n",
    "\n",
    "# acessando o quinto elemento\n",
    "print ('5º elemento: ', arr[4])   # O quinto elemento é acessado pelo índice 4"
   ]
  },
  {
   "cell_type": "markdown",
   "metadata": {},
   "source": [
    "#### Answer 2\n",
    "\n",
    "Nesta célula é mostrado um dos métodos de acessso aos elementos do array e por conseguinte as respostas de cada número elevado ao qudrado"
   ]
  },
  {
   "cell_type": "code",
   "execution_count": 29,
   "metadata": {},
   "outputs": [
    {
     "name": "stdout",
     "output_type": "stream",
     "text": [
      "[[ 1  4  9]\n",
      " [16 25 36]\n",
      " [49 64 81]] \n",
      "\n",
      "Acessando o elemento 25:  25\n",
      "Acessando o elemento 25:  25\n"
     ]
    },
    {
     "data": {
      "text/plain": [
       "81"
      ]
     },
     "execution_count": 29,
     "metadata": {},
     "output_type": "execute_result"
    }
   ],
   "source": [
    "# Em um array de duas dimensões (ou mais) existem duas formas de acessar o índice:\n",
    "\n",
    "arr = arr.reshape((3,3))\n",
    "print (arr, '\\n')\n",
    "\n",
    "# Usando colchetes duplos [][]\n",
    "print ('Acessando o elemento 25: ', arr[1][1])\n",
    "\n",
    "# Ou minha preferência pessoal - separando índices por vírgula\n",
    "print ('Acessando o elemento 25: ', arr[1,1])\n",
    "\n",
    "# acessando o último elemento usando o -1\n",
    "arr[-1, -1] "
   ]
  },
  {
   "cell_type": "markdown",
   "metadata": {},
   "source": [
    "#### Answer 2\n",
    "\n",
    "Nesta célula o array criado anteriormente é reformatado pelo método reshape já estudado anteriormente para o formato 3 linhas por 3 colunas, e após é mostrado os doi outros métodos de acessso aos elementos do array e por conseguinte as respostas de cada número elevado ao qudrado.\n",
    "\n",
    "Por último um exemplo do que acontece se for utilizado números negativos para acesso aos elementos do array."
   ]
  },
  {
   "cell_type": "code",
   "execution_count": 30,
   "metadata": {},
   "outputs": [
    {
     "name": "stdout",
     "output_type": "stream",
     "text": [
      "[[ 1  4  9]\n",
      " [16 25 36]] \n",
      "\n",
      "[[ 1  4  9]\n",
      " [16 25 36]\n",
      " [49 64 81]]\n"
     ]
    }
   ],
   "source": [
    "# Para acessar fatias de elementos, usamos o slice [i:i], exemplo\n",
    "\n",
    "# linha: acessar da linha de índice 0 a linha de índice 2 (excluindo esta) = [0:2]\n",
    "# coluna: acessar da coluna de índice 0 a coluna de 3 (excluindo esta) = [0:3] - no nosso caso, todas as colunas\n",
    "print(arr[0:2 , 0:3],'\\n')\n",
    "\n",
    "# outra forma de obter o mesmo resultado é usando [:], que pega todos os elementos\n",
    "print(arr[:])"
   ]
  },
  {
   "cell_type": "markdown",
   "metadata": {},
   "source": [
    "#### Answer 2\n",
    "\n",
    "Nesta célula é possível observar a utilização dos métodos de slice (fatias), que basicamente realizam um corte no array com somente os elementos selecionados "
   ]
  },
  {
   "cell_type": "code",
   "execution_count": 31,
   "metadata": {},
   "outputs": [
    {
     "data": {
      "text/plain": [
       "array([[ 4,  9],\n",
       "       [25, 36],\n",
       "       [64, 81]], dtype=int32)"
      ]
     },
     "execution_count": 31,
     "metadata": {},
     "output_type": "execute_result"
    }
   ],
   "source": [
    "# Podemos criar uma nova array com slice de outra\n",
    "\n",
    "arr2 = arr[ : , 1:3]\n",
    "arr2"
   ]
  },
  {
   "cell_type": "markdown",
   "metadata": {},
   "source": [
    "#### Answer 2\n",
    "\n",
    "Nesta célula é apresentado uma forma de criar novos arrays com o retorno do slice de um array já criado."
   ]
  },
  {
   "cell_type": "code",
   "execution_count": 32,
   "metadata": {},
   "outputs": [
    {
     "data": {
      "text/plain": [
       "array([[  1,   4,   9],\n",
       "       [-99, -99, -99],\n",
       "       [ 49,  64,  81]], dtype=int32)"
      ]
     },
     "execution_count": 32,
     "metadata": {},
     "output_type": "execute_result"
    }
   ],
   "source": [
    "# Podemor atribuir novos elementos a nossa array, usando slice\n",
    "\n",
    "arr[1:2, :] = -99\n",
    "arr"
   ]
  },
  {
   "cell_type": "markdown",
   "metadata": {},
   "source": [
    "#### Answer 2\n",
    "\n",
    "Nesta célula é mostrado um exemplo de como atribuir novos elementos em uma \"fatia\" do array pelo método de slice"
   ]
  },
  {
   "cell_type": "code",
   "execution_count": 33,
   "metadata": {},
   "outputs": [
    {
     "name": "stdout",
     "output_type": "stream",
     "text": [
      "A:  [0 1 2 3 4 5 6 7 8 9]\n"
     ]
    }
   ],
   "source": [
    "A = np.arange(10)\n",
    "print ('A: ', A)"
   ]
  },
  {
   "cell_type": "markdown",
   "metadata": {},
   "source": [
    "#### Answer 2\n",
    "\n",
    "Nesta célula é criado um array com o método arange já estudado anteriormente, para realização de operações futuras com ele"
   ]
  },
  {
   "cell_type": "code",
   "execution_count": 34,
   "metadata": {},
   "outputs": [
    {
     "data": {
      "text/plain": [
       "array([False, False, False, False, False, False,  True,  True,  True,\n",
       "        True])"
      ]
     },
     "execution_count": 34,
     "metadata": {},
     "output_type": "execute_result"
    }
   ],
   "source": [
    "A > 5 # retorna uma array de variáveis booleanas de acordo com a condição"
   ]
  },
  {
   "cell_type": "markdown",
   "metadata": {},
   "source": [
    "#### Answer 2\n",
    "\n",
    "Nesta célula pode-se ver como resposta o array retornado da operação booleana realizada com cada elemento do array"
   ]
  },
  {
   "cell_type": "code",
   "execution_count": 35,
   "metadata": {},
   "outputs": [],
   "source": [
    "# Também odemos criar uma array a partir dessa condição\n",
    "B = A > 5"
   ]
  },
  {
   "cell_type": "markdown",
   "metadata": {},
   "source": [
    "#### Answer 2\n",
    "\n",
    "Nesta célula é criado um novo array com os resultados retornados da mesma operção anterior"
   ]
  },
  {
   "cell_type": "code",
   "execution_count": 36,
   "metadata": {},
   "outputs": [
    {
     "name": "stdout",
     "output_type": "stream",
     "text": [
      "[6 7 8 9]\n",
      "[6 7 8 9]\n"
     ]
    }
   ],
   "source": [
    "# Isso nos dá 2 opções para fazer seleção condicional, passando a condição ou passando o array como índice  \n",
    "\n",
    "print (A [A > 5])\n",
    "\n",
    "print (A [B])\n",
    "\n",
    "# em ambos os casos só retorna os valores que admitem essa condição "
   ]
  },
  {
   "cell_type": "markdown",
   "metadata": {},
   "source": [
    "#### Answer 2\n",
    "\n",
    "Nesta célula é apresentada as duas maneiras de realizar uma seleção condicional em um array"
   ]
  }
 ],
 "metadata": {
  "kernelspec": {
   "display_name": "Python 3",
   "language": "python",
   "name": "python3"
  },
  "language_info": {
   "codemirror_mode": {
    "name": "ipython",
    "version": 3
   },
   "file_extension": ".py",
   "mimetype": "text/x-python",
   "name": "python",
   "nbconvert_exporter": "python",
   "pygments_lexer": "ipython3",
   "version": "3.7.6"
  }
 },
 "nbformat": 4,
 "nbformat_minor": 4
}
