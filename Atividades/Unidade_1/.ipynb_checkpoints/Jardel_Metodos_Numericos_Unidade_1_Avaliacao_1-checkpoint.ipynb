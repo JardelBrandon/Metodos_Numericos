{
 "cells": [
  {
   "cell_type": "markdown",
   "metadata": {},
   "source": [
    "**<p>Disciplina:** Métodos Numéricos</p>\n",
    "**<p>Semestre:** 2020.1</p>\n",
    "**<p>Aluno:** Jardel Brandon de Araujo Regis</p>\n",
    "**<p>Mátricula:** 201621250014</p>\n",
    "**<p>1ª Unidade:** REPRESENTAÇÃO NUMÉRICA E TIPOS DE ERROS</p>\n",
    "\n",
    "---\n",
    "# <center>Erros de Arredondamento e Truncamento</center>\n",
    "## <center>1º Avaliação</center>\n",
    "---"
   ]
  },
  {
   "cell_type": "markdown",
   "metadata": {},
   "source": [
    "Considere os seguintes métodos para se calcular o valor de $\\pi=3.141592653589793 \\ldots$\n",
    "Para os cinco primeiros métodos, considere o cálculo do arctan x usando a série de Gregory\n",
    "$$\\arctan x=x-\\frac{1}{3} x^{3}+\\frac{1}{5} x^{5}-\\frac{1}{7} x^{7}+\\cdots$$\n",
    "Pode-se estimar o valor de $\\pi$ usando <br />\n",
    "(a) a definição de arctan x, que diz que, sendo essa a função inversa da função tan, e tendo que\n",
    "$$\\tan \\frac{\\pi}{4}=1$$\n",
    "então podemos fazer\n",
    "$$\\frac{\\pi}{4}=\\arctan 1=1-\\frac{1}{3}+\\frac{1}{5}-\\frac{1}{7}+\\cdots$$\n",
    "(b) a fórmula de Machin\n",
    "$$\\frac{\\pi}{4}=4 \\arctan \\frac{1}{5}-\\arctan \\frac{1}{239}$$\n",
    "(c) a fórmula de Hutton\n",
    "$$\\frac{\\pi}{4}=\\arctan \\frac{1}{2}+\\arctan \\frac{1}{3}$$\n",
    "(d) a fórmula de Clausen\n",
    "$$\\frac{\\pi}{4}=2 \\arctan \\frac{1}{3}+\\arctan \\frac{1}{7}$$\n",
    "(e) a fórmula de Dase\n",
    "$$\\frac{\\pi}{4}=\\arctan \\frac{1}{2}+\\arctan \\frac{1}{5}+\\arctan \\frac{1}{7}$$\n",
    "(f) a representação em série do arcsin\n",
    "$$\\arcsin x=x+\\frac{x^{3}}{2 \\cdot 3}+\\frac{3 \\cdot x^{3}}{2 \\cdot 4 \\cdot 5}+\\frac{3 \\cdot 5 \\cdot x^{3}}{2 \\cdot 4 \\cdot 6 \\cdot 7}+\\cdots$$\n",
    "e calcular usando a fórmula\n",
    "$$\\frac{\\pi}{6}=\\arcsin \\frac{1}{2}$$\n",
    "tendo em vista que\n",
    "$$\\sin \\frac{\\pi}{6}=\\frac{1}{2}$$\n",
    "Com base nos métodos acima descritos,\n",
    "i. calcule com quantos termos a representação de π atinge 10 casas decimais para cada um dos\n",
    "métodos\n",
    "ii. elabore um gráfico que mostre a evolução do erro em função do número de termos empregados\n",
    "nos métodos e comente os resultados obtidos (dica: use a biblioteca matplotlib para a geração\n",
    "dos gráficos);\n",
    "\n",
    "**Resolva a avaliação usando um Jupyter Notebook, colocando seu nome e primeiro sobrenome\n",
    "como nome do arquivo, e.g. “Paulo_Ribeiro.ipynb”. Após a finalização da avaliação, entregue o\n",
    "arquivo no Moodle Presencial, no local indicado.** \n",
    "<br />\n",
    "<br />\n",
    "<span style=\"color:red\">\n",
    "TODOS OS COMANDOS E AÇÕES DEVERÃO SER EXPLICADOS EM TODAS AS QUESTÕES QUE\n",
    "SE SEGUEM. A FALTA DE EXPLICAÇÃO DE COMO FORAM RESOLVIDAS AS DEMANDAS ACARRETA\n",
    "EM DIMINUIÇÃO DA NOTA NA CORREÇÃO. <br /> \n",
    "<br />\n",
    "LEMBRE-SE: O JUPYTER NOTEBOOK PRECISA TER O CÓDIGO CORRETAMENTE EXECUTADO\n",
    "POR MIM PARA SER CORRETAMENTE AVALIADO!\n",
    "</span>"
   ]
  },
  {
   "cell_type": "markdown",
   "metadata": {},
   "source": [
    "## Respostas"
   ]
  },
  {
   "cell_type": "code",
   "execution_count": 1,
   "metadata": {},
   "outputs": [],
   "source": [
    "import numpy as np\n",
    "import pandas as pd\n",
    "import matplotlib.pyplot as plt"
   ]
  },
  {
   "cell_type": "code",
   "execution_count": 2,
   "metadata": {},
   "outputs": [],
   "source": [
    "#funções auxiliares \n",
    "\n",
    "erro_total = lambda valor_verdadeiro, aproximacao: valor_verdadeiro - aproximacao\n",
    "\n",
    "erro_relativo_fracionario = lambda valor_verdadeiro, aproximacao: (valor_verdadeiro - aproximacao) / valor_verdadeiro\n",
    "\n",
    "erro_relativo_percentual = lambda valor_verdadeiro, aproximacao: (valor_verdadeiro - aproximacao) / valor_verdadeiro * 100\n",
    "\n",
    "def imprimir_tabela(dados, index = None):\n",
    "    pd.set_option(\"display.precision\", 20)\n",
    "    df = pd.DataFrame(dados, index)\n",
    "    print(df)"
   ]
  },
  {
   "cell_type": "code",
   "execution_count": 3,
   "metadata": {},
   "outputs": [
    {
     "data": {
      "image/png": "[encoded data removed]",
      "text/plain": [
       "<Figure size 432x288 with 1 Axes>"
      ]
     },
     "metadata": {
      "needs_background": "light"
     },
     "output_type": "display_data"
    }
   ],
   "source": [
    "#Configurações dos gráficos\n",
    "\n",
    "eixo_x = np.arange(10000)\n",
    "\n",
    "plt.xlabel('Iterações')\n",
    "plt.ylabel('Valor resultante')\n",
    "plt.legend(['Série a cada iteração', 'valor de pi \"verdadeiro\"'])\n",
    "plt.grid(True)\n",
    "plt.style.use('fivethirtyeight')"
   ]
  },
  {
   "cell_type": "markdown",
   "metadata": {},
   "source": [
    "### Questão i.\n",
    "\n",
    "**De acordo com as séries de Gregory a função arctan (x) podem ser calculadas, como segue:** \n",
    "$$\\arctan x= \\sum_{n=0}^{\\infty} (-1)^{n} \\frac{x^{2 n+1}}{2 n+1};\\quad|x| \\leq 1$$\n",
    "Tomando este somatório como base, pode-se inferir a função abaixo."
   ]
  },
  {
   "cell_type": "code",
   "execution_count": 4,
   "metadata": {},
   "outputs": [],
   "source": [
    "cache_arctan = dict() #Atal\n",
    "def arctan_gregory(x, n):\n",
    "    if n < 0: return 0\n",
    "    if (x, n) not in cache_arctan:\n",
    "        cache_arctan[(x, n)] = arctan_gregory(x, n - 1) + (((-1) ** n * x ** (2 * n + 1)) / (2 * n + 1))\n",
    "    return cache_arctan[(x, n)]\n",
    "\n",
    "precisao = 1e-10\n",
    "valor_verdadeiro = np.pi\n",
    "condicao_de_parada = lambda resultado: np.abs(erro_total(resultado, valor_verdadeiro)) > precisao"
   ]
  },
  {
   "cell_type": "markdown",
   "metadata": {},
   "source": [
    "Porém, por se tratar de grandes valores é preferível utilizar a módulo SymPy para maior eficiência computacional, como segue abaixo"
   ]
  },
  {
   "cell_type": "code",
   "execution_count": null,
   "metadata": {},
   "outputs": [
    {
     "name": "stdout",
     "output_type": "stream",
     "text": [
      "  ∞                 \n",
      " ____               \n",
      " ╲                  \n",
      "  ╲       n  2⋅n + 1\n",
      "   ╲  (-1) ⋅x       \n",
      "   ╱  ──────────────\n",
      "  ╱      2⋅n + 1    \n",
      " ╱                  \n",
      " ‾‾‾‾               \n",
      "n = 0               \n",
      "Somatorio igual = pi/4\n"
     ]
    }
   ],
   "source": [
    "from sympy import pprint, N, symbols, Sum, oo as inf\n",
    "\n",
    "x, n = symbols('x n')\n",
    "\n",
    "arctan = Sum((((-1) ** n * x ** (2 * n + 1)) / (2 * n + 1)), (n, 0, inf))\n",
    "pprint(arctan)\n",
    "print('Somatorio igual =', arctan.subs(x, 1).doit())\n",
    "print(4 * N(arctan.subs([(x, 1), (inf, 100000)]).doit()))"
   ]
  },
  {
   "cell_type": "markdown",
   "metadata": {},
   "source": [
    "#### a)\n",
    "$$\\frac{\\pi}{4}=\\arctan 1=1-\\frac{1}{3}+\\frac{1}{5}-\\frac{1}{7}+\\cdots$$"
   ]
  },
  {
   "cell_type": "code",
   "execution_count": null,
   "metadata": {},
   "outputs": [],
   "source": [
    "import itertools\n",
    "\n",
    "valores = list(itertools.takewhile(condicao_de_parada, (4 * N(arctan.subs([(x, 1), (inf, i)])) for i in itertools.count())))\n",
    "\n",
    "grafico_a = plt.plot(eixo_x, valores)\n",
    "grafico_a = plt.plot(eixo_x, np.pi)\n",
    "plt.show()\n",
    "\n",
    "erros_totais = [erro_total(valor, valor_verdadeiro) for valor in valores]\n",
    "\n",
    "tabela = {'Valor':          valor_verdadeiro,\n",
    "          'Resultados_i':   valores,\n",
    "          'Erro total':     erros_totais}\n",
    "\n",
    "imprimir_tabela(tabela)"
   ]
  },
  {
   "cell_type": "markdown",
   "metadata": {},
   "source": [
    "#### b)\n",
    "$$\\frac{\\pi}{4}=4 \\arctan \\frac{1}{5}-\\arctan \\frac{1}{239}$$"
   ]
  },
  {
   "cell_type": "code",
   "execution_count": null,
   "metadata": {},
   "outputs": [],
   "source": [
    "cache_arctan.clear()\n",
    "\n",
    "valores = list(itertools.takewhile(condicao_de_parada, (4 * (4 * N(arctan.subs([(x, 1 / 5), (inf, i)])) - N(arctan.subs([(x, 1 / 239), (inf, i)]))) for i in itertools.count())))\n",
    "\n",
    "erros_totais = [erro_total(valor, valor_verdadeiro) for valor in valores]\n",
    "\n",
    "tabela = {'Valor':          valor_verdadeiro,\n",
    "          'Resultados_i':   valores,\n",
    "          'Erro total':     erros_totais}\n",
    "\n",
    "imprimir_tabela(tabela)"
   ]
  },
  {
   "cell_type": "markdown",
   "metadata": {},
   "source": [
    "#### c)\n",
    "$$\\frac{\\pi}{4}=\\arctan \\frac{1}{2}+\\arctan \\frac{1}{3}$$"
   ]
  },
  {
   "cell_type": "code",
   "execution_count": null,
   "metadata": {},
   "outputs": [],
   "source": [
    "cache_arctan.clear()\n",
    "\n",
    "valores = list(itertools.takewhile(condicao_de_parada, (4 * (N(arctan.subs([(x, 1 / 2), (inf, i)])) + N(arctan.subs([(x, 1 / 3), (inf, i)]))) for i in itertools.count())))\n",
    "\n",
    "erros_totais = [erro_total(valor, valor_verdadeiro) for valor in valores]\n",
    "\n",
    "tabela = {'Valor':          valor_verdadeiro,\n",
    "          'Resultados_i':   valores,\n",
    "          'Erro total':     erros_totais}\n",
    "\n",
    "imprimir_tabela(tabela)"
   ]
  },
  {
   "cell_type": "markdown",
   "metadata": {},
   "source": [
    "#### d)\n",
    "$$\\frac{\\pi}{4}=2 \\arctan \\frac{1}{3}+\\arctan \\frac{1}{7}$$"
   ]
  },
  {
   "cell_type": "code",
   "execution_count": null,
   "metadata": {},
   "outputs": [],
   "source": [
    "valores = list(itertools.takewhile(condicao_de_parada, (4 * (2 * N(arctan.subs([(x, 1 / 3), (inf, i)])) + N(arctan.subs([(x, 1 / 7), (inf, i)]))) for i in itertools.count())))\n",
    "\n",
    "erros_totais = [erro_total(valor, valor_verdadeiro) for valor in valores]\n",
    "\n",
    "tabela = {'Valor':          valor_verdadeiro,\n",
    "          'Resultados_i':   valores,\n",
    "          'Erro total':     erros_totais}\n",
    "\n",
    "imprimir_tabela(tabela)"
   ]
  },
  {
   "cell_type": "markdown",
   "metadata": {},
   "source": [
    "#### e)\n",
    "$$\\frac{\\pi}{4}=\\arctan \\frac{1}{2}+\\arctan \\frac{1}{5}+\\arctan \\frac{1}{7}$$"
   ]
  },
  {
   "cell_type": "code",
   "execution_count": null,
   "metadata": {},
   "outputs": [],
   "source": [
    "valores = list(itertools.takewhile(condicao_de_parada, (4 * (N(arctan.subs([(x, 1 / 2), (inf, i)])) + N(arctan.subs([(x, 1 / 5), (inf, i)])) + N(arctan.subs([(x, 1 / 7), (inf, i)]))) for i in itertools.count())))\n",
    "\n",
    "erros_totais = [erro_total(valor, valor_verdadeiro) for valor in valores]\n",
    "\n",
    "tabela = {'Valor':          valor_verdadeiro,\n",
    "          'Resultados_i':   valores,\n",
    "          'Erro total':     erros_totais}\n",
    "\n",
    "imprimir_tabela(tabela)"
   ]
  },
  {
   "cell_type": "markdown",
   "metadata": {},
   "source": [
    "#### f)\n",
    "$$\\arcsin x=x+\\frac{x^{3}}{2 \\cdot 3}+\\frac{3 \\cdot x^{3}}{2 \\cdot 4 \\cdot 5}+\\frac{3 \\cdot 5 \\cdot x^{3}}{2 \\cdot 4 \\cdot 6 \\cdot 7}+\\cdots$$\n",
    "$$\\frac{\\pi}{6}=\\arcsin \\frac{1}{2}$$\n",
    "$$\\sin \\frac{\\pi}{6}=\\frac{1}{2}$$\n",
    "\n",
    "**De acordo com as fórmulas apresentadas anteriormente, é possível calcular o valor do arcsin (x), como segue:** \n",
    "$$\\arcsin x =\\sum_{n=0}^{\\infty} \\frac{(2 n-1) ! !}{(2 n) ! !} \\frac{x^{2 n+1}}{2 n+1};\\quad|x| \\leq 1$$\n",
    "Tomando este somatório como base, pode-se inferir a função abaixo."
   ]
  },
  {
   "cell_type": "code",
   "execution_count": null,
   "metadata": {},
   "outputs": [],
   "source": [
    "from scipy.special import factorial2 as double_fac\n",
    "\n",
    "cache_arcsin = dict() #Atal\n",
    "def arcsin_series(x, n):\n",
    "    if n < 0: return 0\n",
    "    if (x, n) not in cache_arcsin:\n",
    "        cache_arcsin[(x, n)] = arcsin_series(x, n - 1) + ((double_fac(2 * n - 1) * x ** (2 * n + 1)) /(double_fac(2 * n) * (2 * n + 1)))\n",
    "    return cache_arcsin[(x, n)]"
   ]
  },
  {
   "cell_type": "markdown",
   "metadata": {},
   "source": [
    "Porém, por se tratar de grandes valores é preferível utilizar a módulo SymPy para maior eficiência computacional, como segue abaixo"
   ]
  },
  {
   "cell_type": "code",
   "execution_count": null,
   "metadata": {},
   "outputs": [],
   "source": [
    "arcsin = Sum((((double_fac(2 * n - 1) * x ** (2 * n + 1)) / (double_fac(2 * n) * (2 * n + 1))), (n, 0, inf)))\n",
    "pprint(arcsin)\n",
    "print('Somatorio igual =', arcsin.subs(x, 1 / 2).doit())"
   ]
  },
  {
   "cell_type": "code",
   "execution_count": null,
   "metadata": {
    "run_control": {
     "marked": true
    }
   },
   "outputs": [],
   "source": [
    "valores = list(itertools.takewhile(condicao_de_parada, (6 * arcsin_series(1 / 2, i) for i in itertools.count())))\n",
    "\n",
    "erros_totais = [erro_total(valor, valor_verdadeiro) for valor in valores]\n",
    "\n",
    "tabela = {'Valor':          valor_verdadeiro,\n",
    "          'Resultados_i':   valores,\n",
    "          'Erro total':     erros_totais}\n",
    "\n",
    "imprimir_tabela(tabela)"
   ]
  },
  {
   "cell_type": "markdown",
   "metadata": {},
   "source": [
    "### Questão ii."
   ]
  },
  {
   "cell_type": "markdown",
   "metadata": {},
   "source": [
    "#### a)"
   ]
  },
  {
   "cell_type": "code",
   "execution_count": null,
   "metadata": {},
   "outputs": [],
   "source": [
    "plt.title('Questão a)')\n",
    "grafico_a = plt.plot(eixo_x, valores)\n",
    "grafico_a = plt.plot(eixo_x, np.pi)\n",
    "grafico_a.show()"
   ]
  },
  {
   "cell_type": "markdown",
   "metadata": {},
   "source": [
    "#### b)"
   ]
  },
  {
   "cell_type": "code",
   "execution_count": null,
   "metadata": {},
   "outputs": [],
   "source": [
    "plt.title('Questão b)')"
   ]
  },
  {
   "cell_type": "markdown",
   "metadata": {},
   "source": [
    "#### c)"
   ]
  },
  {
   "cell_type": "code",
   "execution_count": null,
   "metadata": {},
   "outputs": [],
   "source": [
    "plt.title('Questão c)')"
   ]
  },
  {
   "cell_type": "markdown",
   "metadata": {},
   "source": [
    "#### d)"
   ]
  },
  {
   "cell_type": "code",
   "execution_count": null,
   "metadata": {},
   "outputs": [],
   "source": [
    "plt.title('Questão d)')"
   ]
  },
  {
   "cell_type": "markdown",
   "metadata": {},
   "source": [
    "#### e)"
   ]
  },
  {
   "cell_type": "code",
   "execution_count": null,
   "metadata": {},
   "outputs": [],
   "source": [
    "plt.title('Questão e)')"
   ]
  },
  {
   "cell_type": "markdown",
   "metadata": {},
   "source": [
    "#### f)"
   ]
  },
  {
   "cell_type": "code",
   "execution_count": null,
   "metadata": {},
   "outputs": [],
   "source": [
    "plt.title('Questão f)')"
   ]
  }
 ],
 "metadata": {
  "kernelspec": {
   "display_name": "Python 3",
   "language": "python",
   "name": "python3"
  },
  "language_info": {
   "codemirror_mode": {
    "name": "ipython",
    "version": 3
   },
   "file_extension": ".py",
   "mimetype": "text/x-python",
   "name": "python",
   "nbconvert_exporter": "python",
   "pygments_lexer": "ipython3",
   "version": "3.7.6"
  }
 },
 "nbformat": 4,
 "nbformat_minor": 4
}
