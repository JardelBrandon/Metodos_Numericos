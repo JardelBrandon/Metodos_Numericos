{
 "cells": [
  {
   "cell_type": "markdown",
   "metadata": {},
   "source": [
    "**<p>Disciplina:** Métodos Numéricos</p>\n",
    "**<p>Semestre:** 2020.2</p>\n",
    "**<p>Aluno:** Jardel Brandon de Araujo Regis</p>\n",
    "**<p>Mátricula:** 201621250014</p>\n",
    "**<p>2ª Unidade:** Álgebra Linear Computacional</p>\n",
    "\n",
    "---\n",
    "# <center>Introdução aos Sistemas de Equações Lineares</center>\n",
    "## <center>Exercícios #1 </center>\n",
    "---"
   ]
  },
  {
   "cell_type": "code",
   "execution_count": 1,
   "metadata": {},
   "outputs": [],
   "source": [
    "import numpy as np"
   ]
  },
  {
   "cell_type": "markdown",
   "metadata": {},
   "source": [
    "### Introdução à sistemas de equações lineares "
   ]
  },
  {
   "cell_type": "markdown",
   "metadata": {},
   "source": [
    "$$\n",
    "\\begin{aligned}\n",
    "3 x_{1}+4 x_{2}-5 x_{3}+x_{4} &=-10 \\\\\n",
    "x_{2}+x_{3}-2 x_{4} &=-1 \\\\\n",
    "4 x_{3}-5 x_{4} &=3 \\\\\n",
    "2 x_{4} &=2\n",
    "\\end{aligned}\n",
    "$$"
   ]
  },
  {
   "cell_type": "markdown",
   "metadata": {},
   "source": [
    "#### Exercício 1.\n",
    "\n",
    "Verifique, refazendo o exemplo acima, se a equação da substituição\n",
    "retroativa, descrita na equação 20, de fato funciona.\n",
    "\n",
    "$$\n",
    "x_{i}=\\frac{b_{i}-\\sum_{j=i+1}^{n} a_{i j} x_{j}}{a_{i i}}, \\quad \\forall i=m, \\ldots, 1 \n",
    "$$\n",
    "\n",
    "<center> 20. </center>\n",
    "\n"
   ]
  },
  {
   "cell_type": "markdown",
   "metadata": {},
   "source": [
    "Resposta:\n",
    "\n",
    "$x_{n}$, pode ser encontrada diretamente, simplesmente fazendo\n",
    "\\begin{equation}\n",
    "a_{n n} x_{n}=b_{n} \\Rightarrow x_{n}= \\frac{b_{n}}{a_{n n}}\n",
    "\\end{equation} \n",
    "\n",
    "\\begin{eqnarray}\n",
    "x_{n} =& \\frac{2}{2} \\nonumber \\\\\n",
    "x_{4} =& 1 \\nonumber\n",
    "\\end{eqnarray}\n",
    "\n",
    "Para a penúltima equação $, a_{(n-1)(n-1)} x_{n-1}+a_{(n-1) n} x_{n}=b_{n-1},$ o valor de uma incógnita já é conhecido, $x_{n}$. Dessa forma, para encontrar a incógnita que falta, basta isolar a incógnita\n",
    "cujo valor ainda não se conhece\n",
    "\n",
    "\\begin{eqnarray}\n",
    "{a}_{(n-1)(n-1)} x_{n-1}+a_{(n-1) n} x_{n}=b_{n-1} \\Rightarrow x_{n-1}=\\frac{b_{n-1}-a_{(n-1) n} x_{n}}{a_{(n-1)(n-1)}}\n",
    "\\end{eqnarray}\n",
    "<br>\n",
    "substituindo o valor de $x_{n}$ encontrado no passo anterior.\n",
    "<br>\n",
    "\\begin{eqnarray}\n",
    "x_{n-1} =& \\frac{(3 - (- 5) * 1)}{4} \\nonumber \\\\ \n",
    "x_{n-1} =& \\frac{3 + 5}{4} \\nonumber \\\\\n",
    "x_{n-1} =& \\frac{8}{4} \\nonumber \\\\\n",
    "x_{3} =& 2 \\nonumber\n",
    "\\end{eqnarray}\n",
    "<br>\n",
    "<br>\n",
    "<br>\n",
    "\\begin{eqnarray}\n",
    "x_{n-2} =& \\frac{(-1 - ((1 * 2) + (-2 * 1))}{1} \\nonumber \\\\  \n",
    "x_{n-2} =& \\frac{-1}{1} \\nonumber \\\\ \n",
    "x_{2} =& -1 \\nonumber \\\\ \n",
    "\\end{eqnarray}\n",
    "<br>\n",
    "<br>\n",
    "<br>\n",
    "\\begin{eqnarray}\n",
    "x_{n-3} =& \\frac{-10 - ((4 * -1) + (-5 * 2) + (1 * 1))}{3} \\nonumber \\\\ \n",
    "x_{x-3} =& \\frac{-10 - (-4 -10 + 1}{3} \\nonumber \\\\ \n",
    "x_{n-3} =& \\frac{-10 - (-13)}{3} \\nonumber \\\\ \n",
    "x_{n-3} =& \\frac{-10 + 13)}{3} \\nonumber \\\\ \n",
    "x_{n-3} =& \\frac{3)}{3} \\nonumber \\\\ \n",
    "x_{1} =& 1 \\nonumber \\\\ \n",
    "\\end{eqnarray}\n",
    "\n",
    "Logo, <br>\n",
    "\\begin{eqnarray}\n",
    "x_1 =& 1 \\nonumber \\\\ \n",
    "x_2 =& -1 \\nonumber \\\\ \n",
    "x_3 =& 2 \\nonumber \\\\ \n",
    "x_4 =& 1 \\nonumber \\\\ \n",
    "\\end{eqnarray}"
   ]
  },
  {
   "cell_type": "markdown",
   "metadata": {},
   "source": [
    "#### Exercício 2. \n",
    "Faça um programa em Python que calcule a solução de um sistema\n",
    "triangular superior usando substituição retroativa. Para representação das matrizes e\n",
    "vetores use exclusivamente Numpy."
   ]
  },
  {
   "cell_type": "code",
   "execution_count": 2,
   "metadata": {},
   "outputs": [],
   "source": [
    "def resolver_sistemas_lineares_triangulares(A, b, inferior=False):\n",
    "    n = len(b)\n",
    "    x = np.empty(n)\n",
    "    if(inferior == True):\n",
    "        x[0] = b[0] / A[0][0]\n",
    "        for i in range(1, n):\n",
    "            x[i] = (b[i] - np.sum(A[i][:i] * x[:i])) / A[i, i]\n",
    "    else:\n",
    "        x[-1] = b[-1] / A[-1][-1]\n",
    "        for i in range(n - 2, -1, -1):\n",
    "            x[i] = (b[i] - np.sum(A[i][i + 1:] * x[i + 1:])) / A[i][i]\n",
    "    return x"
   ]
  },
  {
   "cell_type": "code",
   "execution_count": 3,
   "metadata": {},
   "outputs": [],
   "source": [
    "A = np.array([[3, 4, -5, 1], [0, 1, 1, -2], [0, 0, 4, -5], [0, 0, 0, 2]])\n",
    "b = np.array([-10, -1, 3, 2])"
   ]
  },
  {
   "cell_type": "code",
   "execution_count": 4,
   "metadata": {},
   "outputs": [
    {
     "data": {
      "text/plain": [
       "array([ 1., -1.,  2.,  1.])"
      ]
     },
     "execution_count": 4,
     "metadata": {},
     "output_type": "execute_result"
    }
   ],
   "source": [
    "x = resolver_sistemas_lineares_triangulares(A, b)\n",
    "x"
   ]
  },
  {
   "cell_type": "code",
   "execution_count": 5,
   "metadata": {},
   "outputs": [
    {
     "data": {
      "text/plain": [
       "array([-10.,  -1.,   3.,   2.])"
      ]
     },
     "execution_count": 5,
     "metadata": {},
     "output_type": "execute_result"
    }
   ],
   "source": [
    "A.dot(x)"
   ]
  },
  {
   "cell_type": "markdown",
   "metadata": {
    "run_control": {
     "marked": false
    }
   },
   "source": [
    "#### Exercício 3. \n",
    "Faça um programa em Python que calcule a solução de um sistema\n",
    "triangular inferior usando substituição progressiva. Para representação das matrizes e\n",
    "vetores use exclusivamente Numpy."
   ]
  },
  {
   "cell_type": "markdown",
   "metadata": {},
   "source": [
    "$$\n",
    "\\begin{array}{r}\n",
    "3 x_{1}=4 \\\\\n",
    "2 x_{1}+x_{2}=2 \\\\\n",
    "x_{1}+x_{3}=4 \\\\\n",
    "x_{1}+x_{2}+x_{3}+x_{4}=2\n",
    "\\end{array}\n",
    "$$"
   ]
  },
  {
   "cell_type": "code",
   "execution_count": 6,
   "metadata": {},
   "outputs": [],
   "source": [
    "A = np.array([[3,0,0,0],[2,1,0,0],[1,0,1,0],[1,1,1,1]])\n",
    "b = np.array([4,2,4,2])"
   ]
  },
  {
   "cell_type": "code",
   "execution_count": 7,
   "metadata": {},
   "outputs": [
    {
     "data": {
      "text/plain": [
       "array([ 1.33333333, -0.66666667,  2.66666667, -1.33333333])"
      ]
     },
     "execution_count": 7,
     "metadata": {},
     "output_type": "execute_result"
    }
   ],
   "source": [
    "x = resolver_sistemas_lineares_triangulares(A, b, True)\n",
    "x"
   ]
  },
  {
   "cell_type": "code",
   "execution_count": 8,
   "metadata": {},
   "outputs": [
    {
     "data": {
      "text/plain": [
       "array([4., 2., 4., 2.])"
      ]
     },
     "execution_count": 8,
     "metadata": {},
     "output_type": "execute_result"
    }
   ],
   "source": [
    "A.dot(x)"
   ]
  },
  {
   "cell_type": "markdown",
   "metadata": {},
   "source": [
    "#### Exercício 4.\n",
    "Compare os resultados das implementações de suas funções para a solução\n",
    "de sistemas triangulares com a função do scipy. Os resultados são diferentes? Experimente\n",
    "com outros exemplos."
   ]
  },
  {
   "cell_type": "code",
   "execution_count": 9,
   "metadata": {},
   "outputs": [],
   "source": [
    "import scipy.linalg as sla\n",
    "import numpy as np"
   ]
  },
  {
   "cell_type": "markdown",
   "metadata": {},
   "source": [
    "$$\n",
    "\\begin{aligned}\n",
    "3 x_{1}+4 x_{2}-5 x_{3}+x_{4} &=-10 \\\\\n",
    "x_{2}+x_{3}-2 x_{4} &=-1 \\\\\n",
    "4 x_{3}-5 x_{4} &=3 \\\\\n",
    "2 x_{4} &=2\n",
    "\\end{aligned}\n",
    "$$"
   ]
  },
  {
   "cell_type": "code",
   "execution_count": 10,
   "metadata": {},
   "outputs": [],
   "source": [
    "A = np.array([[3, 4, -5, 1],[0, 1, 1, -2],[0, 0, 4, -5],[0, 0, 0, 2]])\n",
    "b = np.array([-10, -1, 3, 2])"
   ]
  },
  {
   "cell_type": "code",
   "execution_count": 11,
   "metadata": {},
   "outputs": [
    {
     "data": {
      "text/plain": [
       "array([ 1., -1.,  2.,  1.])"
      ]
     },
     "execution_count": 11,
     "metadata": {},
     "output_type": "execute_result"
    }
   ],
   "source": [
    "x = sla.solve_triangular(A,b)\n",
    "x"
   ]
  },
  {
   "cell_type": "code",
   "execution_count": 12,
   "metadata": {},
   "outputs": [
    {
     "data": {
      "text/plain": [
       "array([ 1., -1.,  2.,  1.])"
      ]
     },
     "execution_count": 12,
     "metadata": {},
     "output_type": "execute_result"
    }
   ],
   "source": [
    "y = resolver_sistemas_lineares_triangulares(A, b)\n",
    "y"
   ]
  },
  {
   "cell_type": "code",
   "execution_count": 13,
   "metadata": {},
   "outputs": [
    {
     "name": "stdout",
     "output_type": "stream",
     "text": [
      "True\n"
     ]
    }
   ],
   "source": [
    "print(np.array_equal(x, y))"
   ]
  },
  {
   "cell_type": "markdown",
   "metadata": {},
   "source": [
    "$$\n",
    "\\begin{array}{r}\n",
    "3 x_{1}=4 \\\\\n",
    "2 x_{1}+x_{2}=2 \\\\\n",
    "x_{1}+x_{3}=4 \\\\\n",
    "x_{1}+x_{2}+x_{3}+x_{4}=2\n",
    "\\end{array}\n",
    "$$"
   ]
  },
  {
   "cell_type": "code",
   "execution_count": 14,
   "metadata": {},
   "outputs": [],
   "source": [
    "A = np.array([[3,0,0,0],[2,1,0,0],[1,0,1,0],[1,1,1,1]])\n",
    "b = np.array([4,2,4,2])"
   ]
  },
  {
   "cell_type": "code",
   "execution_count": 15,
   "metadata": {},
   "outputs": [
    {
     "data": {
      "text/plain": [
       "array([ 1.33333333, -0.66666667,  2.66666667, -1.33333333])"
      ]
     },
     "execution_count": 15,
     "metadata": {},
     "output_type": "execute_result"
    }
   ],
   "source": [
    "x = sla.solve_triangular(A,b, lower=True)\n",
    "x"
   ]
  },
  {
   "cell_type": "code",
   "execution_count": 16,
   "metadata": {},
   "outputs": [
    {
     "data": {
      "text/plain": [
       "array([ 1.33333333, -0.66666667,  2.66666667, -1.33333333])"
      ]
     },
     "execution_count": 16,
     "metadata": {},
     "output_type": "execute_result"
    }
   ],
   "source": [
    "y = resolver_sistemas_lineares_triangulares(A, b, True)\n",
    "y"
   ]
  },
  {
   "cell_type": "code",
   "execution_count": 17,
   "metadata": {},
   "outputs": [
    {
     "name": "stdout",
     "output_type": "stream",
     "text": [
      "False\n"
     ]
    }
   ],
   "source": [
    "print(np.array_equal(x, y))"
   ]
  },
  {
   "cell_type": "markdown",
   "metadata": {},
   "source": [
    "Outro Exemplo:\n",
    "$$\n",
    "\\left\\{\\begin{aligned}\n",
    "x_{1}+2 x_{2}+x_{3} &=20 \\\\\n",
    "x_{2}+2 x_{3} &=11 \\\\\n",
    "x_{3} &=3\n",
    "\\end{aligned}\\right.\n",
    "$$"
   ]
  },
  {
   "cell_type": "code",
   "execution_count": 18,
   "metadata": {},
   "outputs": [],
   "source": [
    "A = np.array([[1, 2, 1], [0, 1, 2], [0, 0, 1]])\n",
    "b = np.array([20, 11, 3])"
   ]
  },
  {
   "cell_type": "code",
   "execution_count": 19,
   "metadata": {},
   "outputs": [
    {
     "data": {
      "text/plain": [
       "array([7., 5., 3.])"
      ]
     },
     "execution_count": 19,
     "metadata": {},
     "output_type": "execute_result"
    }
   ],
   "source": [
    "x = sla.solve_triangular(A,b)\n",
    "x"
   ]
  },
  {
   "cell_type": "code",
   "execution_count": 20,
   "metadata": {},
   "outputs": [
    {
     "data": {
      "text/plain": [
       "array([7., 5., 3.])"
      ]
     },
     "execution_count": 20,
     "metadata": {},
     "output_type": "execute_result"
    }
   ],
   "source": [
    "y = resolver_sistemas_lineares_triangulares(A, b)\n",
    "y"
   ]
  },
  {
   "cell_type": "code",
   "execution_count": 21,
   "metadata": {},
   "outputs": [
    {
     "name": "stdout",
     "output_type": "stream",
     "text": [
      "True\n"
     ]
    }
   ],
   "source": [
    "print(np.array_equal(x, y))"
   ]
  },
  {
   "cell_type": "markdown",
   "metadata": {},
   "source": [
    "Outro Exemplo:\n",
    "$$\n",
    "\\left(\\begin{array}{rrr}\n",
    "2 & 1 & 3 \\\\\n",
    "0 & -1 & 1 \\\\\n",
    "0 & 0 & 1\n",
    "\\end{array}\\right)\\left(\\begin{array}{l}\n",
    "x_{1} \\\\\n",
    "x_{2} \\\\\n",
    "x_{3}\n",
    "\\end{array}\\right)=\\left(\\begin{array}{l}\n",
    "9 \\\\\n",
    "1 \\\\\n",
    "2\n",
    "\\end{array}\\right)\n",
    "$$"
   ]
  },
  {
   "cell_type": "code",
   "execution_count": 22,
   "metadata": {},
   "outputs": [],
   "source": [
    "A = np.array([[2, 1, 3], [0, -1, 1], [0, 0, 1]])\n",
    "b = np.array([9, 1, 2])"
   ]
  },
  {
   "cell_type": "code",
   "execution_count": 23,
   "metadata": {},
   "outputs": [
    {
     "data": {
      "text/plain": [
       "array([1., 1., 2.])"
      ]
     },
     "execution_count": 23,
     "metadata": {},
     "output_type": "execute_result"
    }
   ],
   "source": [
    "x = sla.solve_triangular(A,b)\n",
    "x"
   ]
  },
  {
   "cell_type": "code",
   "execution_count": 24,
   "metadata": {},
   "outputs": [
    {
     "data": {
      "text/plain": [
       "array([1., 1., 2.])"
      ]
     },
     "execution_count": 24,
     "metadata": {},
     "output_type": "execute_result"
    }
   ],
   "source": [
    "y = resolver_sistemas_lineares_triangulares(A, b)\n",
    "y"
   ]
  },
  {
   "cell_type": "code",
   "execution_count": 25,
   "metadata": {},
   "outputs": [
    {
     "name": "stdout",
     "output_type": "stream",
     "text": [
      "True\n"
     ]
    }
   ],
   "source": [
    "print(np.array_equal(x, y))"
   ]
  },
  {
   "cell_type": "markdown",
   "metadata": {},
   "source": [
    "### Introdução à sistemas de equações lineares - Complemento"
   ]
  },
  {
   "cell_type": "markdown",
   "metadata": {},
   "source": [
    "#### Exercício 1.1 \n",
    "Classifique os sistemas abaixo com relação a quantidade e existência de\n",
    "soluções."
   ]
  },
  {
   "cell_type": "markdown",
   "metadata": {},
   "source": [
    "##### a)\n",
    "$$\n",
    "\\begin{array}{r}\n",
    "x+2 y+3 z=1 \\\\\n",
    "4 x+5 y+6 z=1 \\\\\n",
    "7 x+8 y+9 z=1\n",
    "\\end{array}\n",
    "$$"
   ]
  },
  {
   "cell_type": "markdown",
   "metadata": {},
   "source": [
    "##### resolução a)"
   ]
  },
  {
   "cell_type": "code",
   "execution_count": 26,
   "metadata": {},
   "outputs": [],
   "source": [
    "A = np.array([[1, 2, 3], [4, 5, 6], [7, 8, 9,]])\n",
    "b = np.array([1, 1, 1])"
   ]
  },
  {
   "cell_type": "code",
   "execution_count": 27,
   "metadata": {},
   "outputs": [
    {
     "data": {
      "text/plain": [
       "2"
      ]
     },
     "execution_count": 27,
     "metadata": {},
     "output_type": "execute_result"
    }
   ],
   "source": [
    "np.linalg.matrix_rank(A)"
   ]
  },
  {
   "cell_type": "code",
   "execution_count": 28,
   "metadata": {},
   "outputs": [
    {
     "data": {
      "text/plain": [
       "2"
      ]
     },
     "execution_count": 28,
     "metadata": {},
     "output_type": "execute_result"
    }
   ],
   "source": [
    " np.linalg.matrix_rank(np.c_[A, b])"
   ]
  },
  {
   "cell_type": "code",
   "execution_count": 29,
   "metadata": {
    "scrolled": true
   },
   "outputs": [
    {
     "data": {
      "text/plain": [
       "3"
      ]
     },
     "execution_count": 29,
     "metadata": {},
     "output_type": "execute_result"
    }
   ],
   "source": [
    "A.shape[1]"
   ]
  },
  {
   "cell_type": "markdown",
   "metadata": {},
   "source": [
    "Como o posto da matriz dos coeficientes é igual ao posto da matriz ampliada que são menores que o número de incógnitas: $P_C = P_A < número de incógnitas.\n",
    "Logo o sistema possuí infinitas soluções (Possível e Inderteminados)"
   ]
  },
  {
   "cell_type": "markdown",
   "metadata": {},
   "source": [
    "##### b)\n",
    "$$\n",
    "\\begin{aligned}\n",
    "2 x+3 y &=10 \\\\\n",
    "-4 x-6 y &=-10\n",
    "\\end{aligned}\n",
    "$$"
   ]
  },
  {
   "cell_type": "markdown",
   "metadata": {},
   "source": [
    "##### resolução b)"
   ]
  },
  {
   "cell_type": "code",
   "execution_count": 30,
   "metadata": {},
   "outputs": [],
   "source": [
    "A = np.array([[2, 3], [-4, -6]])\n",
    "b = np.array([10, -10])"
   ]
  },
  {
   "cell_type": "code",
   "execution_count": 31,
   "metadata": {},
   "outputs": [
    {
     "data": {
      "text/plain": [
       "1"
      ]
     },
     "execution_count": 31,
     "metadata": {},
     "output_type": "execute_result"
    }
   ],
   "source": [
    "np.linalg.matrix_rank(A)"
   ]
  },
  {
   "cell_type": "code",
   "execution_count": 32,
   "metadata": {},
   "outputs": [
    {
     "data": {
      "text/plain": [
       "2"
      ]
     },
     "execution_count": 32,
     "metadata": {},
     "output_type": "execute_result"
    }
   ],
   "source": [
    " np.linalg.matrix_rank(np.c_[A, b])"
   ]
  },
  {
   "cell_type": "code",
   "execution_count": 33,
   "metadata": {},
   "outputs": [
    {
     "data": {
      "text/plain": [
       "2"
      ]
     },
     "execution_count": 33,
     "metadata": {},
     "output_type": "execute_result"
    }
   ],
   "source": [
    "A.shape[1]"
   ]
  },
  {
   "cell_type": "markdown",
   "metadata": {},
   "source": [
    "Como o posto da matriz dos coeficientes é menor que o posto da matriz ampliada: $P_C < P_A$.\n",
    "Logo o sistema não tem solução (Impossível)"
   ]
  },
  {
   "cell_type": "markdown",
   "metadata": {},
   "source": [
    "Exemplo 3.2\n",
    "$$\n",
    "\\begin{aligned}\n",
    "3 x_{1}+4 x_{2}-5 x_{3}+x_{4} &=-10 \\\\\n",
    "x_{2}+x_{3}-2 x_{4} &=-1 \\\\\n",
    "4 x_{3}-5 x_{4} &=3 \\\\\n",
    "2 x_{4} &=2\n",
    "\\end{aligned}\n",
    "$$"
   ]
  },
  {
   "cell_type": "markdown",
   "metadata": {},
   "source": [
    "#### Exercício 1.2 \n",
    "Repita o exemplo 3.2 acima, porém fazendo cada passo da execução de\n",
    "forma explícita, comparando como o algoritmo 1.3 e a função sist_lin_tri_sup funcionam.\n",
    "Sugestão: faça isso de forma manuscrita. Ajudará a entender melhor cada passo.\n"
   ]
  },
  {
   "cell_type": "markdown",
   "metadata": {},
   "source": [
    "Algoritmo 1.3 Substituição retroativa para sistemas triangulares superiores\n",
    "Entrada: matriz triangular superior de coeficientes $A,$ vetor de termos independentes $b$ Passo 1: criar um vetor com todos os valores iguais a zero: $x=0$ Passo 2: calcular a incógnita de maior índice $x_{n}=\\frac{b_{n}}{a_{n n}}$ para $i$ variando de $n-1$ à 1 faça\n",
    "Passo 3: calcular os valores restantes do vetor soluçāo\n",
    "$$\n",
    "x_{i}=\\frac{b_{i}-\\sum_{j=i+1}^{n} a_{i j} x_{j}}{a_{i i}}\n",
    "$$\n",
    "Passo 4: atualizar os valores do vetor $x$"
   ]
  },
  {
   "cell_type": "markdown",
   "metadata": {},
   "source": [
    "Resposta:\n",
    "\n",
    "$x_{n}$, pode ser encontrada diretamente, simplesmente fazendo\n",
    "\\begin{equation}\n",
    "a_{n n} x_{n}=b_{n} \\Rightarrow x_{n}= \\frac{b_{n}}{a_{n n}}\n",
    "\\end{equation} \n",
    "\n",
    "\\begin{eqnarray}\n",
    "x_{n} =& \\frac{2}{2} \\nonumber \\\\\n",
    "x_{4} =& 1 \\nonumber\n",
    "\\end{eqnarray}\n",
    "\n",
    "Para a penúltima equação $, a_{(n-1)(n-1)} x_{n-1}+a_{(n-1) n} x_{n}=b_{n-1},$ o valor de uma incógnita já é conhecido, $x_{n}$. Dessa forma, para encontrar a incógnita que falta, basta isolar a incógnita\n",
    "cujo valor ainda não se conhece\n",
    "\n",
    "\\begin{eqnarray}\n",
    "{a}_{(n-1)(n-1)} x_{n-1}+a_{(n-1) n} x_{n}=b_{n-1} \\Rightarrow x_{n-1}=\\frac{b_{n-1}-a_{(n-1) n} x_{n}}{a_{(n-1)(n-1)}}\n",
    "\\end{eqnarray}\n",
    "<br>\n",
    "substituindo o valor de $x_{n}$ encontrado no passo anterior.\n",
    "<br>\n",
    "\\begin{eqnarray}\n",
    "x_{n-1} =& \\frac{(3 - (- 5) * 1)}{4} \\nonumber \\\\ \n",
    "x_{n-1} =& \\frac{3 + 5}{4} \\nonumber \\\\\n",
    "x_{n-1} =& \\frac{8}{4} \\nonumber \\\\\n",
    "x_{3} =& 2 \\nonumber\n",
    "\\end{eqnarray}\n",
    "<br>\n",
    "<br>\n",
    "<br>\n",
    "\\begin{eqnarray}\n",
    "x_{n-2} =& \\frac{(-1 - ((1 * 2) + (-2 * 1))}{1} \\nonumber \\\\  \n",
    "x_{n-2} =& \\frac{-1}{1} \\nonumber \\\\ \n",
    "x_{2} =& -1 \\nonumber \\\\ \n",
    "\\end{eqnarray}\n",
    "<br>\n",
    "<br>\n",
    "<br>\n",
    "\\begin{eqnarray}\n",
    "x_{n-3} =& \\frac{-10 - ((4 * -1) + (-5 * 2) + (1 * 1))}{3} \\nonumber \\\\ \n",
    "x_{x-3} =& \\frac{-10 - (-4 -10 + 1}{3} \\nonumber \\\\ \n",
    "x_{n-3} =& \\frac{-10 - (-13)}{3} \\nonumber \\\\ \n",
    "x_{n-3} =& \\frac{-10 + 13)}{3} \\nonumber \\\\ \n",
    "x_{n-3} =& \\frac{3)}{3} \\nonumber \\\\ \n",
    "x_{1} =& 1 \\nonumber \\\\ \n",
    "\\end{eqnarray}\n",
    "\n",
    "Logo, <br>\n",
    "\\begin{eqnarray}\n",
    "x_1 =& 1 \\nonumber \\\\ \n",
    "x_2 =& -1 \\nonumber \\\\ \n",
    "x_3 =& 2 \\nonumber \\\\ \n",
    "x_4 =& 1 \\nonumber \\\\ \n",
    "\\end{eqnarray}"
   ]
  },
  {
   "cell_type": "code",
   "execution_count": 34,
   "metadata": {},
   "outputs": [],
   "source": [
    "def sist_lin_tri_sup(A,b):\n",
    "    n = len(b)\n",
    "    x = np.empty(n)\n",
    "    x[-1] = b[-1]/A[-1, -1]\n",
    "    for i in range(n-2, -1, -1):\n",
    "        x[i] = (b[i] - np.sum(A[i,i+1:]*x[i+1:]))/A[i,i]\n",
    "    return x"
   ]
  },
  {
   "cell_type": "code",
   "execution_count": 35,
   "metadata": {},
   "outputs": [],
   "source": [
    "A = np.array([[3, 4, -5, 1],[0, 1, 1, -2],[0, 0, 4, -5],[0, 0, 0, 2]])\n",
    "b = np.array([-10, -1, 3, 2])"
   ]
  },
  {
   "cell_type": "code",
   "execution_count": 36,
   "metadata": {},
   "outputs": [
    {
     "data": {
      "text/plain": [
       "array([ 1., -1.,  2.,  1.])"
      ]
     },
     "execution_count": 36,
     "metadata": {},
     "output_type": "execute_result"
    }
   ],
   "source": [
    "x = sist_lin_tri_sup(A, b)\n",
    "x"
   ]
  }
 ],
 "metadata": {
  "kernelspec": {
   "display_name": "Python 3",
   "language": "python",
   "name": "python3"
  },
  "language_info": {
   "codemirror_mode": {
    "name": "ipython",
    "version": 3
   },
   "file_extension": ".py",
   "mimetype": "text/x-python",
   "name": "python",
   "nbconvert_exporter": "python",
   "pygments_lexer": "ipython3",
   "version": "3.7.6"
  },
  "varInspector": {
   "cols": {
    "lenName": 16,
    "lenType": 16,
    "lenVar": 40
   },
   "kernels_config": {
    "python": {
     "delete_cmd_postfix": "",
     "delete_cmd_prefix": "del ",
     "library": "var_list.py",
     "varRefreshCmd": "print(var_dic_list())"
    },
    "r": {
     "delete_cmd_postfix": ") ",
     "delete_cmd_prefix": "rm(",
     "library": "var_list.r",
     "varRefreshCmd": "cat(var_dic_list()) "
    }
   },
   "types_to_exclude": [
    "module",
    "function",
    "builtin_function_or_method",
    "instance",
    "_Feature"
   ],
   "window_display": false
  }
 },
 "nbformat": 4,
 "nbformat_minor": 4
}
