{
 "cells": [
  {
   "cell_type": "markdown",
   "metadata": {},
   "source": [
    "**<p>Disciplina:** Métodos Numéricos</p>\n",
    "**<p>Semestre:** 2020.2</p>\n",
    "**<p>Aluno:** Jardel Brandon de Araujo Regis</p>\n",
    "**<p>Mátricula:** 201621250014</p>\n",
    "**<p>2ª Unidade:** Álgebra Linear Computacional</p>\n",
    "\n",
    "---\n",
    "# <center>Solução de sistemas de equações lineares</center>\n",
    "## <center>Exercícios #2 </center>\n",
    "---"
   ]
  },
  {
   "cell_type": "code",
   "execution_count": 1,
   "metadata": {},
   "outputs": [],
   "source": [
    "import numpy as np\n",
    "import scipy.linalg as sla"
   ]
  },
  {
   "cell_type": "markdown",
   "metadata": {},
   "source": [
    "### Eliminação Gaussiana"
   ]
  },
  {
   "cell_type": "code",
   "execution_count": 2,
   "metadata": {},
   "outputs": [],
   "source": [
    "def elimin_gaussiana(a,b,imp = False, norma='inf'):\n",
    "    import numpy as np #colocadas aqui para evitar problemas de namespace\n",
    "    import scipy.linalg as sla #colocadas aqui para evitar problemas de namespace\n",
    "    \n",
    "    #matriz estendida Me\n",
    "    b = np.mat(b).T\n",
    "    Me = np.concatenate((a,b), axis=1)\n",
    "    \n",
    "    if imp: print('Matriz estendida: \\n',Me,'\\n\\n')\n",
    "    if imp: print('='*80)\n",
    "    for j in range(Me.shape[-1] - 2): #coluna\n",
    "        if imp: print('Operação na coluna', j)\n",
    "        if imp: print('='*80, '\\n\\n')\n",
    "        for i in range(j+1, Me.shape[0]): #linha\n",
    "            Me[i] = Me[i] - (Me[i,j]/Me[j,j])*Me[j] #operações com cada linha\n",
    "            if imp: print('Operação na linha', i, ':',Me[i], '\\n')\n",
    "            if imp: print('Matriz escalonando: \\n',Me,'\\n')\n",
    "        if imp: print('='*80)\n",
    "    if imp: print('\\nMatriz escalonada: \\n',Me,'\\n')\n",
    "        \n",
    "    Matriz_A = np.delete(Me, -1, axis=1) #matriz de coeficientes escalonada\n",
    "    Vetor_b = Me[:,-1] #matriz de termos independentes escalonada\n",
    "    Vetor_x = sla.solve_triangular(Matriz_A, Vetor_b) # solução do sistema escalonado\n",
    "    \n",
    "    if imp: print('='*80,'\\n\\nSolução do sistema: \\n', Vetor_x)\n",
    "        \n",
    "    #verificação do erro do sistema\n",
    "    if norma is 'inf': norma = np.inf\n",
    "    if norma is '-inf': norma = -np.inf\n",
    "    Erro = sla.norm(b - a.dot(Vetor_x),ord = norma)\n",
    "    \n",
    "    return (Matriz_A, Vetor_b, Vetor_x, Erro)"
   ]
  },
  {
   "cell_type": "code",
   "execution_count": 3,
   "metadata": {},
   "outputs": [],
   "source": [
    "def elimin_gaussiana_pivoteamento_parcial(a, b, imp=False, norma='inf'):\n",
    "    # matriz estendida Me\n",
    "    b = np.mat(b).T\n",
    "    Me = np.concatenate((a, b), axis=1)\n",
    "    linhas, colunas = Me.shape\n",
    "    Me_copia = np.copy(Me.astype('float'))\n",
    "    a_copia = np.copy(a.astype('float'))\n",
    "    b_copia = np.copy(b.astype('float'))\n",
    "\n",
    "    if imp: print('Matriz estendida: \\n', Me_copia, '\\n\\n')\n",
    "    if imp: print('=' * 80)\n",
    "    for j in range(colunas - 2):  # coluna\n",
    "        maior_coluna_indice = np.argmax(np.abs(Me_copia[j:, j])) + j\n",
    "        if maior_coluna_indice >= j:\n",
    "            Me_copia[[j, maior_coluna_indice]] = Me_copia[[maior_coluna_indice, j]]\n",
    "            a_copia[[j, maior_coluna_indice]] = a_copia[[maior_coluna_indice, j]]\n",
    "            b_copia[[j, maior_coluna_indice]] = b_copia[[maior_coluna_indice, j]]\n",
    "            if imp: print(\"Trocando linha: \",maior_coluna_indice, \"->\", Me_copia[maior_coluna_indice], \"Pela linha: \", j, \"->\", Me_copia[j])\n",
    "        if imp: print('Operação na coluna', j)\n",
    "        if imp: print('=' * 80, '\\n\\n')\n",
    "        for i in range(j + 1, linhas):  # linha\n",
    "            Me_copia[i] = np.subtract(Me_copia[i], (Me_copia[i, j] / Me_copia[j, j]) * Me_copia[j])  # operações com cada linha\n",
    "            if imp: print('Operação na linha', i, ':', Me_copia[i], '\\n')\n",
    "            if imp: print('Matriz escalonando: \\n', Me_copia, '\\n')\n",
    "        if imp: print('=' * 80)\n",
    "    if imp: print('\\nMatriz escalonada: \\n', Me_copia, '\\n')\n",
    "\n",
    "    Matriz_A = np.delete(Me_copia, -1, axis=1)  # matriz de coeficientes escalonada\n",
    "    Vetor_b = Me_copia[:, -1]  # matriz de termos independentes escalonada\n",
    "    Vetor_x = sla.solve_triangular(Matriz_A, Vetor_b)  # solução do sistema escalonado\n",
    "\n",
    "    if imp: print('=' * 80, '\\n\\nSolução do sistema: \\n', Vetor_x)\n",
    "\n",
    "    # verificação do erro do sistema\n",
    "    if norma is 'inf': norma = np.inf\n",
    "    if norma is '-inf': norma = -np.inf\n",
    "    Erro = sla.norm(b_copia.transpose() - a_copia.dot(Vetor_x), ord=norma)\n",
    "\n",
    "    return (Matriz_A, Vetor_b, Vetor_x, Erro)"
   ]
  },
  {
   "cell_type": "code",
   "execution_count": 4,
   "metadata": {},
   "outputs": [
    {
     "data": {
      "text/plain": [
       "(matrix([[ 2,  3, -1],\n",
       "         [ 0, -2, -1],\n",
       "         [ 0,  0,  5]]),\n",
       " matrix([[ 5],\n",
       "         [-7],\n",
       "         [15]]),\n",
       " array([[1.],\n",
       "        [2.],\n",
       "        [3.]]),\n",
       " 0.0)"
      ]
     },
     "execution_count": 4,
     "metadata": {},
     "output_type": "execute_result"
    }
   ],
   "source": [
    "a = np.array([[2,3,-1],[4,4,-3],[2,-3,1]])\n",
    "b = np.array([5,3,-1])\n",
    "M = elimin_gaussiana(a,b)\n",
    "M"
   ]
  },
  {
   "cell_type": "code",
   "execution_count": 5,
   "metadata": {},
   "outputs": [
    {
     "data": {
      "text/plain": [
       "array([1., 2., 3.])"
      ]
     },
     "execution_count": 5,
     "metadata": {},
     "output_type": "execute_result"
    }
   ],
   "source": [
    "sla.solve(a,b)"
   ]
  },
  {
   "cell_type": "markdown",
   "metadata": {},
   "source": [
    "#### Exercise 1 \n",
    "\n",
    "Interprete o erro apresentado acima e altere a função elimin_gaussiana, para que esse erro não ocorra.\n",
    "Essa abordagem de escolha do pivô como o elemento da coluna onde se realizará as operações que está na\n",
    "diagonal principal da matriz de coeficientes deixa o processo bastante sensível a propagação de erros durante\n",
    "as operações."
   ]
  },
  {
   "cell_type": "code",
   "execution_count": 6,
   "metadata": {},
   "outputs": [],
   "source": [
    "a = np.array([[1,1,1],[4,4,2],[2,1,-1]])\n",
    "b = np.array([1,2,0])"
   ]
  },
  {
   "cell_type": "code",
   "execution_count": 7,
   "metadata": {},
   "outputs": [
    {
     "data": {
      "text/plain": [
       "(array([[ 4. ,  4. ,  2. ],\n",
       "        [ 0. , -1. , -2. ],\n",
       "        [ 0. ,  0. ,  0.5]]),\n",
       " array([ 2. , -1. ,  0.5]),\n",
       " array([ 1., -1.,  1.]),\n",
       " 0.0)"
      ]
     },
     "execution_count": 7,
     "metadata": {},
     "output_type": "execute_result"
    }
   ],
   "source": [
    "elimin_gaussiana_pivoteamento_parcial(a,b)"
   ]
  },
  {
   "cell_type": "code",
   "execution_count": 8,
   "metadata": {
    "scrolled": true
   },
   "outputs": [
    {
     "data": {
      "text/plain": [
       "array([ 1., -1.,  1.])"
      ]
     },
     "execution_count": 8,
     "metadata": {},
     "output_type": "execute_result"
    }
   ],
   "source": [
    "sla.solve(a,b)"
   ]
  },
  {
   "cell_type": "markdown",
   "metadata": {},
   "source": [
    "**Example 3** \n",
    "\n",
    "Resolva o sistema:\n",
    "\n",
    "$$\n",
    "\\begin{aligned}\n",
    "x_{1}+4 x_{2}+52 x_{3} &=57 \\\\\n",
    "27 x_{1}+110 x_{2}-3 x_{3} &=134 \\\\\n",
    "22 x_{1}+2 x_{2}+14 x_{3} &=38\n",
    "\\end{aligned}\n",
    "$$\n",
    "pelo método de eliminação gaussiana. Após escalonamento e aplicando, substituição reatroativa ao sistema escalonado, obtemos\n",
    "$$\n",
    "x_{1}=4.5 \\quad x_{2}=0 \\quad x_{3}=1.01\n",
    "$$\n",
    "bastante diferente de\n",
    "$$\n",
    "x_{1}=1 \\quad x_{2}=1 \\quad x_{3}=1\n",
    "$$\n",
    "a solução exata do sistema.\n",
    "\n",
    "#### Exercise 2\n",
    "\n",
    "Quantifique o erro da solução encontrada acima.\n",
    "Esse exemplo ilustra bem os efeitos de propagação de erros quando escalonamos matrizes usando o método\n",
    "de eliminação gaussiana convencional.\n",
    "Esse efeito pode ser mensurado melhor quando consideramos o problema com elementos com grande\n",
    "diferença de escala, como a seguir.\n",
    "Existem duas alternativas à essa escolha de pivô por posição:\n",
    "\n",
    "pivotamento parcial: o pivô escolhido é o maior número na coluna a ser avaliada;\n",
    "\n",
    "pivotamento total: o pivô escolhido é o maior número na matriz de coeficientes (ver livro do Chapra)."
   ]
  },
  {
   "cell_type": "code",
   "execution_count": 9,
   "metadata": {},
   "outputs": [
    {
     "data": {
      "text/plain": [
       "140.0"
      ]
     },
     "execution_count": 9,
     "metadata": {},
     "output_type": "execute_result"
    }
   ],
   "source": [
    "a = np.array([[1, 4, 52], [27, 110, -3], [22, 2, 14]])\n",
    "\n",
    "erro = sla.norm(a, ord=np.inf)\n",
    "erro"
   ]
  },
  {
   "cell_type": "markdown",
   "metadata": {},
   "source": [
    "#### Exercise 3\n",
    "\n",
    "Refaça o exemplo 3 usando eliminação gaussiana com pivotamento parcial e compare os erros\n",
    "do resultado obtido aqui com os do exemplo."
   ]
  },
  {
   "cell_type": "code",
   "execution_count": 10,
   "metadata": {},
   "outputs": [],
   "source": [
    "a = np.array([[1,4,52],[27,110,-3],[22,2,14]])\n",
    "b = np.array([57,134,38])"
   ]
  },
  {
   "cell_type": "code",
   "execution_count": 11,
   "metadata": {
    "scrolled": true
   },
   "outputs": [
    {
     "data": {
      "text/plain": [
       "(matrix([[     1,      4,     52],\n",
       "         [     0,      2,  -1407],\n",
       "         [     0,      0, -61631]]),\n",
       " matrix([[    57],\n",
       "         [ -1405],\n",
       "         [-61631]]),\n",
       " array([[1.],\n",
       "        [1.],\n",
       "        [1.]]),\n",
       " 0.0)"
      ]
     },
     "execution_count": 11,
     "metadata": {},
     "output_type": "execute_result"
    }
   ],
   "source": [
    "elimin_gaussiana(a, b)"
   ]
  },
  {
   "cell_type": "code",
   "execution_count": 12,
   "metadata": {},
   "outputs": [
    {
     "data": {
      "text/plain": [
       "(array([[ 27.        , 110.        ,  -3.        ],\n",
       "        [  0.        , -87.62962963,  16.44444444],\n",
       "        [  0.        ,   0.        ,  52.09721048]]),\n",
       " array([134.        , -71.18518519,  52.09721048]),\n",
       " array([1., 1., 1.]),\n",
       " 0.0)"
      ]
     },
     "execution_count": 12,
     "metadata": {},
     "output_type": "execute_result"
    }
   ],
   "source": [
    "elimin_gaussiana_pivoteamento_parcial(a,b)"
   ]
  },
  {
   "cell_type": "code",
   "execution_count": 13,
   "metadata": {
    "scrolled": true
   },
   "outputs": [
    {
     "data": {
      "text/plain": [
       "array([1., 1., 1.])"
      ]
     },
     "execution_count": 13,
     "metadata": {},
     "output_type": "execute_result"
    }
   ],
   "source": [
    "sla.solve(a,b)"
   ]
  },
  {
   "cell_type": "markdown",
   "metadata": {},
   "source": [
    "O resultado obtido está de acordo com o cálculo análitico "
   ]
  },
  {
   "cell_type": "markdown",
   "metadata": {},
   "source": [
    "#### Exercise 4\n",
    "\n",
    "Implemente uma versão da função elimin_gaussiana que faça o pivotamento parcial. Compare\n",
    "os resultados e erros com os exemplos anteriores."
   ]
  },
  {
   "cell_type": "markdown",
   "metadata": {
    "run_control": {
     "marked": false
    }
   },
   "source": [
    "**Example 4** \n",
    "\n",
    "Resolva o sistema\n",
    "$$\n",
    "\\begin{aligned}\n",
    "0.02 x_{1}+0.01 x_{2} &=0.02 \\\\\n",
    "x_{1}+2 x_{2}+x_{3} &=1 \\\\\n",
    "x_{2}+2 x_{3}+x_{4} &=4 \\\\\n",
    "100 x_{3}+200 x_{4} &=800\n",
    "\\end{aligned}\n",
    "$$"
   ]
  },
  {
   "cell_type": "code",
   "execution_count": 14,
   "metadata": {},
   "outputs": [],
   "source": [
    "a = np.array([[0.02, 0.01, 0, 0], [1, 2, 1, 0], [0, 2, 0, 1], [0, 0, 100, 200]])\n",
    "b = np.array([0.02, 1, 4, 800])"
   ]
  },
  {
   "cell_type": "code",
   "execution_count": 15,
   "metadata": {
    "scrolled": false
   },
   "outputs": [
    {
     "data": {
      "text/plain": [
       "(matrix([[ 2.00000000e-02,  1.00000000e-02,  0.00000000e+00,\n",
       "           0.00000000e+00],\n",
       "         [ 0.00000000e+00,  1.50000000e+00,  1.00000000e+00,\n",
       "           0.00000000e+00],\n",
       "         [ 0.00000000e+00,  0.00000000e+00, -1.33333333e+00,\n",
       "           1.00000000e+00],\n",
       "         [ 0.00000000e+00,  0.00000000e+00,  0.00000000e+00,\n",
       "           2.75000000e+02]]),\n",
       " matrix([[2.0e-02],\n",
       "         [0.0e+00],\n",
       "         [4.0e+00],\n",
       "         [1.1e+03]]),\n",
       " array([[ 1.],\n",
       "        [ 0.],\n",
       "        [-0.],\n",
       "        [ 4.]]),\n",
       " 0.0)"
      ]
     },
     "execution_count": 15,
     "metadata": {},
     "output_type": "execute_result"
    }
   ],
   "source": [
    "elimin_gaussiana(a, b)"
   ]
  },
  {
   "cell_type": "code",
   "execution_count": 16,
   "metadata": {},
   "outputs": [
    {
     "data": {
      "text/plain": [
       "(array([[1.0e+00, 2.0e+00, 1.0e+00, 0.0e+00],\n",
       "        [0.0e+00, 2.0e+00, 0.0e+00, 1.0e+00],\n",
       "        [0.0e+00, 0.0e+00, 1.0e+02, 2.0e+02],\n",
       "        [0.0e+00, 0.0e+00, 0.0e+00, 5.5e-02]]),\n",
       " array([1.0e+00, 4.0e+00, 8.0e+02, 2.2e-01]),\n",
       " array([1., 0., 0., 4.]),\n",
       " 0.0)"
      ]
     },
     "execution_count": 16,
     "metadata": {},
     "output_type": "execute_result"
    }
   ],
   "source": [
    "elimin_gaussiana_pivoteamento_parcial(a,b)"
   ]
  },
  {
   "cell_type": "code",
   "execution_count": 17,
   "metadata": {
    "scrolled": false
   },
   "outputs": [
    {
     "data": {
      "text/plain": [
       "array([1., 0., 0., 4.])"
      ]
     },
     "execution_count": 17,
     "metadata": {},
     "output_type": "execute_result"
    }
   ],
   "source": [
    "sla.solve(a,b)"
   ]
  },
  {
   "cell_type": "markdown",
   "metadata": {},
   "source": [
    "O resultado obtido está de acordo com o cálculo análitico "
   ]
  },
  {
   "cell_type": "markdown",
   "metadata": {},
   "source": [
    "**Example 5**\n",
    "\n",
    "Resolva o sistema\n",
    "\n",
    "$$\n",
    "\\begin{array}{r}\n",
    "x+y+z=1 \\\\\n",
    "2 x+y-z=0 \\\\\n",
    "2 x+2 y+z=1\n",
    "\\end{array}\n",
    "$$"
   ]
  },
  {
   "cell_type": "code",
   "execution_count": 18,
   "metadata": {},
   "outputs": [],
   "source": [
    "a = np.array([[1, 1, 1], [ 2, 1, -1], [2, 2, 1]])\n",
    "b = np.array([1, 0, 1])"
   ]
  },
  {
   "cell_type": "code",
   "execution_count": 19,
   "metadata": {
    "scrolled": true
   },
   "outputs": [
    {
     "data": {
      "text/plain": [
       "(matrix([[ 1,  1,  1],\n",
       "         [ 0, -1, -3],\n",
       "         [ 0,  0, -1]]),\n",
       " matrix([[ 1],\n",
       "         [-2],\n",
       "         [-1]]),\n",
       " array([[ 1.],\n",
       "        [-1.],\n",
       "        [ 1.]]),\n",
       " 0.0)"
      ]
     },
     "execution_count": 19,
     "metadata": {},
     "output_type": "execute_result"
    }
   ],
   "source": [
    "elimin_gaussiana(a, b)"
   ]
  },
  {
   "cell_type": "code",
   "execution_count": 20,
   "metadata": {},
   "outputs": [
    {
     "data": {
      "text/plain": [
       "(array([[ 2. ,  1. , -1. ],\n",
       "        [ 0. ,  1. ,  2. ],\n",
       "        [ 0. ,  0. ,  0.5]]),\n",
       " array([0. , 1. , 0.5]),\n",
       " array([ 1., -1.,  1.]),\n",
       " 0.0)"
      ]
     },
     "execution_count": 20,
     "metadata": {},
     "output_type": "execute_result"
    }
   ],
   "source": [
    "elimin_gaussiana_pivoteamento_parcial(a,b)"
   ]
  },
  {
   "cell_type": "code",
   "execution_count": 21,
   "metadata": {
    "scrolled": true
   },
   "outputs": [
    {
     "data": {
      "text/plain": [
       "array([ 1., -1.,  1.])"
      ]
     },
     "execution_count": 21,
     "metadata": {},
     "output_type": "execute_result"
    }
   ],
   "source": [
    "sla.solve(a,b)"
   ]
  },
  {
   "cell_type": "markdown",
   "metadata": {},
   "source": [
    "O resultado obtido está de acordo com o cálculo análitico "
   ]
  },
  {
   "cell_type": "markdown",
   "metadata": {},
   "source": [
    "**Example 6**\n",
    "\n",
    "\\begin{equation}\n",
    "\\left[\\begin{array}{ll}\n",
    "\\varepsilon & 2 \\\\\n",
    "1 & \\varepsilon\n",
    "\\end{array}\\right]\\left[\\begin{array}{l}\n",
    "x \\\\\n",
    "y\n",
    "\\end{array}\\right]=\\left[\\begin{array}{l}\n",
    "4 \\\\\n",
    "3\n",
    "\\end{array}\\right]\n",
    "\\end{equation}\n",
    "\n",
    "#### Exercise 5\n",
    "\n",
    "Verifique o exemplo 6 para valores pequenos de $\\varepsilon$, usando as funções com e sem pivotamento\n",
    "parcial."
   ]
  },
  {
   "cell_type": "code",
   "execution_count": 22,
   "metadata": {},
   "outputs": [],
   "source": [
    "e = 1e-1\n",
    "\n",
    "a = np.array([[e, 2], [1, e]])\n",
    "b = np.array([4, 3])"
   ]
  },
  {
   "cell_type": "code",
   "execution_count": 23,
   "metadata": {
    "scrolled": true
   },
   "outputs": [
    {
     "data": {
      "text/plain": [
       "(matrix([[  0.1,   2. ],\n",
       "         [  0. , -19.9]]),\n",
       " matrix([[  4.],\n",
       "         [-37.]]),\n",
       " array([[2.81407035],\n",
       "        [1.85929648]]),\n",
       " 8.881784197001252e-16)"
      ]
     },
     "execution_count": 23,
     "metadata": {},
     "output_type": "execute_result"
    }
   ],
   "source": [
    "elimin_gaussiana(a, b)"
   ]
  },
  {
   "cell_type": "code",
   "execution_count": 24,
   "metadata": {},
   "outputs": [
    {
     "data": {
      "text/plain": [
       "(array([[1.  , 0.1 ],\n",
       "        [0.  , 1.99]]),\n",
       " array([3. , 3.7]),\n",
       " array([2.81407035, 1.85929648]),\n",
       " 0.0)"
      ]
     },
     "execution_count": 24,
     "metadata": {},
     "output_type": "execute_result"
    }
   ],
   "source": [
    "elimin_gaussiana_pivoteamento_parcial(a,b)"
   ]
  },
  {
   "cell_type": "code",
   "execution_count": 25,
   "metadata": {
    "scrolled": false
   },
   "outputs": [
    {
     "data": {
      "text/plain": [
       "array([2.81407035, 1.85929648])"
      ]
     },
     "execution_count": 25,
     "metadata": {},
     "output_type": "execute_result"
    }
   ],
   "source": [
    "sla.solve(a,b) "
   ]
  },
  {
   "cell_type": "code",
   "execution_count": 26,
   "metadata": {},
   "outputs": [],
   "source": [
    "e = 1e-100"
   ]
  },
  {
   "cell_type": "code",
   "execution_count": 27,
   "metadata": {
    "scrolled": true
   },
   "outputs": [
    {
     "data": {
      "text/plain": [
       "(matrix([[  0.1,   2. ],\n",
       "         [  0. , -19.9]]),\n",
       " matrix([[  4.],\n",
       "         [-37.]]),\n",
       " array([[2.81407035],\n",
       "        [1.85929648]]),\n",
       " 8.881784197001252e-16)"
      ]
     },
     "execution_count": 27,
     "metadata": {},
     "output_type": "execute_result"
    }
   ],
   "source": [
    "elimin_gaussiana(a, b)"
   ]
  },
  {
   "cell_type": "code",
   "execution_count": 28,
   "metadata": {},
   "outputs": [
    {
     "data": {
      "text/plain": [
       "(array([[1.  , 0.1 ],\n",
       "        [0.  , 1.99]]),\n",
       " array([3. , 3.7]),\n",
       " array([2.81407035, 1.85929648]),\n",
       " 0.0)"
      ]
     },
     "execution_count": 28,
     "metadata": {},
     "output_type": "execute_result"
    }
   ],
   "source": [
    "elimin_gaussiana_pivoteamento_parcial(a,b)"
   ]
  },
  {
   "cell_type": "code",
   "execution_count": 29,
   "metadata": {
    "scrolled": true
   },
   "outputs": [
    {
     "data": {
      "text/plain": [
       "array([2.81407035, 1.85929648])"
      ]
     },
     "execution_count": 29,
     "metadata": {},
     "output_type": "execute_result"
    }
   ],
   "source": [
    "sla.solve(a,b) "
   ]
  },
  {
   "cell_type": "markdown",
   "metadata": {},
   "source": [
    "É possível observar que para o valor de e = 0,1 houve um dos métodos que apresetaram erro de cálculo, demonstrando assim o efeito do cancelamento catastrófico "
   ]
  }
 ],
 "metadata": {
  "kernelspec": {
   "display_name": "Python 3",
   "language": "python",
   "name": "python3"
  },
  "language_info": {
   "codemirror_mode": {
    "name": "ipython",
    "version": 3
   },
   "file_extension": ".py",
   "mimetype": "text/x-python",
   "name": "python",
   "nbconvert_exporter": "python",
   "pygments_lexer": "ipython3",
   "version": "3.7.6"
  },
  "varInspector": {
   "cols": {
    "lenName": 16,
    "lenType": 16,
    "lenVar": 40
   },
   "kernels_config": {
    "python": {
     "delete_cmd_postfix": "",
     "delete_cmd_prefix": "del ",
     "library": "var_list.py",
     "varRefreshCmd": "print(var_dic_list())"
    },
    "r": {
     "delete_cmd_postfix": ") ",
     "delete_cmd_prefix": "rm(",
     "library": "var_list.r",
     "varRefreshCmd": "cat(var_dic_list()) "
    }
   },
   "types_to_exclude": [
    "module",
    "function",
    "builtin_function_or_method",
    "instance",
    "_Feature"
   ],
   "window_display": false
  }
 },
 "nbformat": 4,
 "nbformat_minor": 4
}
