{
 "cells": [
  {
   "cell_type": "markdown",
   "metadata": {},
   "source": [
    "**<p>Disciplina:** Métodos Numéricos</p>\n",
    "**<p>Semestre:** 2020.2</p>\n",
    "**<p>Aluno:** Jardel Brandon de Araujo Regis</p>\n",
    "**<p>Mátricula:** 201621250014</p>\n",
    "**<p>2ª Unidade:** RAÍZES E OTIMIZAÇÃO</p>\n",
    "\n",
    "---\n",
    "# <center>Exercício 2</center>\n",
    "## <center>Solução de Equações não Lineares Usando Python</center>\n",
    "---"
   ]
  },
  {
   "cell_type": "code",
   "execution_count": 1,
   "metadata": {},
   "outputs": [],
   "source": [
    "import scipy\n",
    "import numpy as np\n",
    "import scipy.optimize as opt\n",
    "import pandas as pd\n",
    "import matplotlib.pyplot as plt\n",
    "%matplotlib inline\n",
    "from mpmath import *\n",
    "from sympy import *\n",
    "from itertools import *"
   ]
  },
  {
   "cell_type": "code",
   "execution_count": 2,
   "metadata": {},
   "outputs": [],
   "source": [
    "#funções auxiliares \n",
    "\n",
    "erro_total = lambda valor_verdadeiro, aproximacao: valor_verdadeiro - aproximacao\n",
    "\n",
    "erro_relativo_fracionario = lambda valor_verdadeiro, aproximacao: (valor_verdadeiro - aproximacao) / valor_verdadeiro\n",
    "\n",
    "erro_relativo_percentual = lambda valor_verdadeiro, aproximacao: (valor_verdadeiro - aproximacao) / valor_verdadeiro * 100\n",
    "\n",
    "def imprimir_tabela(dados, index = None):\n",
    "    pd.set_option(\"display.precision\", 20)\n",
    "    df = pd.DataFrame(dados, index)\n",
    "    print(df.to_string())"
   ]
  },
  {
   "cell_type": "markdown",
   "metadata": {},
   "source": [
    "### **Problema 1**\n",
    "\n",
    "$$ f (x) = −0.5x^2 + 2.5x + 4.5 $$\n",
    "\n",
    "#### a)"
   ]
  },
  {
   "cell_type": "code",
   "execution_count": 3,
   "metadata": {},
   "outputs": [
    {
     "data": {
      "image/png": "[encoded data removed]",
      "text/plain": [
       "<Figure size 432x288 with 1 Axes>"
      ]
     },
     "metadata": {
      "needs_background": "light"
     },
     "output_type": "display_data"
    }
   ],
   "source": [
    "f = lambda x: -0.5 * x ** 2 + 2.5 * x + 4.5\n",
    "x = np.linspace(-5, 10,10000)\n",
    "plt.plot(x,f(x))\n",
    "plt.grid(True)\n"
   ]
  },
  {
   "cell_type": "markdown",
   "metadata": {},
   "source": [
    "#### b)"
   ]
  },
  {
   "cell_type": "code",
   "execution_count": 4,
   "metadata": {
    "run_control": {
     "marked": false
    }
   },
   "outputs": [
    {
     "name": "stdout",
     "output_type": "stream",
     "text": [
      "(-1.40512483795333, 6.40512483795333)\n"
     ]
    }
   ],
   "source": [
    "raizes_quadratica = lambda a, b, c: ((-b + sqrt((b * b) - (4 * a * c))) / (2 * a), (-b - sqrt((b * b) - (4 * a * c))) / (2 * a))\n",
    "a = -0.5\n",
    "b = 2.5\n",
    "c = 4.5\n",
    "\n",
    "print(raizes_quadratica(a, b, c))\n",
    "PRIMEIRA_RAIZ, SEGUNDA_RAIZ = raizes_quadratica(a, b, c)"
   ]
  },
  {
   "cell_type": "markdown",
   "metadata": {},
   "source": [
    "#### c)"
   ]
  },
  {
   "cell_type": "code",
   "execution_count": 5,
   "metadata": {
    "run_control": {
     "marked": true
    }
   },
   "outputs": [],
   "source": [
    "def bissecao(funcao, x_inicial, x_final, ITERACOES = np.inf, TOLERANCIA = np.NINF):\n",
    "    ponto_medio = (x_inicial + x_final) / 2\n",
    "    if abs(x_final - x_inicial) < TOLERANCIA or funcao(ponto_medio) == 0 or bissecao.counter == ITERACOES:\n",
    "            bissecao.counter = 0\n",
    "            return [ponto_medio]\n",
    "    else: bissecao.counter += 1\n",
    "    \n",
    "    if funcao(ponto_medio) * funcao(x_inicial) < 0: \n",
    "        return [ponto_medio] + bissecao(funcao, x_inicial, ponto_medio, ITERACOES, TOLERANCIA)\n",
    "    else: \n",
    "        return [ponto_medio] + bissecao(funcao, ponto_medio, x_final, ITERACOES, TOLERANCIA)\n",
    "\n",
    "bissecao.counter = 0"
   ]
  },
  {
   "cell_type": "code",
   "execution_count": 6,
   "metadata": {},
   "outputs": [
    {
     "name": "stdout",
     "output_type": "stream",
     "text": [
      "         Raiz maior  valor_i          Erro total     Erro Fracionario    Erro Percentual\n",
      "0  6.40512483795333   7.5000    1.09487516204667    0.145983354939556   14.5983354939556\n",
      "1  6.40512483795333   6.2500  -0.155124837953327  -0.0248199740725323  -2.48199740725323\n",
      "2  6.40512483795333   6.8750   0.469875162046673   0.0683454781158797   6.83454781158797\n",
      "3  6.40512483795333   6.5625   0.157375162046673   0.0239809770737787   2.39809770737787\n"
     ]
    }
   ],
   "source": [
    "x_i = 5\n",
    "x_u = 10\n",
    "iteracoes = 3\n",
    "\n",
    "valores = bissecao(f, x_i, x_u, iteracoes)\n",
    "\n",
    "erros_totais = [erro_total(valor, SEGUNDA_RAIZ) for valor in valores]\n",
    "erros_relativos_fracionarios = [erro_relativo_fracionario(valor, SEGUNDA_RAIZ) for valor in valores]\n",
    "erros_relativos_percentuais = [erro_relativo_percentual(valor, SEGUNDA_RAIZ) for valor in valores]\n",
    "\n",
    "tabela = {'Raiz maior': SEGUNDA_RAIZ,\n",
    "          'valor_i':        valores,\n",
    "          'Erro total':          erros_totais,\n",
    "          'Erro Fracionario':   erros_relativos_fracionarios,\n",
    "          'Erro Percentual':     erros_relativos_percentuais}\n",
    "\n",
    "imprimir_tabela(tabela)"
   ]
  },
  {
   "cell_type": "markdown",
   "metadata": {},
   "source": [
    "### **Problema 2**\n",
    "\n",
    "$$\n",
    "f(x) = -2X^6 - 1.5x^4 + 10x + 20\n",
    "$$"
   ]
  },
  {
   "cell_type": "code",
   "execution_count": 7,
   "metadata": {},
   "outputs": [
    {
     "data": {
      "image/png": "[encoded data removed]",
      "text/plain": [
       "<Figure size 432x288 with 1 Axes>"
      ]
     },
     "metadata": {
      "needs_background": "light"
     },
     "output_type": "display_data"
    }
   ],
   "source": [
    "f = lambda x: -2 * x ** 6 - 1.5 * x ** 4 + 10 * x + 20\n",
    "x = np.linspace(-1, 2,10000)\n",
    "plt.plot(x,f(x))\n",
    "plt.grid(True)"
   ]
  },
  {
   "cell_type": "code",
   "execution_count": 8,
   "metadata": {},
   "outputs": [
    {
     "name": "stdout",
     "output_type": "stream",
     "text": [
      "-12*x**5 - 6.0*x**3 + 10\n"
     ]
    },
    {
     "data": {
      "image/png": "[encoded data removed]",
      "text/plain": [
       "<Figure size 432x288 with 1 Axes>"
      ]
     },
     "metadata": {
      "needs_background": "light"
     },
     "output_type": "display_data"
    },
    {
     "data": {
      "text/plain": [
       "<sympy.plotting.plot.Plot at 0x221f4e95848>"
      ]
     },
     "execution_count": 8,
     "metadata": {},
     "output_type": "execute_result"
    }
   ],
   "source": [
    "x = symbols('x')\n",
    "f = lambda x: -2 * x ** 6 - 1.5 * x ** 4 + 10 * x + 20\n",
    "derivada = diff(f(x))\n",
    "print(derivada)\n",
    "plot(derivada, (x, -1, 2))"
   ]
  },
  {
   "cell_type": "code",
   "execution_count": 9,
   "metadata": {
    "scrolled": true
   },
   "outputs": [
    {
     "name": "stdout",
     "output_type": "stream",
     "text": [
      "[0.5, 0.75, 0.875, 0.8125]\n"
     ]
    }
   ],
   "source": [
    "x_i = 0\n",
    "x_u = 1\n",
    "\n",
    "f = lambdify(x, derivada, 'numpy')\n",
    "valores = bissecao(f, x_i, x_u, iteracoes, 0.05)\n",
    "print(valores)"
   ]
  },
  {
   "cell_type": "markdown",
   "metadata": {},
   "source": [
    "### **Problema 3**"
   ]
  },
  {
   "cell_type": "code",
   "execution_count": 10,
   "metadata": {
    "run_control": {
     "marked": false
    }
   },
   "outputs": [],
   "source": [
    "def falsa_posicao(funcao, x_inicial, x_final, ITERACOES=np.NINF, TOLERANCIA=np.NINF):\n",
    "    funcao_ponto_inicial = funcao(x_inicial)\n",
    "    estimativas = list()\n",
    "      \n",
    "    while falsa_posicao.counter != ITERACOES:\n",
    "        estimativas.append((x_inicial * funcao(x_final) - x_final * funcao(x_inicial)) / (funcao(x_final) - funcao(x_inicial)))\n",
    "        funcao_ponto_estimado = funcao(estimativas[falsa_posicao.counter])\n",
    "        if funcao_ponto_estimado == 0 and abs(funcao_ponto_estimado) < TOLERANCIA : \n",
    "            falsa_posicao.counter = 0\n",
    "            return estimativas\n",
    "\n",
    "        if(funcao_ponto_inicial * funcao_ponto_estimado > 0):\n",
    "            x_inicial = estimativas[falsa_posicao.counter]\n",
    "        else:\n",
    "            x_final = estimativas[falsa_posicao.counter]\n",
    "        falsa_posicao.counter += 1\n",
    "    falsa_posicao.counter = 0\n",
    "    return estimativas\n",
    "\n",
    "falsa_posicao.counter = 0"
   ]
  },
  {
   "cell_type": "markdown",
   "metadata": {},
   "source": [
    "### Testando o método da falsa posição para o problema 1 letra c)"
   ]
  },
  {
   "cell_type": "code",
   "execution_count": 11,
   "metadata": {
    "run_control": {
     "marked": false
    }
   },
   "outputs": [
    {
     "name": "stdout",
     "output_type": "stream",
     "text": [
      "[5.9, 6.238532110091742, 6.351836734693878]\n",
      "         Raiz maior                 valor_i           Erro total      Erro Fracionario     Erro Percentual\n",
      "0  6.40512483795333  5.90000000000000035527   -0.505124837953327   -0.0856143793141231   -8.56143793141231\n",
      "1  6.40512483795333  6.23853211009174213331   -0.166592727861585   -0.0267038343189893   -2.67038343189893\n",
      "2  6.40512483795333  6.35183673469387777288  -0.0532881032594492  -0.00838940065452066  -0.838940065452066\n"
     ]
    }
   ],
   "source": [
    "f = lambda x: -0.5 * x ** 2 + 2.5 * x + 4.5\n",
    "\n",
    "x_i = 5\n",
    "x_u = 10\n",
    "iteracoes = 3\n",
    "tolerancia = np.inf\n",
    "\n",
    "valores = falsa_posicao(f, x_i, x_u, iteracoes, tolerancia)\n",
    "print(valores)\n",
    "\n",
    "erros_totais = [erro_total(valor, SEGUNDA_RAIZ) for valor in valores]\n",
    "erros_relativos_fracionarios = [erro_relativo_fracionario(valor, SEGUNDA_RAIZ) for valor in valores]\n",
    "erros_relativos_percentuais = [erro_relativo_percentual(valor, SEGUNDA_RAIZ) for valor in valores]\n",
    "\n",
    "tabela = {'Raiz maior': SEGUNDA_RAIZ,\n",
    "          'valor_i':        valores,\n",
    "          'Erro total':          erros_totais,\n",
    "          'Erro Fracionario':   erros_relativos_fracionarios,\n",
    "          'Erro Percentual':     erros_relativos_percentuais}\n",
    "\n",
    "imprimir_tabela(tabela)"
   ]
  },
  {
   "cell_type": "markdown",
   "metadata": {},
   "source": [
    "Como pode-se observar, o metódo da falsa posição retornou um valor mais aproximado do real, com 1 repetição a menos, de acordo com a tabela de erros apresentadas"
   ]
  },
  {
   "cell_type": "markdown",
   "metadata": {},
   "source": [
    "### Testando o método da falsa posição para o problema 2"
   ]
  },
  {
   "cell_type": "code",
   "execution_count": 12,
   "metadata": {
    "run_control": {
     "marked": false
    }
   },
   "outputs": [
    {
     "name": "stdout",
     "output_type": "stream",
     "text": [
      "[0.5555555555555556, 0.7823501604757047, 0.8500227697940591, 0.8665353042945969, 0.8703139832359249, 0.8711651152704326, 0.8713561353559485, 0.8713989710953532, 0.8714085751329356, 0.871410728328975, 0.8714112110645322, 0.8714113192911553, 0.8714113435549503, 0.8714113489947548, 0.871411350214328, 0.8714113504877493, 0.8714113505490488, 0.8714113505627918, 0.871411350565873, 0.8714113505665637, 0.8714113505667186, 0.8714113505667533, 0.8714113505667611, 0.8714113505667628, 0.8714113505667632, 0.8714113505667633]\n"
     ]
    }
   ],
   "source": [
    "f = lambda x: -12 * x ** 5 - 6.0 * x ** 3 + 10\n",
    "\n",
    "x_i = 0\n",
    "x_u = 1\n",
    "iteracoes = np.inf\n",
    "tolerancia = 0.05\n",
    "\n",
    "valores = falsa_posicao(f, x_i, x_u, iteracoes, tolerancia)\n",
    "print(valores)"
   ]
  },
  {
   "cell_type": "markdown",
   "metadata": {
    "run_control": {
     "marked": true
    }
   },
   "source": [
    "Como é possível observar, para atingir uma tolerância de erro de 5%, foram necessárias somente duas iterações,\n",
    "de tal forma que esse método para essa equação foi melhor que o método da bisseção"
   ]
  },
  {
   "cell_type": "markdown",
   "metadata": {},
   "source": [
    "### Testando o método da falsa posição para o exemplo 2 da nota de aula\n",
    "\n",
    "$$\n",
    "e^x = x + 2\n",
    "$$"
   ]
  },
  {
   "cell_type": "code",
   "execution_count": 13,
   "metadata": {},
   "outputs": [
    {
     "data": {
      "text/plain": [
       "-1.0"
      ]
     },
     "execution_count": 13,
     "metadata": {},
     "output_type": "execute_result"
    }
   ],
   "source": [
    "def f(x): return np.exp(x)-x-2\n",
    "np.sign(f(-2)*f(0))"
   ]
  },
  {
   "cell_type": "code",
   "execution_count": 14,
   "metadata": {},
   "outputs": [
    {
     "data": {
      "text/plain": [
       "      converged: True\n",
       "           flag: 'converged'\n",
       " function_calls: 42\n",
       "     iterations: 40\n",
       "           root: -1.8414056604360667"
      ]
     },
     "execution_count": 14,
     "metadata": {},
     "output_type": "execute_result"
    }
   ],
   "source": [
    "raiz = opt.root_scalar(f,method='bisect',bracket=[-2,0])\n",
    "raiz"
   ]
  },
  {
   "cell_type": "code",
   "execution_count": 15,
   "metadata": {},
   "outputs": [
    {
     "name": "stdout",
     "output_type": "stream",
     "text": [
      "[-1.7615941559557646, -1.8402501723136198, -1.841389489184834, -1.8414054342273545, -1.8414056572726762, -1.8414056603926976, -1.8414056604363414, -1.841405660436952, -1.8414056604369604, -1.8414056604369609]\n"
     ]
    }
   ],
   "source": [
    "x_i = -2\n",
    "x_u = 0\n",
    "\n",
    "valores = falsa_posicao(f, x_i, x_u, iteracoes, tolerancia)\n",
    "print(valores)"
   ]
  },
  {
   "cell_type": "markdown",
   "metadata": {},
   "source": [
    "### Testando o método da falsa posição para o exemplo 3 da nota de aula\n",
    "\n",
    "$$\n",
    "\\sqrt{x} = \\cos(x)\n",
    "$$"
   ]
  },
  {
   "cell_type": "code",
   "execution_count": 16,
   "metadata": {},
   "outputs": [],
   "source": [
    "def f(x): return np.cos(x) - np.sqrt(x)"
   ]
  },
  {
   "cell_type": "code",
   "execution_count": 17,
   "metadata": {},
   "outputs": [
    {
     "data": {
      "text/html": [
       "<div>\n",
       "<style scoped>\n",
       "    .dataframe tbody tr th:only-of-type {\n",
       "        vertical-align: middle;\n",
       "    }\n",
       "\n",
       "    .dataframe tbody tr th {\n",
       "        vertical-align: top;\n",
       "    }\n",
       "\n",
       "    .dataframe thead th {\n",
       "        text-align: right;\n",
       "    }\n",
       "</style>\n",
       "<table border=\"1\" class=\"dataframe\">\n",
       "  <thead>\n",
       "    <tr style=\"text-align: right;\">\n",
       "      <th></th>\n",
       "      <th>Raiz</th>\n",
       "      <th>Erro</th>\n",
       "    </tr>\n",
       "    <tr>\n",
       "      <th>Iterações</th>\n",
       "      <th></th>\n",
       "      <th></th>\n",
       "    </tr>\n",
       "  </thead>\n",
       "  <tbody>\n",
       "    <tr>\n",
       "      <th>0</th>\n",
       "      <td>0.500000</td>\n",
       "      <td>7.08999999999999985789</td>\n",
       "    </tr>\n",
       "    <tr>\n",
       "      <th>1</th>\n",
       "      <td>0.500000</td>\n",
       "      <td>7.08999999999999985789</td>\n",
       "    </tr>\n",
       "    <tr>\n",
       "      <th>2</th>\n",
       "      <td>0.625000</td>\n",
       "      <td>0.83999999999999996891</td>\n",
       "    </tr>\n",
       "    <tr>\n",
       "      <th>3</th>\n",
       "      <td>0.625000</td>\n",
       "      <td>0.83999999999999996891</td>\n",
       "    </tr>\n",
       "    <tr>\n",
       "      <th>4</th>\n",
       "      <td>0.625000</td>\n",
       "      <td>0.83999999999999996891</td>\n",
       "    </tr>\n",
       "    <tr>\n",
       "      <th>5</th>\n",
       "      <td>0.640625</td>\n",
       "      <td>0.05000000000000000278</td>\n",
       "    </tr>\n",
       "  </tbody>\n",
       "</table>\n",
       "</div>"
      ],
      "text/plain": [
       "               Raiz                    Erro\n",
       "Iterações                                  \n",
       "0          0.500000  7.08999999999999985789\n",
       "1          0.500000  7.08999999999999985789\n",
       "2          0.625000  0.83999999999999996891\n",
       "3          0.625000  0.83999999999999996891\n",
       "4          0.625000  0.83999999999999996891\n",
       "5          0.640625  0.05000000000000000278"
      ]
     },
     "execution_count": 17,
     "metadata": {},
     "output_type": "execute_result"
    }
   ],
   "source": [
    "vp = opt.root_scalar(f,method='bisect',bracket=[0,1], xtol=1e-40).root\n",
    "r = []\n",
    "e = []\n",
    "\n",
    "for i in range(1,7):\n",
    "    x = opt.root_scalar(f,method='bisect',bracket=[0,1], maxiter=i).root\n",
    "    r.append(x)\n",
    "    e.append(np.around(np.absolute(x - vp) * 100 / 2, decimals=2))\n",
    "    \n",
    "import pandas as pd\n",
    "pd.DataFrame({'Iterações': range(0,6), 'Raiz': r, 'Erro':e}).set_index('Iterações')"
   ]
  },
  {
   "cell_type": "code",
   "execution_count": 18,
   "metadata": {
    "run_control": {
     "marked": true
    }
   },
   "outputs": [
    {
     "name": "stdout",
     "output_type": "stream",
     "text": [
      "[0.6850733573260451, 0.6503949801283647, 0.6435565520339048, 0.6421098575945017, 0.6417994835090949, 0.641732697569524, 0.6417183174755584]\n",
      "         Raiz maior                 valor_i         Erro total   Erro Fracionario    Erro Percentual\n",
      "0  6.40512483795333  0.68507335732604512923  -5.72005148062728  -8.34954595658718  -834.954595658718\n",
      "1  6.40512483795333  0.65039498012836471919  -5.75472985782496  -8.84805392669111  -884.805392669111\n",
      "2  6.40512483795333  0.64355655203390482733  -5.76156828591942  -8.95269928914636  -895.269928914636\n",
      "3  6.40512483795333  0.64210985759450167620  -5.76301498035883  -8.97512304506346  -897.512304506346\n",
      "4  6.40512483795333  0.64179948350909488131  -5.76332535444423  -8.97994701231722  -897.994701231722\n",
      "5  6.40512483795333  0.64173269756952400211  -5.76339214038380  -8.98098563811985  -898.098563811985\n",
      "6  6.40512483795333  0.64171831747555840852  -5.76340652047777  -8.98120929935475  -898.120929935475\n"
     ]
    }
   ],
   "source": [
    "x_i = 0\n",
    "x_u = 1\n",
    "iteracoes = 7\n",
    "tolerancia = np.inf\n",
    "\n",
    "valores = falsa_posicao(f, x_i, x_u, iteracoes, tolerancia)\n",
    "print(valores)\n",
    "\n",
    "erros_totais = [erro_total(valor, SEGUNDA_RAIZ) for valor in valores]\n",
    "erros_relativos_fracionarios = [erro_relativo_fracionario(valor, SEGUNDA_RAIZ) for valor in valores]\n",
    "erros_relativos_percentuais = [erro_relativo_percentual(valor, SEGUNDA_RAIZ) for valor in valores]\n",
    "\n",
    "tabela = {'Raiz maior': SEGUNDA_RAIZ,\n",
    "          'valor_i':        valores,\n",
    "          'Erro total':          erros_totais,\n",
    "          'Erro Fracionario':   erros_relativos_fracionarios,\n",
    "          'Erro Percentual':     erros_relativos_percentuais}\n",
    "\n",
    "imprimir_tabela(tabela)"
   ]
  },
  {
   "cell_type": "markdown",
   "metadata": {},
   "source": [
    "### Testando o método da falsa posição para o exemplo 4 da nota de aula\n",
    "\n",
    "$$\n",
    "f(x) = 5 sin(x^2) - exp \\left(\\frac{x}{10}\\right)\n",
    "$$"
   ]
  },
  {
   "cell_type": "code",
   "execution_count": 19,
   "metadata": {},
   "outputs": [],
   "source": [
    "def f(x): return 5 * np.sin(x ** 2) - np.exp(x/10)"
   ]
  },
  {
   "cell_type": "code",
   "execution_count": 20,
   "metadata": {},
   "outputs": [
    {
     "data": {
      "image/png": "[encoded data removed]",
      "text/plain": [
       "<Figure size 432x288 with 1 Axes>"
      ]
     },
     "metadata": {
      "needs_background": "light"
     },
     "output_type": "display_data"
    }
   ],
   "source": [
    "x = np.linspace(0,2.7,200)\n",
    "plt.plot(x,f(x))\n",
    "plt.plot([0.46, 1.7, 2.56], [f(0.46), f(1.7), f(2.56)], 'o', color='r')\n",
    "plt.grid(True)"
   ]
  },
  {
   "cell_type": "code",
   "execution_count": 21,
   "metadata": {},
   "outputs": [
    {
     "data": {
      "text/plain": [
       "-1.0"
      ]
     },
     "execution_count": 21,
     "metadata": {},
     "output_type": "execute_result"
    }
   ],
   "source": [
    "np.sign(f(0.4) * f(0.5))\n",
    "np.sign(f(1.7) * f(1.8))\n",
    "np.sign(f(2.5) * f(2.6))"
   ]
  },
  {
   "cell_type": "code",
   "execution_count": 22,
   "metadata": {},
   "outputs": [
    {
     "name": "stdout",
     "output_type": "stream",
     "text": [
      "1ª raiz positiva:  0.459307861328125\n",
      "2ª raiz positiva:  1.703570556640625\n",
      "3ª raiz positiva:  2.558209228515625\n"
     ]
    }
   ],
   "source": [
    "print('1ª raiz positiva: ',opt.root_scalar(f,method='bisect', bracket=[0.4,0.5],xtol=1e-5).root)\n",
    "print('2ª raiz positiva: ',opt.root_scalar(f,method='bisect', bracket=[1.7,1.8],xtol=1e-5).root)\n",
    "print('3ª raiz positiva: ',opt.root_scalar(f,method='bisect', bracket=[2.5,2.6],xtol=1e-5).root)"
   ]
  },
  {
   "cell_type": "code",
   "execution_count": 23,
   "metadata": {},
   "outputs": [
    {
     "name": "stdout",
     "output_type": "stream",
     "text": [
      "[0.45679945731437466, 0.4592075958565898, 0.45930181111377394, 0.4593054847551961, 0.4593056279789401, 0.45930563356275533, 0.4593056337804496]\n",
      "[1.703400048170842, 1.7035660686767091, 1.7035740592360833, 1.70357444354882, 1.7035744620320366, 1.7035744629209708, 1.703574462963723]\n",
      "[2.5592348966927574, 2.5582261535765185, 2.5582128138589724, 2.558212641075543, 2.558212638838176, 2.5582126388092044, 2.558212638808829]\n"
     ]
    }
   ],
   "source": [
    "x_i = 0.4\n",
    "x_u = 0.5\n",
    "tolerancia = 1e-5\n",
    "\n",
    "valores = falsa_posicao(f, x_i, x_u, iteracoes, tolerancia)\n",
    "print(valores)\n",
    "\n",
    "x_i = 1.7\n",
    "x_u = 1.8\n",
    "\n",
    "valores = falsa_posicao(f, x_i, x_u, iteracoes, tolerancia)\n",
    "print(valores)\n",
    "\n",
    "x_i = 2.5\n",
    "x_u = 2.6\n",
    "\n",
    "valores = falsa_posicao(f, x_i, x_u, iteracoes, tolerancia)\n",
    "print(valores)"
   ]
  },
  {
   "cell_type": "markdown",
   "metadata": {
    "run_control": {
     "marked": false
    }
   },
   "source": [
    "### Testando o método da falsa posição para o exemplo 5 da nota de aula\n",
    "\n",
    "$$\n",
    "I_d = I_R \\left[exp \\left(\\frac{v_d}{v_d} \\right) - 1 \\right]\n",
    "$$"
   ]
  },
  {
   "cell_type": "code",
   "execution_count": 24,
   "metadata": {},
   "outputs": [],
   "source": [
    "def fa(vd, vs = 30, R = 1e+3): return 1e-12 * np.exp(((1.60217653e-19 * vd) / (4.1419509e-25)) -1) - ((vs - vd)/(R))"
   ]
  },
  {
   "cell_type": "code",
   "execution_count": 25,
   "metadata": {},
   "outputs": [
    {
     "name": "stderr",
     "output_type": "stream",
     "text": [
      "C:\\Users\\jarde\\Anaconda3\\lib\\site-packages\\ipykernel_launcher.py:1: RuntimeWarning: overflow encountered in exp\n",
      "  \"\"\"Entry point for launching an IPython kernel.\n"
     ]
    },
    {
     "data": {
      "image/png": "[encoded data removed]",
      "text/plain": [
       "<Figure size 432x288 with 1 Axes>"
      ]
     },
     "metadata": {
      "needs_background": "light"
     },
     "output_type": "display_data"
    }
   ],
   "source": [
    "x = np.linspace(0,1,1000)\n",
    "plt.plot(x,fa(x))\n",
    "plt.grid(True)"
   ]
  },
  {
   "cell_type": "code",
   "execution_count": 26,
   "metadata": {
    "scrolled": true
   },
   "outputs": [
    {
     "name": "stderr",
     "output_type": "stream",
     "text": [
      "C:\\Users\\jarde\\Anaconda3\\lib\\site-packages\\ipykernel_launcher.py:1: RuntimeWarning: overflow encountered in exp\n",
      "  \"\"\"Entry point for launching an IPython kernel.\n"
     ]
    },
    {
     "data": {
      "text/plain": [
       "6.495182024082167e-05"
      ]
     },
     "execution_count": 26,
     "metadata": {},
     "output_type": "execute_result"
    }
   ],
   "source": [
    "opt.root_scalar(fa,method='bisect', bracket=[0,0.1]).root"
   ]
  },
  {
   "cell_type": "code",
   "execution_count": 27,
   "metadata": {},
   "outputs": [],
   "source": [
    "def f(vd, vs, R): return 1e-12 * np.exp(((1.60217653e-19 * vd) / (4.1419509e-25))-1) - ((vs - vd)/(R))"
   ]
  },
  {
   "cell_type": "code",
   "execution_count": 28,
   "metadata": {
    "scrolled": true
   },
   "outputs": [
    {
     "name": "stderr",
     "output_type": "stream",
     "text": [
      "C:\\Users\\jarde\\Anaconda3\\lib\\site-packages\\ipykernel_launcher.py:1: RuntimeWarning: overflow encountered in exp\n",
      "  \"\"\"Entry point for launching an IPython kernel.\n"
     ]
    },
    {
     "data": {
      "text/plain": [
       "5.304607184370981e-05"
      ]
     },
     "execution_count": 28,
     "metadata": {},
     "output_type": "execute_result"
    }
   ],
   "source": [
    "vs = 300e-3\n",
    "R = 1e+3\n",
    "opt.root_scalar(f, args=(vs,R), method='bisect', bracket=[0,0.1]).root"
   ]
  },
  {
   "cell_type": "code",
   "execution_count": 29,
   "metadata": {},
   "outputs": [],
   "source": [
    "vs = np.array([30, 3, 3, 300e-3, -300e-3, -30, -30])\n",
    "R = np.array([1e+3, 1e+3, 1e+4, 1e+3, 1e+3, 1e+3, 1e+4])"
   ]
  },
  {
   "cell_type": "code",
   "execution_count": 30,
   "metadata": {},
   "outputs": [
    {
     "name": "stderr",
     "output_type": "stream",
     "text": [
      "C:\\Users\\jarde\\Anaconda3\\lib\\site-packages\\ipykernel_launcher.py:1: RuntimeWarning: overflow encountered in exp\n",
      "  \"\"\"Entry point for launching an IPython kernel.\n"
     ]
    },
    {
     "data": {
      "text/plain": [
       "[6.495182024082167e-05,\n",
       " 5.899912648601458e-05,\n",
       " 5.3046482207719243e-05,\n",
       " 5.304607184370981e-05,\n",
       " -0.299999999999072,\n",
       " -30.00000000000098,\n",
       " -30.00000000000098]"
      ]
     },
     "execution_count": 30,
     "metadata": {},
     "output_type": "execute_result"
    }
   ],
   "source": [
    "vd = []\n",
    "for i in range(len(vs)):\n",
    "    Vs = vs[i]\n",
    "    r = R[i]\n",
    "    if Vs>0:\n",
    "        a,b = 0,.1\n",
    "    else:\n",
    "        a,b = -32,.1\n",
    "    x = opt.root_scalar(f, args=(Vs,r), method='bisect', bracket=[a,b]).root\n",
    "    vd.append(x)\n",
    "vd\n"
   ]
  },
  {
   "cell_type": "code",
   "execution_count": 31,
   "metadata": {
    "scrolled": false
   },
   "outputs": [
    {
     "data": {
      "text/plain": [
       "Text(0, 0.5, '$V_d (V)$')"
      ]
     },
     "execution_count": 31,
     "metadata": {},
     "output_type": "execute_result"
    },
    {
     "data": {
      "image/png": "[encoded data removed]",
      "text/plain": [
       "<Figure size 432x288 with 1 Axes>"
      ]
     },
     "metadata": {
      "needs_background": "light"
     },
     "output_type": "display_data"
    }
   ],
   "source": [
    "plt.plot(vs,vd)\n",
    "plt.xlabel('$V_S (V)$')\n",
    "plt.ylabel('$V_d (V)$')"
   ]
  },
  {
   "cell_type": "code",
   "execution_count": 32,
   "metadata": {},
   "outputs": [
    {
     "data": {
      "text/plain": [
       "array([ 2.99999350e+01,  2.99994100e+00,  2.99994695e-01,  2.99946954e-01,\n",
       "       -9.27979915e-13,  9.80548975e-13,  9.80548975e-14])"
      ]
     },
     "execution_count": 32,
     "metadata": {},
     "output_type": "execute_result"
    }
   ],
   "source": [
    "id = (vs - vd) * 1000 / R\n",
    "id"
   ]
  },
  {
   "cell_type": "code",
   "execution_count": 33,
   "metadata": {},
   "outputs": [
    {
     "data": {
      "text/plain": [
       "Text(0, 0.5, '$I_d (mA)$')"
      ]
     },
     "execution_count": 33,
     "metadata": {},
     "output_type": "execute_result"
    },
    {
     "data": {
      "image/png": "[encoded data removed]",
      "text/plain": [
       "<Figure size 432x288 with 1 Axes>"
      ]
     },
     "metadata": {
      "needs_background": "light"
     },
     "output_type": "display_data"
    }
   ],
   "source": [
    "plt.plot(vd,id)\n",
    "plt.xlabel('$V_d (V)$')\n",
    "plt.ylabel('$I_d (mA)$')"
   ]
  },
  {
   "cell_type": "markdown",
   "metadata": {},
   "source": [
    "### **Problema 4**\n",
    "\n",
    "$$\n",
    "f(x) = 2sin(\\sqrt{x}) - x)\n",
    "$$"
   ]
  },
  {
   "cell_type": "code",
   "execution_count": 34,
   "metadata": {},
   "outputs": [],
   "source": [
    "f = lambda x: 2 * np.sin(np.sqrt(x)) - x"
   ]
  },
  {
   "cell_type": "code",
   "execution_count": 35,
   "metadata": {},
   "outputs": [
    {
     "data": {
      "text/plain": [
       "0.768018090595916"
      ]
     },
     "execution_count": 35,
     "metadata": {},
     "output_type": "execute_result"
    }
   ],
   "source": [
    "raiz = opt.fixed_point(f, 0.5, xtol=1e-2, method=\"iteration\")\n",
    "raiz"
   ]
  },
  {
   "cell_type": "markdown",
   "metadata": {},
   "source": [
    "### **Problema 5**\n",
    "\n",
    "$$\n",
    "f(x) = 2x^3 - 11.7x^2 + 17.7x - 5\n",
    "$$\n",
    "\n",
    "#### a)"
   ]
  },
  {
   "cell_type": "code",
   "execution_count": 36,
   "metadata": {},
   "outputs": [
    {
     "data": {
      "image/png": "[encoded data removed]",
      "text/plain": [
       "<Figure size 432x288 with 1 Axes>"
      ]
     },
     "metadata": {
      "needs_background": "light"
     },
     "output_type": "display_data"
    }
   ],
   "source": [
    "f = lambda x: 2 * x ** 3 - 11.7 * x ** 2 + 17.7 * x - 5\n",
    "x = np.linspace(-2, 4,10000)\n",
    "plt.plot(x,f(x))\n",
    "plt.grid(True)"
   ]
  },
  {
   "cell_type": "markdown",
   "metadata": {},
   "source": [
    "#### b)"
   ]
  },
  {
   "cell_type": "code",
   "execution_count": 37,
   "metadata": {},
   "outputs": [
    {
     "data": {
      "text/plain": [
       "array(3.56316082)"
      ]
     },
     "execution_count": 37,
     "metadata": {},
     "output_type": "execute_result"
    }
   ],
   "source": [
    "# maxiter=3 -> Error\n",
    "g = lambda x: (2 * x ** 3 - 11.7 * x ** 2 - 5) / -17.7\n",
    "raiz = opt.fixed_point(g, x0=3)\n",
    "raiz"
   ]
  },
  {
   "cell_type": "markdown",
   "metadata": {},
   "source": [
    "#### c)"
   ]
  },
  {
   "cell_type": "code",
   "execution_count": 38,
   "metadata": {},
   "outputs": [
    {
     "data": {
      "text/plain": [
       "      converged: False\n",
       "           flag: 'convergence error'\n",
       " function_calls: 6\n",
       "     iterations: 3\n",
       "           root: 3.7929344806432264"
      ]
     },
     "execution_count": 38,
     "metadata": {},
     "output_type": "execute_result"
    }
   ],
   "source": [
    "x = symbols('x')\n",
    "f = lambda x: 2 * x ** 3 - 11.7 * x ** 2 + 17.7 * x - 5\n",
    "derivada = diff(f(x))\n",
    "f_1 = lambdify(x, derivada, 'numpy')\n",
    "opt.root_scalar(f, fprime=f_1, x0=3, method='newton', maxiter=3, xtol=1e-10)"
   ]
  },
  {
   "cell_type": "markdown",
   "metadata": {},
   "source": [
    "#### d)"
   ]
  },
  {
   "cell_type": "code",
   "execution_count": 39,
   "metadata": {},
   "outputs": [
    {
     "data": {
      "text/plain": [
       "      converged: False\n",
       "           flag: 'convergence error'\n",
       " function_calls: 5\n",
       "     iterations: 3\n",
       "           root: 3.5862753847117346"
      ]
     },
     "execution_count": 39,
     "metadata": {},
     "output_type": "execute_result"
    }
   ],
   "source": [
    "opt.root_scalar(f, x0=3, x1=4, xtol = 1e-10, maxiter=3, method='secant')"
   ]
  },
  {
   "cell_type": "markdown",
   "metadata": {},
   "source": [
    "### **Problema 6**\n",
    "\n",
    "#### a)\n",
    "\n",
    "$$\n",
    "f_{1}(x)=2 x^{4}+4 x^{3}+3 x^{2}-10 x-15, \\operatorname{com} x^{*} \\in[0,3]\n",
    "$$"
   ]
  },
  {
   "cell_type": "code",
   "execution_count": 40,
   "metadata": {},
   "outputs": [],
   "source": [
    "f = lambda x: 2 * x ** 4 + 4 * x ** 3 + 3 * x ** 2 - 10 * x - 15"
   ]
  },
  {
   "cell_type": "code",
   "execution_count": 41,
   "metadata": {},
   "outputs": [
    {
     "data": {
      "image/png": "[encoded data removed]",
      "text/plain": [
       "<Figure size 432x288 with 1 Axes>"
      ]
     },
     "metadata": {
      "needs_background": "light"
     },
     "output_type": "display_data"
    }
   ],
   "source": [
    "x = np.linspace(0, 3,10000)\n",
    "plt.plot(x,f(x))\n",
    "plt.grid(True)"
   ]
  },
  {
   "cell_type": "markdown",
   "metadata": {},
   "source": [
    "##### Método da bisseção"
   ]
  },
  {
   "cell_type": "code",
   "execution_count": 42,
   "metadata": {},
   "outputs": [
    {
     "name": "stdout",
     "output_type": "stream",
     "text": [
      "52.6 µs ± 2.2 µs per loop (mean ± std. dev. of 7 runs, 10000 loops each)\n"
     ]
    },
    {
     "data": {
      "text/plain": [
       "      converged: True\n",
       "           flag: 'converged'\n",
       " function_calls: 37\n",
       "     iterations: 35\n",
       "           root: 1.4928787086100783"
      ]
     },
     "execution_count": 42,
     "metadata": {},
     "output_type": "execute_result"
    }
   ],
   "source": [
    "%timeit opt.root_scalar(f,method='bisect', bracket=[0,3], maxiter=200, xtol=1e-10)\n",
    "opt.root_scalar(f,method='bisect', bracket=[0,3], maxiter=200, xtol=1e-10)"
   ]
  },
  {
   "cell_type": "markdown",
   "metadata": {},
   "source": [
    "##### Método da falsa posição"
   ]
  },
  {
   "cell_type": "code",
   "execution_count": 43,
   "metadata": {
    "run_control": {
     "marked": false
    }
   },
   "outputs": [
    {
     "data": {
      "text/plain": [
       "1.4928787086636037"
      ]
     },
     "execution_count": 43,
     "metadata": {},
     "output_type": "execute_result"
    }
   ],
   "source": [
    "x_i = 0\n",
    "x_u = 3\n",
    "iteracoes = 200\n",
    "tolerancia = 1e-10\n",
    "\n",
    "valores = falsa_posicao(f, x_i, x_u, iteracoes, tolerancia)\n",
    "valores[-1]"
   ]
  },
  {
   "cell_type": "markdown",
   "metadata": {},
   "source": [
    "##### Método do ponto fixo"
   ]
  },
  {
   "cell_type": "code",
   "execution_count": 44,
   "metadata": {},
   "outputs": [],
   "source": [
    "g = lambda x:(2 * x ** 4 + 4 * x ** 3 + 3 * x ** 2 - 15) / 10"
   ]
  },
  {
   "cell_type": "code",
   "execution_count": 45,
   "metadata": {},
   "outputs": [
    {
     "name": "stdout",
     "output_type": "stream",
     "text": [
      "17.7 ms ± 1.07 ms per loop (mean ± std. dev. of 7 runs, 100 loops each)\n"
     ]
    },
    {
     "data": {
      "text/plain": [
       "array(1.49287871)"
      ]
     },
     "execution_count": 45,
     "metadata": {},
     "output_type": "execute_result"
    }
   ],
   "source": [
    "%timeit opt.fixed_point(g, 3, xtol=1e-10, maxiter=200)\n",
    "opt.fixed_point(g, 3, xtol=1e-10, maxiter=200)"
   ]
  },
  {
   "cell_type": "markdown",
   "metadata": {},
   "source": [
    "##### Método de Newton-Raphson"
   ]
  },
  {
   "cell_type": "code",
   "execution_count": 46,
   "metadata": {
    "run_control": {
     "marked": false
    }
   },
   "outputs": [
    {
     "data": {
      "text/plain": [
       "      converged: True\n",
       "           flag: 'converged'\n",
       " function_calls: 14\n",
       "     iterations: 7\n",
       "           root: 1.4928787086636037"
      ]
     },
     "execution_count": 46,
     "metadata": {},
     "output_type": "execute_result"
    }
   ],
   "source": [
    "x = symbols('x')\n",
    "derivada = diff(f(x))\n",
    "f_1 = lambdify(x, derivada, 'numpy')\n",
    "opt.root_scalar(f, fprime=f_1, x0=3, method='newton', maxiter=200, xtol=1e-10)"
   ]
  },
  {
   "cell_type": "code",
   "execution_count": 47,
   "metadata": {},
   "outputs": [
    {
     "name": "stdout",
     "output_type": "stream",
     "text": [
      "346 µs ± 50.4 µs per loop (mean ± std. dev. of 7 runs, 1000 loops each)\n"
     ]
    }
   ],
   "source": [
    "%timeit opt.root_scalar(f, fprime=f_1, x0=3, method='newton', maxiter=200, xtol=1e-10)"
   ]
  },
  {
   "cell_type": "markdown",
   "metadata": {},
   "source": [
    "##### Método da secante"
   ]
  },
  {
   "cell_type": "code",
   "execution_count": 48,
   "metadata": {
    "scrolled": false
   },
   "outputs": [
    {
     "name": "stdout",
     "output_type": "stream",
     "text": [
      "500 µs ± 13.3 µs per loop (mean ± std. dev. of 7 runs, 1000 loops each)\n"
     ]
    },
    {
     "data": {
      "text/plain": [
       "      converged: True\n",
       "           flag: 'converged'\n",
       " function_calls: 12\n",
       "     iterations: 11\n",
       "           root: -1.3003841326439196"
      ]
     },
     "execution_count": 48,
     "metadata": {},
     "output_type": "execute_result"
    }
   ],
   "source": [
    "%timeit opt.root_scalar(f, x0=3, x1=0, xtol = 1e-10, maxiter=200, method='secant')\n",
    "opt.root_scalar(f, x0=3, x1=0, xtol = 1e-10, maxiter=200, method='secant')"
   ]
  },
  {
   "cell_type": "code",
   "execution_count": 49,
   "metadata": {},
   "outputs": [
    {
     "name": "stdout",
     "output_type": "stream",
     "text": [
      "448 µs ± 21.8 µs per loop (mean ± std. dev. of 7 runs, 1000 loops each)\n"
     ]
    },
    {
     "data": {
      "text/plain": [
       "      converged: True\n",
       "           flag: 'converged'\n",
       " function_calls: 11\n",
       "     iterations: 10\n",
       "           root: 1.4928787086636035"
      ]
     },
     "execution_count": 49,
     "metadata": {},
     "output_type": "execute_result"
    }
   ],
   "source": [
    "%timeit opt.root_scalar(f, x0=3, x1=1, xtol = 1e-10, maxiter=200, method='secant')\n",
    "opt.root_scalar(f, x0=3, x1=1, xtol = 1e-10, maxiter=200, method='secant')"
   ]
  },
  {
   "cell_type": "markdown",
   "metadata": {},
   "source": [
    "#### b)\n",
    "\n",
    "$$\n",
    "f_{2}(x)=(x+3)(x+1)(x-2)^{3}, \\operatorname{com} x^{*} \\in[0,5]\n",
    "$$"
   ]
  },
  {
   "cell_type": "code",
   "execution_count": 50,
   "metadata": {},
   "outputs": [],
   "source": [
    "f = lambda x: (x + 3) * (x + 1) * (x - 2) ** 3 "
   ]
  },
  {
   "cell_type": "code",
   "execution_count": 51,
   "metadata": {},
   "outputs": [
    {
     "data": {
      "image/png": "[encoded data removed]",
      "text/plain": [
       "<Figure size 432x288 with 1 Axes>"
      ]
     },
     "metadata": {
      "needs_background": "light"
     },
     "output_type": "display_data"
    }
   ],
   "source": [
    "x = np.linspace(0, 5,10000)\n",
    "plt.plot(x,f(x))\n",
    "plt.grid(True)"
   ]
  },
  {
   "cell_type": "markdown",
   "metadata": {},
   "source": [
    "##### Método da bisseção"
   ]
  },
  {
   "cell_type": "code",
   "execution_count": 52,
   "metadata": {},
   "outputs": [
    {
     "name": "stdout",
     "output_type": "stream",
     "text": [
      "35 µs ± 934 ns per loop (mean ± std. dev. of 7 runs, 10000 loops each)\n"
     ]
    },
    {
     "data": {
      "text/plain": [
       "      converged: True\n",
       "           flag: 'converged'\n",
       " function_calls: 38\n",
       "     iterations: 36\n",
       "           root: 2.0000000000436557"
      ]
     },
     "execution_count": 52,
     "metadata": {},
     "output_type": "execute_result"
    }
   ],
   "source": [
    "%timeit opt.root_scalar(f,method='bisect', bracket=[0,5], maxiter=200, xtol=1e-10)\n",
    "opt.root_scalar(f,method='bisect', bracket=[0,5], maxiter=200, xtol=1e-10)"
   ]
  },
  {
   "cell_type": "markdown",
   "metadata": {},
   "source": [
    "##### Método da falsa posição"
   ]
  },
  {
   "cell_type": "code",
   "execution_count": 53,
   "metadata": {
    "run_control": {
     "marked": false
    }
   },
   "outputs": [
    {
     "data": {
      "text/plain": [
       "1.714409136227648"
      ]
     },
     "execution_count": 53,
     "metadata": {},
     "output_type": "execute_result"
    }
   ],
   "source": [
    "x_i = 0\n",
    "x_u = 5\n",
    "iteracoes = 200\n",
    "tolerancia = 1e-10\n",
    "\n",
    "valores = falsa_posicao(f, x_i, x_u, iteracoes, tolerancia)\n",
    "valores[-1]\n"
   ]
  },
  {
   "cell_type": "markdown",
   "metadata": {},
   "source": [
    "##### Método do ponto fixo\n",
    "\n",
    "$x^5-2x^4-9x^3+22x^2+4x-24$"
   ]
  },
  {
   "cell_type": "code",
   "execution_count": 54,
   "metadata": {},
   "outputs": [],
   "source": [
    "g = lambda x: (x ** 5 - 2 * x ** 4 - 9 * x ** 3 + 22 * x ** 2 - 24) / -4"
   ]
  },
  {
   "cell_type": "code",
   "execution_count": 55,
   "metadata": {},
   "outputs": [
    {
     "name": "stdout",
     "output_type": "stream",
     "text": [
      "364 µs ± 28 µs per loop (mean ± std. dev. of 7 runs, 1000 loops each)\n"
     ]
    },
    {
     "data": {
      "text/plain": [
       "array(-3.)"
      ]
     },
     "execution_count": 55,
     "metadata": {},
     "output_type": "execute_result"
    }
   ],
   "source": [
    "%timeit opt.fixed_point(g, 3, xtol=1e-10, maxiter=200)\n",
    "opt.fixed_point(g, 3, xtol=1e-10, maxiter=200)"
   ]
  },
  {
   "cell_type": "markdown",
   "metadata": {},
   "source": [
    "##### Método de Newton-Raphson"
   ]
  },
  {
   "cell_type": "code",
   "execution_count": 56,
   "metadata": {
    "run_control": {
     "marked": false
    }
   },
   "outputs": [
    {
     "data": {
      "text/plain": [
       "      converged: True\n",
       "           flag: 'converged'\n",
       " function_calls: 112\n",
       "     iterations: 56\n",
       "           root: 2.0000000001726277"
      ]
     },
     "execution_count": 56,
     "metadata": {},
     "output_type": "execute_result"
    }
   ],
   "source": [
    "x = symbols('x')\n",
    "derivada = diff(f(x))\n",
    "f_1 = lambdify(x, derivada, 'numpy')\n",
    "opt.root_scalar(f, fprime=f_1, x0=3, method='newton', maxiter=200, xtol=1e-10)"
   ]
  },
  {
   "cell_type": "code",
   "execution_count": 57,
   "metadata": {},
   "outputs": [
    {
     "name": "stdout",
     "output_type": "stream",
     "text": [
      "2.37 ms ± 93.6 µs per loop (mean ± std. dev. of 7 runs, 100 loops each)\n"
     ]
    }
   ],
   "source": [
    "%timeit opt.root_scalar(f, fprime=f_1, x0=3, method='newton', maxiter=200, xtol=1e-10)"
   ]
  },
  {
   "cell_type": "markdown",
   "metadata": {},
   "source": [
    "##### Método da secante"
   ]
  },
  {
   "cell_type": "code",
   "execution_count": 58,
   "metadata": {},
   "outputs": [
    {
     "name": "stdout",
     "output_type": "stream",
     "text": [
      "3.06 ms ± 73.4 µs per loop (mean ± std. dev. of 7 runs, 100 loops each)\n"
     ]
    },
    {
     "data": {
      "text/plain": [
       "      converged: True\n",
       "           flag: 'converged'\n",
       " function_calls: 79\n",
       "     iterations: 78\n",
       "           root: 2.0000000002448965"
      ]
     },
     "execution_count": 58,
     "metadata": {},
     "output_type": "execute_result"
    }
   ],
   "source": [
    "%timeit opt.root_scalar(f, x0=5, x1=0, xtol = 1e-10, maxiter=200, method='secant')\n",
    "opt.root_scalar(f, x0=5, x1=0, xtol = 1e-10, maxiter=200, method='secant')"
   ]
  },
  {
   "cell_type": "markdown",
   "metadata": {},
   "source": [
    "#### c)\n",
    "\n",
    "$$\n",
    "f_{3}(x)=5 x^{3}+x^{2}-e^{1-2 x}+\\cos (x)+20, \\operatorname{com} x^{*} \\in[-5,5]\n",
    "$$"
   ]
  },
  {
   "cell_type": "code",
   "execution_count": 59,
   "metadata": {},
   "outputs": [],
   "source": [
    "f = lambda x: 5 * x ** 3 + x ** 2 - np.exp(1 - 2 * x) + np.cos(x) + 20"
   ]
  },
  {
   "cell_type": "code",
   "execution_count": 60,
   "metadata": {},
   "outputs": [
    {
     "data": {
      "image/png": "[encoded data removed]",
      "text/plain": [
       "<Figure size 432x288 with 1 Axes>"
      ]
     },
     "metadata": {
      "needs_background": "light"
     },
     "output_type": "display_data"
    }
   ],
   "source": [
    "x = np.linspace(-5, 5,10000)\n",
    "plt.plot(x,f(x))\n",
    "plt.grid(True)"
   ]
  },
  {
   "cell_type": "markdown",
   "metadata": {},
   "source": [
    "##### Método da bisseção"
   ]
  },
  {
   "cell_type": "code",
   "execution_count": 61,
   "metadata": {},
   "outputs": [
    {
     "name": "stdout",
     "output_type": "stream",
     "text": [
      "174 µs ± 13.4 µs per loop (mean ± std. dev. of 7 runs, 10000 loops each)\n"
     ]
    },
    {
     "data": {
      "text/plain": [
       "      converged: True\n",
       "           flag: 'converged'\n",
       " function_calls: 39\n",
       "     iterations: 37\n",
       "           root: -0.9295604598446516"
      ]
     },
     "execution_count": 61,
     "metadata": {},
     "output_type": "execute_result"
    }
   ],
   "source": [
    "%timeit opt.root_scalar(f,method='bisect', bracket=[-5,5], maxiter=200, xtol=1e-10)\n",
    "opt.root_scalar(f,method='bisect', bracket=[-5,5], maxiter=200, xtol=1e-10)"
   ]
  },
  {
   "cell_type": "markdown",
   "metadata": {},
   "source": [
    "##### Método da falsa posição"
   ]
  },
  {
   "cell_type": "code",
   "execution_count": 62,
   "metadata": {},
   "outputs": [
    {
     "data": {
      "text/plain": [
       "1.568769261078004"
      ]
     },
     "execution_count": 62,
     "metadata": {},
     "output_type": "execute_result"
    }
   ],
   "source": [
    "x_i = -5\n",
    "x_u = 5\n",
    "iteracoes = 200\n",
    "tolerancia = 1e-10\n",
    "\n",
    "valores = falsa_posicao(f, x_i, x_u, iteracoes, tolerancia)\n",
    "valores[-1]"
   ]
  },
  {
   "cell_type": "markdown",
   "metadata": {},
   "source": [
    "##### Método do ponto fixo"
   ]
  },
  {
   "cell_type": "code",
   "execution_count": 63,
   "metadata": {},
   "outputs": [],
   "source": [
    "g = lambda x: (5 * x ** 3 - np.exp(1 - 2 * x) + np.cos(x) + 20) / -x"
   ]
  },
  {
   "cell_type": "code",
   "execution_count": 64,
   "metadata": {},
   "outputs": [
    {
     "name": "stderr",
     "output_type": "stream",
     "text": [
      "C:\\Users\\jarde\\Anaconda3\\lib\\site-packages\\ipykernel_launcher.py:1: RuntimeWarning: overflow encountered in exp\n",
      "  \"\"\"Entry point for launching an IPython kernel.\n"
     ]
    },
    {
     "name": "stdout",
     "output_type": "stream",
     "text": [
      "207 µs ± 6.41 µs per loop (mean ± std. dev. of 7 runs, 1000 loops each)\n"
     ]
    },
    {
     "data": {
      "text/plain": [
       "array(-5.)"
      ]
     },
     "execution_count": 64,
     "metadata": {},
     "output_type": "execute_result"
    }
   ],
   "source": [
    "%timeit opt.fixed_point(g, -5, xtol=1e-10, maxiter=200)\n",
    "opt.fixed_point(g, -5, xtol=1e-10, maxiter=200)"
   ]
  },
  {
   "cell_type": "markdown",
   "metadata": {},
   "source": [
    "##### Método de Newton-Raphson"
   ]
  },
  {
   "cell_type": "code",
   "execution_count": 65,
   "metadata": {
    "run_control": {
     "marked": false
    }
   },
   "outputs": [
    {
     "data": {
      "text/plain": [
       "      converged: True\n",
       "           flag: 'converged'\n",
       " function_calls: 26\n",
       "     iterations: 13\n",
       "           root: -0.9295604598378413"
      ]
     },
     "execution_count": 65,
     "metadata": {},
     "output_type": "execute_result"
    }
   ],
   "source": [
    "x = symbols('x')\n",
    "f = lambda x: 5 * x ** 3 + x ** 2 - exp(1 - 2 * x) + cos(x) + 20\n",
    "derivada = diff(f(x))\n",
    "\n",
    "f_1 = lambdify(x, derivada, 'numpy')\n",
    "f = lambda x: 5 * x ** 3 + x ** 2 - np.exp(1 - 2 * x) + np.cos(x) + 20\n",
    "opt.root_scalar(f, fprime=f_1, x0=-5, method='newton', maxiter=200, xtol=1e-10)"
   ]
  },
  {
   "cell_type": "code",
   "execution_count": 66,
   "metadata": {},
   "outputs": [
    {
     "name": "stdout",
     "output_type": "stream",
     "text": [
      "750 µs ± 8.59 µs per loop (mean ± std. dev. of 7 runs, 1000 loops each)\n"
     ]
    }
   ],
   "source": [
    "%timeit opt.root_scalar(f, fprime=f_1, x0=-5, method='newton', maxiter=200, xtol=1e-10)"
   ]
  },
  {
   "cell_type": "markdown",
   "metadata": {},
   "source": [
    "##### Método da secante"
   ]
  },
  {
   "cell_type": "code",
   "execution_count": 67,
   "metadata": {},
   "outputs": [
    {
     "name": "stdout",
     "output_type": "stream",
     "text": [
      "1.2 ms ± 31.5 µs per loop (mean ± std. dev. of 7 runs, 1000 loops each)\n"
     ]
    },
    {
     "data": {
      "text/plain": [
       "      converged: True\n",
       "           flag: 'converged'\n",
       " function_calls: 25\n",
       "     iterations: 24\n",
       "           root: -0.9295604598378412"
      ]
     },
     "execution_count": 67,
     "metadata": {},
     "output_type": "execute_result"
    }
   ],
   "source": [
    "%timeit opt.root_scalar(f, x0=-5, x1=5, xtol = 1e-10, maxiter=200, method='secant')\n",
    "opt.root_scalar(f, x0=-5, x1=5, xtol = 1e-10, maxiter=200, method='secant')"
   ]
  },
  {
   "cell_type": "markdown",
   "metadata": {},
   "source": [
    "#### d)\n",
    "\n",
    "$$\n",
    "f_{4}(x)=\\sin (x) x+4, \\operatorname{com} x^{*} \\in[1,5]\n",
    "$$"
   ]
  },
  {
   "cell_type": "code",
   "execution_count": 68,
   "metadata": {},
   "outputs": [],
   "source": [
    "f = lambda x: np.sin(x) * x + 4"
   ]
  },
  {
   "cell_type": "code",
   "execution_count": 69,
   "metadata": {},
   "outputs": [
    {
     "data": {
      "image/png": "[encoded data removed]",
      "text/plain": [
       "<Figure size 432x288 with 1 Axes>"
      ]
     },
     "metadata": {
      "needs_background": "light"
     },
     "output_type": "display_data"
    }
   ],
   "source": [
    "x = np.linspace(1, 5,10000)\n",
    "plt.plot(x,f(x))\n",
    "plt.grid(True)"
   ]
  },
  {
   "cell_type": "markdown",
   "metadata": {},
   "source": [
    "##### Método da bisseção"
   ]
  },
  {
   "cell_type": "code",
   "execution_count": 70,
   "metadata": {},
   "outputs": [
    {
     "name": "stdout",
     "output_type": "stream",
     "text": [
      "93 µs ± 9.71 µs per loop (mean ± std. dev. of 7 runs, 10000 loops each)\n"
     ]
    },
    {
     "data": {
      "text/plain": [
       "      converged: True\n",
       "           flag: 'converged'\n",
       " function_calls: 38\n",
       "     iterations: 36\n",
       "           root: 4.323239543766249"
      ]
     },
     "execution_count": 70,
     "metadata": {},
     "output_type": "execute_result"
    }
   ],
   "source": [
    "%timeit opt.root_scalar(f,method='bisect', bracket=[1,5], maxiter=200, xtol=1e-10)\n",
    "opt.root_scalar(f,method='bisect', bracket=[1,5], maxiter=200, xtol=1e-10)"
   ]
  },
  {
   "cell_type": "markdown",
   "metadata": {},
   "source": [
    "##### Método da falsa posição"
   ]
  },
  {
   "cell_type": "code",
   "execution_count": 71,
   "metadata": {},
   "outputs": [
    {
     "data": {
      "text/plain": [
       "4.323239543713714"
      ]
     },
     "execution_count": 71,
     "metadata": {},
     "output_type": "execute_result"
    }
   ],
   "source": [
    "x_i = 1\n",
    "x_u = 5\n",
    "iteracoes = 200\n",
    "tolerancia = 1e-10\n",
    "\n",
    "valores = falsa_posicao(f, x_i, x_u, iteracoes, tolerancia)\n",
    "valores[-1]"
   ]
  },
  {
   "cell_type": "markdown",
   "metadata": {},
   "source": [
    "##### Método do ponto fixo"
   ]
  },
  {
   "cell_type": "code",
   "execution_count": 72,
   "metadata": {},
   "outputs": [],
   "source": [
    "g = lambda x: -4 / np.sin(x)"
   ]
  },
  {
   "cell_type": "code",
   "execution_count": 73,
   "metadata": {},
   "outputs": [
    {
     "name": "stdout",
     "output_type": "stream",
     "text": [
      "1.19 ms ± 25.1 µs per loop (mean ± std. dev. of 7 runs, 1000 loops each)\n"
     ]
    },
    {
     "data": {
      "text/plain": [
       "array(-4.32323954)"
      ]
     },
     "execution_count": 73,
     "metadata": {},
     "output_type": "execute_result"
    }
   ],
   "source": [
    "%timeit opt.fixed_point(g, 1, xtol=1e-10, maxiter=200)\n",
    "opt.fixed_point(g, 1, xtol=1e-10, maxiter=200)"
   ]
  },
  {
   "cell_type": "markdown",
   "metadata": {},
   "source": [
    "##### Método de Newton-Raphson"
   ]
  },
  {
   "cell_type": "code",
   "execution_count": 74,
   "metadata": {
    "run_control": {
     "marked": false
    }
   },
   "outputs": [
    {
     "data": {
      "text/plain": [
       "      converged: True\n",
       "           flag: 'converged'\n",
       " function_calls: 14\n",
       "     iterations: 7\n",
       "           root: -5.461308012588998"
      ]
     },
     "execution_count": 74,
     "metadata": {},
     "output_type": "execute_result"
    }
   ],
   "source": [
    "x = symbols('x')\n",
    "f = lambda x: sin(x) * x + 4\n",
    "derivada = diff(f(x))\n",
    "\n",
    "f_1 = lambdify(x, derivada, 'numpy')\n",
    "f = lambda x: np.sin(x) * x + 4\n",
    "opt.root_scalar(f, fprime=f_1, x0=-5, method='newton', maxiter=200, xtol=1e-10)"
   ]
  },
  {
   "cell_type": "code",
   "execution_count": 75,
   "metadata": {},
   "outputs": [
    {
     "name": "stdout",
     "output_type": "stream",
     "text": [
      "357 µs ± 7.1 µs per loop (mean ± std. dev. of 7 runs, 1000 loops each)\n"
     ]
    }
   ],
   "source": [
    "%timeit opt.root_scalar(f, fprime=f_1, x0=-5, method='newton', maxiter=200, xtol=1e-10)"
   ]
  },
  {
   "cell_type": "markdown",
   "metadata": {},
   "source": [
    "##### Método da secante"
   ]
  },
  {
   "cell_type": "code",
   "execution_count": 76,
   "metadata": {},
   "outputs": [
    {
     "name": "stdout",
     "output_type": "stream",
     "text": [
      "330 µs ± 6.47 µs per loop (mean ± std. dev. of 7 runs, 1000 loops each)\n"
     ]
    },
    {
     "data": {
      "text/plain": [
       "      converged: True\n",
       "           flag: 'converged'\n",
       " function_calls: 8\n",
       "     iterations: 7\n",
       "           root: 4.323239543713714"
      ]
     },
     "execution_count": 76,
     "metadata": {},
     "output_type": "execute_result"
    }
   ],
   "source": [
    "%timeit opt.root_scalar(f, x0=5, x1=1, xtol = 1e-10, maxiter=200, method='secant')\n",
    "opt.root_scalar(f, x0=5, x1=1, xtol = 1e-10, maxiter=200, method='secant')"
   ]
  },
  {
   "cell_type": "markdown",
   "metadata": {},
   "source": [
    "#### e)\n",
    "\n",
    "$$\n",
    "f_{5}(x)=(x-3)^{5} \\ln (x) \\mid, \\operatorname{com} x^{*} \\in[2,5]\n",
    "$$"
   ]
  },
  {
   "cell_type": "code",
   "execution_count": 77,
   "metadata": {},
   "outputs": [],
   "source": [
    "f = lambda x: (x - 3) ** 5 * np.log(x)"
   ]
  },
  {
   "cell_type": "code",
   "execution_count": 78,
   "metadata": {},
   "outputs": [
    {
     "data": {
      "image/png": "[encoded data removed]",
      "text/plain": [
       "<Figure size 432x288 with 1 Axes>"
      ]
     },
     "metadata": {
      "needs_background": "light"
     },
     "output_type": "display_data"
    }
   ],
   "source": [
    "x = np.linspace(2, 5,10000)\n",
    "plt.plot(x,f(x))\n",
    "plt.grid(True)"
   ]
  },
  {
   "cell_type": "markdown",
   "metadata": {},
   "source": [
    "##### Método da bisseção"
   ]
  },
  {
   "cell_type": "code",
   "execution_count": 79,
   "metadata": {},
   "outputs": [
    {
     "name": "stdout",
     "output_type": "stream",
     "text": [
      "99.9 µs ± 22.6 µs per loop (mean ± std. dev. of 7 runs, 10000 loops each)\n"
     ]
    },
    {
     "data": {
      "text/plain": [
       "      converged: True\n",
       "           flag: 'converged'\n",
       " function_calls: 37\n",
       "     iterations: 35\n",
       "           root: 3.000000000029104"
      ]
     },
     "execution_count": 79,
     "metadata": {},
     "output_type": "execute_result"
    }
   ],
   "source": [
    "%timeit opt.root_scalar(f,method='bisect', bracket=[2,5], maxiter=200, xtol=1e-10)\n",
    "opt.root_scalar(f,method='bisect', bracket=[2,5], maxiter=200, xtol=1e-10)"
   ]
  },
  {
   "cell_type": "markdown",
   "metadata": {},
   "source": [
    "##### Método da falsa posição"
   ]
  },
  {
   "cell_type": "code",
   "execution_count": 80,
   "metadata": {},
   "outputs": [
    {
     "data": {
      "text/plain": [
       "2.593909764205461"
      ]
     },
     "execution_count": 80,
     "metadata": {},
     "output_type": "execute_result"
    }
   ],
   "source": [
    "x_i = 2\n",
    "x_u = 5\n",
    "iteracoes = 200\n",
    "tolerancia = 1e-10\n",
    "\n",
    "valores = falsa_posicao(f, x_i, x_u, iteracoes, tolerancia)\n",
    "valores[-1]"
   ]
  },
  {
   "cell_type": "markdown",
   "metadata": {},
   "source": [
    "##### Método do ponto fixo"
   ]
  },
  {
   "cell_type": "code",
   "execution_count": 81,
   "metadata": {},
   "outputs": [],
   "source": [
    "g = lambda x: np.exp((x ** 5 * np.log(x) - 15 * x ** 4 * np.log(x) + 90 * x ** 3 * np.log(x) - 270 * x ** 2 * np.log(x) + 405 * x * np.log(x)) / 243)"
   ]
  },
  {
   "cell_type": "code",
   "execution_count": 82,
   "metadata": {},
   "outputs": [
    {
     "name": "stdout",
     "output_type": "stream",
     "text": [
      "1.65 s ± 46.5 ms per loop (mean ± std. dev. of 7 runs, 1 loop each)\n"
     ]
    },
    {
     "data": {
      "text/plain": [
       "array(3.0255312)"
      ]
     },
     "execution_count": 82,
     "metadata": {},
     "output_type": "execute_result"
    }
   ],
   "source": [
    "# maxiter = 200 -> Error\n",
    "%timeit opt.fixed_point(g, 5, xtol=1e-10, maxiter=9000)\n",
    "opt.fixed_point(g, 5, xtol=1e-10, maxiter=9000)"
   ]
  },
  {
   "cell_type": "markdown",
   "metadata": {},
   "source": [
    "##### Método de Newton-Raphson"
   ]
  },
  {
   "cell_type": "code",
   "execution_count": 83,
   "metadata": {},
   "outputs": [
    {
     "data": {
      "text/plain": [
       "      converged: True\n",
       "           flag: 'converged'\n",
       " function_calls: 194\n",
       "     iterations: 97\n",
       "           root: 2.99999999964898"
      ]
     },
     "execution_count": 83,
     "metadata": {},
     "output_type": "execute_result"
    }
   ],
   "source": [
    "x = symbols('x')\n",
    "f = lambda x: (x - 3) ** 5 * ln(x)\n",
    "derivada = diff(f(x))\n",
    "\n",
    "f_1 = lambdify(x, derivada, 'numpy')\n",
    "f = lambda x: (x - 3) ** 5 * np.log(x)\n",
    "opt.root_scalar(f, fprime=f_1, x0=2, method='newton', maxiter=200, xtol=1e-10)"
   ]
  },
  {
   "cell_type": "code",
   "execution_count": 84,
   "metadata": {},
   "outputs": [
    {
     "name": "stdout",
     "output_type": "stream",
     "text": [
      "4.93 ms ± 221 µs per loop (mean ± std. dev. of 7 runs, 100 loops each)\n"
     ]
    }
   ],
   "source": [
    "%timeit opt.root_scalar(f, fprime=f_1, x0=2, method='newton', maxiter=200, xtol=1e-10)"
   ]
  },
  {
   "cell_type": "markdown",
   "metadata": {},
   "source": [
    "##### Método da secante"
   ]
  },
  {
   "cell_type": "code",
   "execution_count": 85,
   "metadata": {},
   "outputs": [
    {
     "name": "stdout",
     "output_type": "stream",
     "text": [
      "6.16 ms ± 119 µs per loop (mean ± std. dev. of 7 runs, 100 loops each)\n"
     ]
    },
    {
     "data": {
      "text/plain": [
       "      converged: True\n",
       "           flag: 'converged'\n",
       " function_calls: 139\n",
       "     iterations: 138\n",
       "           root: 2.999999999418057"
      ]
     },
     "execution_count": 85,
     "metadata": {},
     "output_type": "execute_result"
    }
   ],
   "source": [
    "%timeit opt.root_scalar(f, x0=5, x1=2, xtol = 1e-10, maxiter=200, method='secant')\n",
    "opt.root_scalar(f, x0=5, x1=2, xtol = 1e-10, maxiter=200, method='secant')"
   ]
  },
  {
   "cell_type": "markdown",
   "metadata": {},
   "source": [
    "#### f)\n",
    "\n",
    "$$\n",
    "f_{6}(x)=x^{10} - 1, \\operatorname{com} x^{*} \\in[0.8,1.2]\n",
    "$$"
   ]
  },
  {
   "cell_type": "markdown",
   "metadata": {},
   "source": [
    "##### Método da bisseção"
   ]
  },
  {
   "cell_type": "code",
   "execution_count": 86,
   "metadata": {},
   "outputs": [],
   "source": [
    "f = lambda x: x ** 10 - 1"
   ]
  },
  {
   "cell_type": "code",
   "execution_count": 87,
   "metadata": {},
   "outputs": [
    {
     "data": {
      "image/png": "[encoded data removed]",
      "text/plain": [
       "<Figure size 432x288 with 1 Axes>"
      ]
     },
     "metadata": {
      "needs_background": "light"
     },
     "output_type": "display_data"
    }
   ],
   "source": [
    "x = np.linspace(0.8, 1.2,10000)\n",
    "plt.plot(x,f(x))\n",
    "plt.grid(True)"
   ]
  },
  {
   "cell_type": "markdown",
   "metadata": {},
   "source": [
    "##### Método da falsa posição"
   ]
  },
  {
   "cell_type": "code",
   "execution_count": 88,
   "metadata": {},
   "outputs": [
    {
     "data": {
      "text/plain": [
       "0.9999999999999998"
      ]
     },
     "execution_count": 88,
     "metadata": {},
     "output_type": "execute_result"
    }
   ],
   "source": [
    "x_i = 0.8\n",
    "x_u = 1.2\n",
    "iteracoes = 200\n",
    "tolerancia = 1e-10\n",
    "\n",
    "valores = falsa_posicao(f, x_i, x_u, iteracoes, tolerancia)\n",
    "valores[-1]"
   ]
  },
  {
   "cell_type": "markdown",
   "metadata": {},
   "source": [
    "##### Método do ponto fixo"
   ]
  },
  {
   "cell_type": "code",
   "execution_count": 89,
   "metadata": {},
   "outputs": [],
   "source": [
    "g = lambda x: x ** 11"
   ]
  },
  {
   "cell_type": "code",
   "execution_count": 90,
   "metadata": {},
   "outputs": [
    {
     "name": "stdout",
     "output_type": "stream",
     "text": [
      "455 µs ± 16.5 µs per loop (mean ± std. dev. of 7 runs, 1000 loops each)\n"
     ]
    },
    {
     "data": {
      "text/plain": [
       "array(0.)"
      ]
     },
     "execution_count": 90,
     "metadata": {},
     "output_type": "execute_result"
    }
   ],
   "source": [
    "%timeit opt.fixed_point(g, 0.8, xtol=1e-10, maxiter=200)\n",
    "opt.fixed_point(g, 0.8, xtol=1e-10, maxiter=200)"
   ]
  },
  {
   "cell_type": "markdown",
   "metadata": {},
   "source": [
    "##### Método de Newton-Raphson"
   ]
  },
  {
   "cell_type": "code",
   "execution_count": 91,
   "metadata": {},
   "outputs": [
    {
     "data": {
      "text/plain": [
       "      converged: True\n",
       "           flag: 'converged'\n",
       " function_calls: 20\n",
       "     iterations: 10\n",
       "           root: 1.0"
      ]
     },
     "execution_count": 91,
     "metadata": {},
     "output_type": "execute_result"
    }
   ],
   "source": [
    "x = symbols('x')\n",
    "derivada = diff(f(x))\n",
    "f_1 = lambdify(x, derivada, 'numpy')\n",
    "opt.root_scalar(f, fprime=f_1, x0=0.8, method='newton', maxiter=200, xtol=1e-10)"
   ]
  },
  {
   "cell_type": "markdown",
   "metadata": {},
   "source": [
    "##### Método da secante"
   ]
  },
  {
   "cell_type": "code",
   "execution_count": 92,
   "metadata": {},
   "outputs": [
    {
     "name": "stdout",
     "output_type": "stream",
     "text": [
      "484 µs ± 16.4 µs per loop (mean ± std. dev. of 7 runs, 1000 loops each)\n"
     ]
    },
    {
     "data": {
      "text/plain": [
       "      converged: True\n",
       "           flag: 'converged'\n",
       " function_calls: 12\n",
       "     iterations: 11\n",
       "           root: 1.0"
      ]
     },
     "execution_count": 92,
     "metadata": {},
     "output_type": "execute_result"
    }
   ],
   "source": [
    "%timeit opt.root_scalar(f, x0=1.2, x1=0.8, xtol = 1e-10, maxiter=200, method='secant')\n",
    "opt.root_scalar(f, x0=1.2, x1=0.8, xtol = 1e-10, maxiter=200, method='secant')"
   ]
  }
 ],
 "metadata": {
  "kernelspec": {
   "display_name": "Python 3",
   "language": "python",
   "name": "python3"
  },
  "language_info": {
   "codemirror_mode": {
    "name": "ipython",
    "version": 3
   },
   "file_extension": ".py",
   "mimetype": "text/x-python",
   "name": "python",
   "nbconvert_exporter": "python",
   "pygments_lexer": "ipython3",
   "version": "3.7.6"
  }
 },
 "nbformat": 4,
 "nbformat_minor": 4
}
